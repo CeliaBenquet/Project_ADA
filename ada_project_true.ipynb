{
 "cells": [
  {
   "cell_type": "markdown",
   "metadata": {},
   "source": [
    "# How food shapes the World - Ada project"
   ]
  },
  {
   "cell_type": "markdown",
   "metadata": {},
   "source": [
    "With 7.7 billion people around the world in 2019, food demand outbreak has raised serious concerns regarding productive agricultural land availability. As for now cultivable surface expansion has been the only real solution, this project aims at providing insights on how this problematic is currently shaping the world’s surface as we know it. Investigation will first focus on the kind of environment that are being impinged on. Moving on to the “destructive” impact of certain foodstuffs and diet trends, correlating with international trade flows. This study relies on FAOSTAT data set from the United Nation, helping us in the process.\n",
    "We endeavor at providing an exhaustive visualization of the world under growing food reshaping pressure. Key features will be surface evolution across time and space, selected crops impact as well as involved parties and areas. Tackling all of the above with both social awareness and self consciousness concerns."
   ]
  },
  {
   "cell_type": "markdown",
   "metadata": {},
   "source": [
    "## Libraries"
   ]
  },
  {
   "cell_type": "code",
   "execution_count": 16,
   "metadata": {},
   "outputs": [],
   "source": [
    "import pandas as pd\n",
    "import numpy as np\n",
    "import matplotlib.pyplot as plt\n",
    "import seaborn as sns"
   ]
  },
  {
   "cell_type": "markdown",
   "metadata": {},
   "source": [
    "## Opening the dataset"
   ]
  },
  {
   "cell_type": "markdown",
   "metadata": {},
   "source": [
    "First of all, we need to open the dataset on which we are working. That is, loading it and displayint as much of it as possible to get a better view from it."
   ]
  },
  {
   "cell_type": "code",
   "execution_count": 17,
   "metadata": {},
   "outputs": [],
   "source": [
    "datapath = \"Data/global-food-agriculture-statistics/\"\n",
    "current_fao = \"current_FAO/raw_files/\"\n",
    "\n",
    "savanna = pd.read_csv(datapath + current_fao + \"Emissions_Agriculture_Burning_Savanna_E_All_data_(Norm).csv\", sep=\",\", encoding=\"ANSI\")  # Less savanna\n",
    "crops = pd.read_csv(datapath + \"fao_data_crops_data.csv\", sep=\",\", encoding=\"UTF-8\")                                                     # Where every products are planted\n",
    "forests = pd.read_csv(datapath + current_fao + \"Emissions_Land_Use_Forest_Land_E_All_Data_(Norm).csv\", sep=\",\", encoding=\"ANSI\")         # Less forests\n",
    "livestock = pd.read_csv(datapath + current_fao + \"Trade_Crops_Livestock_E_All_Data_(Normalized).csv\", sep=\",\", encoding=\"ANSI\")          # Imports and exports "
   ]
  },
  {
   "cell_type": "markdown",
   "metadata": {},
   "source": [
    "We will now investigate each dataset and start to correlate them depending on the questions we want to answer for Milestone 3. \n",
    "\n",
    "### Table of contents\n",
    "\n",
    "1. [Savanna](#savanna) \n",
    "2. [Forests](#forests)\n",
    "3. [Merge of the Biomes Data Sets](#merge)\n",
    "4. [Crops](#crops)\n",
    "5. [Livestock](#livestock)\n",
    "6. [Data to answer the questions](#questions)"
   ]
  },
  {
   "cell_type": "markdown",
   "metadata": {},
   "source": [
    "<a id=\"savanna\"></a>\n",
    "### Savanna"
   ]
  },
  {
   "cell_type": "code",
   "execution_count": 3,
   "metadata": {},
   "outputs": [
    {
     "data": {
      "text/plain": [
       "Country Code      int64\n",
       "Country          object\n",
       "Item Code         int64\n",
       "Item             object\n",
       "Element Code      int64\n",
       "Element          object\n",
       "Year Code         int64\n",
       "Year              int64\n",
       "Unit             object\n",
       "Value           float64\n",
       "Flag             object\n",
       "dtype: object"
      ]
     },
     "execution_count": 3,
     "metadata": {},
     "output_type": "execute_result"
    }
   ],
   "source": [
    "savanna.dtypes"
   ]
  },
  {
   "cell_type": "code",
   "execution_count": 4,
   "metadata": {},
   "outputs": [
    {
     "data": {
      "text/html": [
       "<div>\n",
       "<style scoped>\n",
       "    .dataframe tbody tr th:only-of-type {\n",
       "        vertical-align: middle;\n",
       "    }\n",
       "\n",
       "    .dataframe tbody tr th {\n",
       "        vertical-align: top;\n",
       "    }\n",
       "\n",
       "    .dataframe thead th {\n",
       "        text-align: right;\n",
       "    }\n",
       "</style>\n",
       "<table border=\"1\" class=\"dataframe\">\n",
       "  <thead>\n",
       "    <tr style=\"text-align: right;\">\n",
       "      <th></th>\n",
       "      <th>Country Code</th>\n",
       "      <th>Country</th>\n",
       "      <th>Item Code</th>\n",
       "      <th>Item</th>\n",
       "      <th>Element Code</th>\n",
       "      <th>Element</th>\n",
       "      <th>Year Code</th>\n",
       "      <th>Year</th>\n",
       "      <th>Unit</th>\n",
       "      <th>Value</th>\n",
       "      <th>Flag</th>\n",
       "    </tr>\n",
       "  </thead>\n",
       "  <tbody>\n",
       "    <tr>\n",
       "      <td>0</td>\n",
       "      <td>2</td>\n",
       "      <td>Afghanistan</td>\n",
       "      <td>6760</td>\n",
       "      <td>Savanna</td>\n",
       "      <td>7246</td>\n",
       "      <td>Burned Area</td>\n",
       "      <td>1990</td>\n",
       "      <td>1990</td>\n",
       "      <td>Ha</td>\n",
       "      <td>0.9251</td>\n",
       "      <td>Fc</td>\n",
       "    </tr>\n",
       "  </tbody>\n",
       "</table>\n",
       "</div>"
      ],
      "text/plain": [
       "   Country Code      Country  Item Code     Item  Element Code      Element  \\\n",
       "0             2  Afghanistan       6760  Savanna          7246  Burned Area   \n",
       "\n",
       "   Year Code  Year Unit   Value Flag  \n",
       "0       1990  1990   Ha  0.9251   Fc  "
      ]
     },
     "execution_count": 4,
     "metadata": {},
     "output_type": "execute_result"
    }
   ],
   "source": [
    "savanna.head(1)"
   ]
  },
  {
   "cell_type": "markdown",
   "metadata": {},
   "source": [
    "#### Description:\n",
    "In this dataframe we have the following columns:\n",
    "- Country Code: One specific number per country\n",
    "- Country: list of country\n",
    "- Item Code: One specific number per Item\n",
    "- Item: A list of different ecosystems\n",
    "- Element Code: One specific munber per element\n",
    "- Element: What was actually calculated, measured or estimated\n",
    "- Year Code: One specific number per year (same as the year)\n",
    "- Year: The actual year\n",
    "- Unit: What is the unit of the value of \"Value\"\n",
    "- Value: The value found for the element\n",
    "- Flag: Info on where the data comes from (Fc, A, NaN, F)\n",
    "\n",
    "There is a total of 50'000 rows.\n",
    "\n",
    "All the years are registred since 1990 until 2014. There is then prediction for year 2030 and 2050.\n",
    "\n",
    "There is a total of 275 country like entries"
   ]
  },
  {
   "cell_type": "markdown",
   "metadata": {},
   "source": [
    "#### Selection of useful data\n",
    "As we are only interested in the area lost to burnings. We can do a first selection:"
   ]
  },
  {
   "cell_type": "code",
   "execution_count": 5,
   "metadata": {},
   "outputs": [
    {
     "data": {
      "text/html": [
       "<div>\n",
       "<style scoped>\n",
       "    .dataframe tbody tr th:only-of-type {\n",
       "        vertical-align: middle;\n",
       "    }\n",
       "\n",
       "    .dataframe tbody tr th {\n",
       "        vertical-align: top;\n",
       "    }\n",
       "\n",
       "    .dataframe thead th {\n",
       "        text-align: right;\n",
       "    }\n",
       "</style>\n",
       "<table border=\"1\" class=\"dataframe\">\n",
       "  <thead>\n",
       "    <tr style=\"text-align: right;\">\n",
       "      <th></th>\n",
       "      <th>Country Code</th>\n",
       "      <th>Country</th>\n",
       "      <th>Item Code</th>\n",
       "      <th>Item</th>\n",
       "      <th>Element Code</th>\n",
       "      <th>Element</th>\n",
       "      <th>Year Code</th>\n",
       "      <th>Year</th>\n",
       "      <th>Unit</th>\n",
       "      <th>Value</th>\n",
       "      <th>Flag</th>\n",
       "    </tr>\n",
       "  </thead>\n",
       "  <tbody>\n",
       "    <tr>\n",
       "      <td>0</td>\n",
       "      <td>2</td>\n",
       "      <td>Afghanistan</td>\n",
       "      <td>6760</td>\n",
       "      <td>Savanna</td>\n",
       "      <td>7246</td>\n",
       "      <td>Burned Area</td>\n",
       "      <td>1990</td>\n",
       "      <td>1990</td>\n",
       "      <td>Ha</td>\n",
       "      <td>0.9251</td>\n",
       "      <td>Fc</td>\n",
       "    </tr>\n",
       "    <tr>\n",
       "      <td>1</td>\n",
       "      <td>2</td>\n",
       "      <td>Afghanistan</td>\n",
       "      <td>6760</td>\n",
       "      <td>Savanna</td>\n",
       "      <td>7246</td>\n",
       "      <td>Burned Area</td>\n",
       "      <td>1991</td>\n",
       "      <td>1991</td>\n",
       "      <td>Ha</td>\n",
       "      <td>0.9251</td>\n",
       "      <td>Fc</td>\n",
       "    </tr>\n",
       "    <tr>\n",
       "      <td>2</td>\n",
       "      <td>2</td>\n",
       "      <td>Afghanistan</td>\n",
       "      <td>6760</td>\n",
       "      <td>Savanna</td>\n",
       "      <td>7246</td>\n",
       "      <td>Burned Area</td>\n",
       "      <td>1992</td>\n",
       "      <td>1992</td>\n",
       "      <td>Ha</td>\n",
       "      <td>0.9251</td>\n",
       "      <td>Fc</td>\n",
       "    </tr>\n",
       "    <tr>\n",
       "      <td>3</td>\n",
       "      <td>2</td>\n",
       "      <td>Afghanistan</td>\n",
       "      <td>6760</td>\n",
       "      <td>Savanna</td>\n",
       "      <td>7246</td>\n",
       "      <td>Burned Area</td>\n",
       "      <td>1993</td>\n",
       "      <td>1993</td>\n",
       "      <td>Ha</td>\n",
       "      <td>0.9251</td>\n",
       "      <td>Fc</td>\n",
       "    </tr>\n",
       "    <tr>\n",
       "      <td>4</td>\n",
       "      <td>2</td>\n",
       "      <td>Afghanistan</td>\n",
       "      <td>6760</td>\n",
       "      <td>Savanna</td>\n",
       "      <td>7246</td>\n",
       "      <td>Burned Area</td>\n",
       "      <td>1994</td>\n",
       "      <td>1994</td>\n",
       "      <td>Ha</td>\n",
       "      <td>0.9251</td>\n",
       "      <td>Fc</td>\n",
       "    </tr>\n",
       "  </tbody>\n",
       "</table>\n",
       "</div>"
      ],
      "text/plain": [
       "   Country Code      Country  Item Code     Item  Element Code      Element  \\\n",
       "0             2  Afghanistan       6760  Savanna          7246  Burned Area   \n",
       "1             2  Afghanistan       6760  Savanna          7246  Burned Area   \n",
       "2             2  Afghanistan       6760  Savanna          7246  Burned Area   \n",
       "3             2  Afghanistan       6760  Savanna          7246  Burned Area   \n",
       "4             2  Afghanistan       6760  Savanna          7246  Burned Area   \n",
       "\n",
       "   Year Code  Year Unit   Value Flag  \n",
       "0       1990  1990   Ha  0.9251   Fc  \n",
       "1       1991  1991   Ha  0.9251   Fc  \n",
       "2       1992  1992   Ha  0.9251   Fc  \n",
       "3       1993  1993   Ha  0.9251   Fc  \n",
       "4       1994  1994   Ha  0.9251   Fc  "
      ]
     },
     "execution_count": 5,
     "metadata": {},
     "output_type": "execute_result"
    }
   ],
   "source": [
    "savannaSurface = savanna[savanna['Element'].str.match('Burned Area')]\n",
    "savannaSurface.head()"
   ]
  },
  {
   "cell_type": "code",
   "execution_count": 6,
   "metadata": {},
   "outputs": [
    {
     "data": {
      "text/plain": [
       "0                         Savanna\n",
       "207                 Woody savanna\n",
       "444              Closed shrubland\n",
       "685                Open shrubland\n",
       "928                     Grassland\n",
       "1169     Burning - all categories\n",
       "1358    Savanna and woody savanna\n",
       "1547    Closed and open shrubland\n",
       "Name: Item, dtype: object"
      ]
     },
     "execution_count": 6,
     "metadata": {},
     "output_type": "execute_result"
    }
   ],
   "source": [
    "savanna.Item.drop_duplicates()"
   ]
  },
  {
   "cell_type": "markdown",
   "metadata": {},
   "source": [
    "Here is a list of all the different type of ecosystem on which we have data. It seems to contain 2 types of savana, two type of shrubland and grassland. In addition, the tree last categories are aparently agglomeration of the other items.\n",
    "Lets verify that:\n",
    "- The Savanna and woody savanna contains the values under the item Savanna and woody savanna.\n",
    "- Closed and open shrubland contains the values under the item closed shrubland and open shrubland.\n",
    "- Burning - all categories is a sum of all the types of ecosystem.\n",
    "\n",
    "To do that:"
   ]
  },
  {
   "cell_type": "code",
   "execution_count": 7,
   "metadata": {},
   "outputs": [
    {
     "name": "stdout",
     "output_type": "stream",
     "text": [
      "Total Savana :  245098958.1444  is equal to  245098958.1444\n",
      "Total shrubland :  26547260.456800003  is equal to  26547260.4567\n",
      "Total Surfaces :  311619836.7884  is equal to  311619836.7883\n"
     ]
    }
   ],
   "source": [
    "world_90 = savannaSurface.Value[(savannaSurface['Year']==1990)  & (savannaSurface['Country']=='World')].tolist()\n",
    "print('Total Savana : ', world_90[0] + world_90[1],' is equal to ', world_90[6])\n",
    "print('Total shrubland : ', world_90[2] + world_90[3],' is equal to ', world_90[7])\n",
    "print('Total Surfaces : ', sum(world_90[:5]), ' is equal to ', world_90[5])"
   ]
  },
  {
   "cell_type": "markdown",
   "metadata": {},
   "source": [
    "Our hypothesis were indeed correct. There are three main categories: Savana, Shrubland and grassland with subcategories. We also have the total surfaces burned in \"Burning - all categories\".\n",
    "\n",
    "We only keep the main Categories: Savana, Shrubland and grassland:"
   ]
  },
  {
   "cell_type": "code",
   "execution_count": 8,
   "metadata": {},
   "outputs": [],
   "source": [
    "savannaSurface = savannaSurface[(savannaSurface['Item']=='Savanna and woody savanna') | (savannaSurface['Item']=='Closed and open shrubland') | (savannaSurface['Item']=='Grassland')]\n",
    "savannaSurface = savannaSurface.replace('Savanna and woody savanna','Savanna')\n",
    "savannaSurface = savannaSurface.replace('Closed and open shrubland','Shrubland')"
   ]
  },
  {
   "cell_type": "markdown",
   "metadata": {},
   "source": [
    "Now, to have a better synergy between all the datasets we are using in this project. We need to keep only the years that are available in all the dataset. For this matter, we chose to study from 1995 to 2007. "
   ]
  },
  {
   "cell_type": "code",
   "execution_count": 9,
   "metadata": {},
   "outputs": [
    {
     "data": {
      "text/html": [
       "<div>\n",
       "<style scoped>\n",
       "    .dataframe tbody tr th:only-of-type {\n",
       "        vertical-align: middle;\n",
       "    }\n",
       "\n",
       "    .dataframe tbody tr th {\n",
       "        vertical-align: top;\n",
       "    }\n",
       "\n",
       "    .dataframe thead th {\n",
       "        text-align: right;\n",
       "    }\n",
       "</style>\n",
       "<table border=\"1\" class=\"dataframe\">\n",
       "  <thead>\n",
       "    <tr style=\"text-align: right;\">\n",
       "      <th></th>\n",
       "      <th>Country Code</th>\n",
       "      <th>Country</th>\n",
       "      <th>Item Code</th>\n",
       "      <th>Item</th>\n",
       "      <th>Element Code</th>\n",
       "      <th>Element</th>\n",
       "      <th>Year Code</th>\n",
       "      <th>Year</th>\n",
       "      <th>Unit</th>\n",
       "      <th>Value</th>\n",
       "      <th>Flag</th>\n",
       "    </tr>\n",
       "  </thead>\n",
       "  <tbody>\n",
       "    <tr>\n",
       "      <td>933</td>\n",
       "      <td>2</td>\n",
       "      <td>Afghanistan</td>\n",
       "      <td>6794</td>\n",
       "      <td>Grassland</td>\n",
       "      <td>7246</td>\n",
       "      <td>Burned Area</td>\n",
       "      <td>1995</td>\n",
       "      <td>1995</td>\n",
       "      <td>Ha</td>\n",
       "      <td>2323.1605</td>\n",
       "      <td>Fc</td>\n",
       "    </tr>\n",
       "    <tr>\n",
       "      <td>934</td>\n",
       "      <td>2</td>\n",
       "      <td>Afghanistan</td>\n",
       "      <td>6794</td>\n",
       "      <td>Grassland</td>\n",
       "      <td>7246</td>\n",
       "      <td>Burned Area</td>\n",
       "      <td>1996</td>\n",
       "      <td>1996</td>\n",
       "      <td>Ha</td>\n",
       "      <td>5349.2426</td>\n",
       "      <td>NaN</td>\n",
       "    </tr>\n",
       "  </tbody>\n",
       "</table>\n",
       "</div>"
      ],
      "text/plain": [
       "     Country Code      Country  Item Code       Item  Element Code  \\\n",
       "933             2  Afghanistan       6794  Grassland          7246   \n",
       "934             2  Afghanistan       6794  Grassland          7246   \n",
       "\n",
       "         Element  Year Code  Year Unit      Value Flag  \n",
       "933  Burned Area       1995  1995   Ha  2323.1605   Fc  \n",
       "934  Burned Area       1996  1996   Ha  5349.2426  NaN  "
      ]
     },
     "execution_count": 9,
     "metadata": {},
     "output_type": "execute_result"
    }
   ],
   "source": [
    "savannaSurface = savannaSurface[(savannaSurface['Year']>1994) & (savannaSurface['Year']<2008)]\n",
    "savannaSurface.head(2)"
   ]
  },
  {
   "cell_type": "markdown",
   "metadata": {},
   "source": [
    "Let's examinate the countries:\n",
    "The last 37 Countries of the column country do not contain countries, but the entire world and other group of countries."
   ]
  },
  {
   "cell_type": "code",
   "execution_count": 24,
   "metadata": {},
   "outputs": [
    {
     "name": "stdout",
     "output_type": "stream",
     "text": [
      "933                                   Afghanistan\n",
      "2657                                      Albania\n",
      "4425                                      Algeria\n",
      "5991                               American Samoa\n",
      "7503                                      Andorra\n",
      "                           ...                   \n",
      "426067          Low Income Food Deficit Countries\n",
      "427579    Net Food Importing Developing Countries\n",
      "429091                          Annex I countries\n",
      "430603                      Non-Annex I countries\n",
      "432115                                       OECD\n",
      "Name: Country, Length: 268, dtype: object\n",
      "933          Afghanistan\n",
      "2657             Albania\n",
      "4425             Algeria\n",
      "5991      American Samoa\n",
      "7503             Andorra\n",
      "               ...      \n",
      "371075    Western Sahara\n",
      "372587             Yemen\n",
      "374447            Zambia\n",
      "376229          Zimbabwe\n",
      "377795             World\n",
      "Name: Country, Length: 232, dtype: object\n"
     ]
    }
   ],
   "source": [
    "savannaSurface.Country.drop_duplicates()\n",
    "print(savannaSurface.Country.drop_duplicates())\n",
    "print(savannaSurface.Country.drop_duplicates().head(-36))"
   ]
  },
  {
   "cell_type": "markdown",
   "metadata": {},
   "source": [
    "In this project we want to find the burned areas by countries. Two other dataframes are also organized to have the burned area for specific regions like continants and for specific alliances or groups of countries, for exemple the OCDE."
   ]
  },
  {
   "cell_type": "code",
   "execution_count": 11,
   "metadata": {},
   "outputs": [
    {
     "data": {
      "text/html": [
       "<div>\n",
       "<style scoped>\n",
       "    .dataframe tbody tr th:only-of-type {\n",
       "        vertical-align: middle;\n",
       "    }\n",
       "\n",
       "    .dataframe tbody tr th {\n",
       "        vertical-align: top;\n",
       "    }\n",
       "\n",
       "    .dataframe thead th {\n",
       "        text-align: right;\n",
       "    }\n",
       "</style>\n",
       "<table border=\"1\" class=\"dataframe\">\n",
       "  <thead>\n",
       "    <tr style=\"text-align: right;\">\n",
       "      <th></th>\n",
       "      <th>Country Code</th>\n",
       "      <th>Country</th>\n",
       "      <th>Item Code</th>\n",
       "      <th>Item</th>\n",
       "      <th>Element Code</th>\n",
       "      <th>Element</th>\n",
       "      <th>Year Code</th>\n",
       "      <th>Year</th>\n",
       "      <th>Unit</th>\n",
       "      <th>Value</th>\n",
       "      <th>Flag</th>\n",
       "    </tr>\n",
       "  </thead>\n",
       "  <tbody>\n",
       "    <tr>\n",
       "      <td>933</td>\n",
       "      <td>2</td>\n",
       "      <td>Afghanistan</td>\n",
       "      <td>6794</td>\n",
       "      <td>Grassland</td>\n",
       "      <td>7246</td>\n",
       "      <td>Burned Area</td>\n",
       "      <td>1995</td>\n",
       "      <td>1995</td>\n",
       "      <td>Ha</td>\n",
       "      <td>2323.1605</td>\n",
       "      <td>Fc</td>\n",
       "    </tr>\n",
       "    <tr>\n",
       "      <td>934</td>\n",
       "      <td>2</td>\n",
       "      <td>Afghanistan</td>\n",
       "      <td>6794</td>\n",
       "      <td>Grassland</td>\n",
       "      <td>7246</td>\n",
       "      <td>Burned Area</td>\n",
       "      <td>1996</td>\n",
       "      <td>1996</td>\n",
       "      <td>Ha</td>\n",
       "      <td>5349.2426</td>\n",
       "      <td>NaN</td>\n",
       "    </tr>\n",
       "  </tbody>\n",
       "</table>\n",
       "</div>"
      ],
      "text/plain": [
       "     Country Code      Country  Item Code       Item  Element Code  \\\n",
       "933             2  Afghanistan       6794  Grassland          7246   \n",
       "934             2  Afghanistan       6794  Grassland          7246   \n",
       "\n",
       "         Element  Year Code  Year Unit      Value Flag  \n",
       "933  Burned Area       1995  1995   Ha  2323.1605   Fc  \n",
       "934  Burned Area       1996  1996   Ha  5349.2426  NaN  "
      ]
     },
     "execution_count": 11,
     "metadata": {},
     "output_type": "execute_result"
    }
   ],
   "source": [
    "savannaCountry = savannaSurface.truncate(after=377033)\n",
    "savannaCountry.head(2)"
   ]
  },
  {
   "cell_type": "code",
   "execution_count": 12,
   "metadata": {},
   "outputs": [
    {
     "data": {
      "text/html": [
       "<div>\n",
       "<style scoped>\n",
       "    .dataframe tbody tr th:only-of-type {\n",
       "        vertical-align: middle;\n",
       "    }\n",
       "\n",
       "    .dataframe tbody tr th {\n",
       "        vertical-align: top;\n",
       "    }\n",
       "\n",
       "    .dataframe thead th {\n",
       "        text-align: right;\n",
       "    }\n",
       "</style>\n",
       "<table border=\"1\" class=\"dataframe\">\n",
       "  <thead>\n",
       "    <tr style=\"text-align: right;\">\n",
       "      <th></th>\n",
       "      <th>Country Code</th>\n",
       "      <th>Country</th>\n",
       "      <th>Item Code</th>\n",
       "      <th>Item</th>\n",
       "      <th>Element Code</th>\n",
       "      <th>Element</th>\n",
       "      <th>Year Code</th>\n",
       "      <th>Year</th>\n",
       "      <th>Unit</th>\n",
       "      <th>Value</th>\n",
       "      <th>Flag</th>\n",
       "    </tr>\n",
       "  </thead>\n",
       "  <tbody>\n",
       "    <tr>\n",
       "      <td>377795</td>\n",
       "      <td>5000</td>\n",
       "      <td>World</td>\n",
       "      <td>6794</td>\n",
       "      <td>Grassland</td>\n",
       "      <td>7246</td>\n",
       "      <td>Burned Area</td>\n",
       "      <td>1995</td>\n",
       "      <td>1995</td>\n",
       "      <td>Ha</td>\n",
       "      <td>3.997362e+07</td>\n",
       "      <td>A</td>\n",
       "    </tr>\n",
       "    <tr>\n",
       "      <td>377796</td>\n",
       "      <td>5000</td>\n",
       "      <td>World</td>\n",
       "      <td>6794</td>\n",
       "      <td>Grassland</td>\n",
       "      <td>7246</td>\n",
       "      <td>Burned Area</td>\n",
       "      <td>1996</td>\n",
       "      <td>1996</td>\n",
       "      <td>Ha</td>\n",
       "      <td>3.501767e+07</td>\n",
       "      <td>A</td>\n",
       "    </tr>\n",
       "  </tbody>\n",
       "</table>\n",
       "</div>"
      ],
      "text/plain": [
       "        Country Code Country  Item Code       Item  Element Code      Element  \\\n",
       "377795          5000   World       6794  Grassland          7246  Burned Area   \n",
       "377796          5000   World       6794  Grassland          7246  Burned Area   \n",
       "\n",
       "        Year Code  Year Unit         Value Flag  \n",
       "377795       1995  1995   Ha  3.997362e+07    A  \n",
       "377796       1996  1996   Ha  3.501767e+07    A  "
      ]
     },
     "execution_count": 12,
     "metadata": {},
     "output_type": "execute_result"
    }
   ],
   "source": [
    "savannaRegion = savannaSurface.truncate(before=377033, after=420013)\n",
    "savannaRegion.head(2)"
   ]
  },
  {
   "cell_type": "code",
   "execution_count": 13,
   "metadata": {},
   "outputs": [
    {
     "data": {
      "text/html": [
       "<div>\n",
       "<style scoped>\n",
       "    .dataframe tbody tr th:only-of-type {\n",
       "        vertical-align: middle;\n",
       "    }\n",
       "\n",
       "    .dataframe tbody tr th {\n",
       "        vertical-align: top;\n",
       "    }\n",
       "\n",
       "    .dataframe thead th {\n",
       "        text-align: right;\n",
       "    }\n",
       "</style>\n",
       "<table border=\"1\" class=\"dataframe\">\n",
       "  <thead>\n",
       "    <tr style=\"text-align: right;\">\n",
       "      <th></th>\n",
       "      <th>Country Code</th>\n",
       "      <th>Country</th>\n",
       "      <th>Item Code</th>\n",
       "      <th>Item</th>\n",
       "      <th>Element Code</th>\n",
       "      <th>Element</th>\n",
       "      <th>Year Code</th>\n",
       "      <th>Year</th>\n",
       "      <th>Unit</th>\n",
       "      <th>Value</th>\n",
       "      <th>Flag</th>\n",
       "    </tr>\n",
       "  </thead>\n",
       "  <tbody>\n",
       "    <tr>\n",
       "      <td>420019</td>\n",
       "      <td>5706</td>\n",
       "      <td>European Union</td>\n",
       "      <td>6794</td>\n",
       "      <td>Grassland</td>\n",
       "      <td>7246</td>\n",
       "      <td>Burned Area</td>\n",
       "      <td>1995</td>\n",
       "      <td>1995</td>\n",
       "      <td>Ha</td>\n",
       "      <td>15107.9292</td>\n",
       "      <td>A</td>\n",
       "    </tr>\n",
       "    <tr>\n",
       "      <td>420020</td>\n",
       "      <td>5706</td>\n",
       "      <td>European Union</td>\n",
       "      <td>6794</td>\n",
       "      <td>Grassland</td>\n",
       "      <td>7246</td>\n",
       "      <td>Burned Area</td>\n",
       "      <td>1996</td>\n",
       "      <td>1996</td>\n",
       "      <td>Ha</td>\n",
       "      <td>17201.5004</td>\n",
       "      <td>A</td>\n",
       "    </tr>\n",
       "  </tbody>\n",
       "</table>\n",
       "</div>"
      ],
      "text/plain": [
       "        Country Code         Country  Item Code       Item  Element Code  \\\n",
       "420019          5706  European Union       6794  Grassland          7246   \n",
       "420020          5706  European Union       6794  Grassland          7246   \n",
       "\n",
       "            Element  Year Code  Year Unit       Value Flag  \n",
       "420019  Burned Area       1995  1995   Ha  15107.9292    A  \n",
       "420020  Burned Area       1996  1996   Ha  17201.5004    A  "
      ]
     },
     "execution_count": 13,
     "metadata": {},
     "output_type": "execute_result"
    }
   ],
   "source": [
    "savannaEconomical_segment = savannaSurface.truncate(before=420014)\n",
    "savannaEconomical_segment.head(2)"
   ]
  },
  {
   "cell_type": "markdown",
   "metadata": {},
   "source": [
    "Now we want to get rid of all the useless column:\n",
    "- Flag: It won't directly interest us. Just good to keep in mind that not all our data was collected in the same way\n",
    "- Unit: We are only dealing with [ha] now\n",
    "- Element: We only consider Burned Area, so no need to keep it in the dataframe\n",
    "- [...] Code: Do not really contain information"
   ]
  },
  {
   "cell_type": "code",
   "execution_count": 14,
   "metadata": {},
   "outputs": [],
   "source": [
    "savannaCountry = savannaCountry.drop(['Flag', 'Unit','Year Code', 'Element', 'Element Code','Country Code', 'Item Code'], axis=1)\\\n",
    "                             .rename(columns={\"Value\": \"Area_loss\",\"Item\": \"Ecosystem\"})\n",
    "savannaRegion = savannaRegion.drop(['Flag', 'Unit','Year Code', 'Element', 'Element Code','Country Code', 'Item Code'], axis=1)\\\n",
    "                             .rename(columns={\"Value\": \"Area_loss\",\"Item\": \"Ecosystem\"})\n",
    "savannaEconomical_segment = savannaEconomical_segment.drop(['Flag', 'Unit','Year Code', 'Element', 'Element Code','Country Code', 'Item Code'], axis=1)\\\n",
    "                             .rename(columns={\"Value\": \"Area_loss\",\"Item\": \"Ecosystem\"})"
   ]
  },
  {
   "cell_type": "markdown",
   "metadata": {},
   "source": [
    "Here is a summary of our three dataframes:"
   ]
  },
  {
   "cell_type": "code",
   "execution_count": 15,
   "metadata": {},
   "outputs": [
    {
     "data": {
      "text/html": [
       "<div>\n",
       "<style scoped>\n",
       "    .dataframe tbody tr th:only-of-type {\n",
       "        vertical-align: middle;\n",
       "    }\n",
       "\n",
       "    .dataframe tbody tr th {\n",
       "        vertical-align: top;\n",
       "    }\n",
       "\n",
       "    .dataframe thead th {\n",
       "        text-align: right;\n",
       "    }\n",
       "</style>\n",
       "<table border=\"1\" class=\"dataframe\">\n",
       "  <thead>\n",
       "    <tr style=\"text-align: right;\">\n",
       "      <th></th>\n",
       "      <th>Country</th>\n",
       "      <th>Ecosystem</th>\n",
       "      <th>Year</th>\n",
       "      <th>Area_loss</th>\n",
       "    </tr>\n",
       "  </thead>\n",
       "  <tbody>\n",
       "    <tr>\n",
       "      <td>933</td>\n",
       "      <td>Afghanistan</td>\n",
       "      <td>Grassland</td>\n",
       "      <td>1995</td>\n",
       "      <td>2323.1605</td>\n",
       "    </tr>\n",
       "    <tr>\n",
       "      <td>934</td>\n",
       "      <td>Afghanistan</td>\n",
       "      <td>Grassland</td>\n",
       "      <td>1996</td>\n",
       "      <td>5349.2426</td>\n",
       "    </tr>\n",
       "    <tr>\n",
       "      <td>935</td>\n",
       "      <td>Afghanistan</td>\n",
       "      <td>Grassland</td>\n",
       "      <td>1997</td>\n",
       "      <td>1191.8687</td>\n",
       "    </tr>\n",
       "    <tr>\n",
       "      <td>936</td>\n",
       "      <td>Afghanistan</td>\n",
       "      <td>Grassland</td>\n",
       "      <td>1998</td>\n",
       "      <td>19674.0298</td>\n",
       "    </tr>\n",
       "    <tr>\n",
       "      <td>937</td>\n",
       "      <td>Afghanistan</td>\n",
       "      <td>Grassland</td>\n",
       "      <td>1999</td>\n",
       "      <td>6007.4143</td>\n",
       "    </tr>\n",
       "  </tbody>\n",
       "</table>\n",
       "</div>"
      ],
      "text/plain": [
       "         Country  Ecosystem  Year   Area_loss\n",
       "933  Afghanistan  Grassland  1995   2323.1605\n",
       "934  Afghanistan  Grassland  1996   5349.2426\n",
       "935  Afghanistan  Grassland  1997   1191.8687\n",
       "936  Afghanistan  Grassland  1998  19674.0298\n",
       "937  Afghanistan  Grassland  1999   6007.4143"
      ]
     },
     "execution_count": 15,
     "metadata": {},
     "output_type": "execute_result"
    }
   ],
   "source": [
    "savannaCountry.head()"
   ]
  },
  {
   "cell_type": "code",
   "execution_count": 16,
   "metadata": {},
   "outputs": [
    {
     "data": {
      "text/html": [
       "<div>\n",
       "<style scoped>\n",
       "    .dataframe tbody tr th:only-of-type {\n",
       "        vertical-align: middle;\n",
       "    }\n",
       "\n",
       "    .dataframe tbody tr th {\n",
       "        vertical-align: top;\n",
       "    }\n",
       "\n",
       "    .dataframe thead th {\n",
       "        text-align: right;\n",
       "    }\n",
       "</style>\n",
       "<table border=\"1\" class=\"dataframe\">\n",
       "  <thead>\n",
       "    <tr style=\"text-align: right;\">\n",
       "      <th></th>\n",
       "      <th>Country</th>\n",
       "      <th>Ecosystem</th>\n",
       "      <th>Year</th>\n",
       "      <th>Area_loss</th>\n",
       "    </tr>\n",
       "  </thead>\n",
       "  <tbody>\n",
       "    <tr>\n",
       "      <td>420019</td>\n",
       "      <td>European Union</td>\n",
       "      <td>Grassland</td>\n",
       "      <td>1995</td>\n",
       "      <td>15107.9292</td>\n",
       "    </tr>\n",
       "    <tr>\n",
       "      <td>420020</td>\n",
       "      <td>European Union</td>\n",
       "      <td>Grassland</td>\n",
       "      <td>1996</td>\n",
       "      <td>17201.5004</td>\n",
       "    </tr>\n",
       "    <tr>\n",
       "      <td>420021</td>\n",
       "      <td>European Union</td>\n",
       "      <td>Grassland</td>\n",
       "      <td>1997</td>\n",
       "      <td>12652.5053</td>\n",
       "    </tr>\n",
       "    <tr>\n",
       "      <td>420022</td>\n",
       "      <td>European Union</td>\n",
       "      <td>Grassland</td>\n",
       "      <td>1998</td>\n",
       "      <td>26379.4422</td>\n",
       "    </tr>\n",
       "    <tr>\n",
       "      <td>420023</td>\n",
       "      <td>European Union</td>\n",
       "      <td>Grassland</td>\n",
       "      <td>1999</td>\n",
       "      <td>17202.5408</td>\n",
       "    </tr>\n",
       "  </tbody>\n",
       "</table>\n",
       "</div>"
      ],
      "text/plain": [
       "               Country  Ecosystem  Year   Area_loss\n",
       "420019  European Union  Grassland  1995  15107.9292\n",
       "420020  European Union  Grassland  1996  17201.5004\n",
       "420021  European Union  Grassland  1997  12652.5053\n",
       "420022  European Union  Grassland  1998  26379.4422\n",
       "420023  European Union  Grassland  1999  17202.5408"
      ]
     },
     "execution_count": 16,
     "metadata": {},
     "output_type": "execute_result"
    }
   ],
   "source": [
    "savannaEconomical_segment.head()"
   ]
  },
  {
   "cell_type": "code",
   "execution_count": 17,
   "metadata": {},
   "outputs": [
    {
     "data": {
      "text/html": [
       "<div>\n",
       "<style scoped>\n",
       "    .dataframe tbody tr th:only-of-type {\n",
       "        vertical-align: middle;\n",
       "    }\n",
       "\n",
       "    .dataframe tbody tr th {\n",
       "        vertical-align: top;\n",
       "    }\n",
       "\n",
       "    .dataframe thead th {\n",
       "        text-align: right;\n",
       "    }\n",
       "</style>\n",
       "<table border=\"1\" class=\"dataframe\">\n",
       "  <thead>\n",
       "    <tr style=\"text-align: right;\">\n",
       "      <th></th>\n",
       "      <th>Country</th>\n",
       "      <th>Ecosystem</th>\n",
       "      <th>Year</th>\n",
       "      <th>Area_loss</th>\n",
       "    </tr>\n",
       "  </thead>\n",
       "  <tbody>\n",
       "    <tr>\n",
       "      <td>377795</td>\n",
       "      <td>World</td>\n",
       "      <td>Grassland</td>\n",
       "      <td>1995</td>\n",
       "      <td>3.997362e+07</td>\n",
       "    </tr>\n",
       "    <tr>\n",
       "      <td>377796</td>\n",
       "      <td>World</td>\n",
       "      <td>Grassland</td>\n",
       "      <td>1996</td>\n",
       "      <td>3.501767e+07</td>\n",
       "    </tr>\n",
       "    <tr>\n",
       "      <td>377797</td>\n",
       "      <td>World</td>\n",
       "      <td>Grassland</td>\n",
       "      <td>1997</td>\n",
       "      <td>3.447965e+07</td>\n",
       "    </tr>\n",
       "    <tr>\n",
       "      <td>377798</td>\n",
       "      <td>World</td>\n",
       "      <td>Grassland</td>\n",
       "      <td>1998</td>\n",
       "      <td>4.058443e+07</td>\n",
       "    </tr>\n",
       "    <tr>\n",
       "      <td>377799</td>\n",
       "      <td>World</td>\n",
       "      <td>Grassland</td>\n",
       "      <td>1999</td>\n",
       "      <td>3.825170e+07</td>\n",
       "    </tr>\n",
       "  </tbody>\n",
       "</table>\n",
       "</div>"
      ],
      "text/plain": [
       "       Country  Ecosystem  Year     Area_loss\n",
       "377795   World  Grassland  1995  3.997362e+07\n",
       "377796   World  Grassland  1996  3.501767e+07\n",
       "377797   World  Grassland  1997  3.447965e+07\n",
       "377798   World  Grassland  1998  4.058443e+07\n",
       "377799   World  Grassland  1999  3.825170e+07"
      ]
     },
     "execution_count": 17,
     "metadata": {},
     "output_type": "execute_result"
    }
   ],
   "source": [
    "savannaRegion.head()"
   ]
  },
  {
   "cell_type": "markdown",
   "metadata": {},
   "source": [
    "#### Analysis of the desired value:\n",
    "In this dataset, only the total burned area interests us. Here is the description of the values:"
   ]
  },
  {
   "cell_type": "code",
   "execution_count": 18,
   "metadata": {},
   "outputs": [
    {
     "data": {
      "text/plain": [
       "count    8.883000e+03\n",
       "mean     4.689319e+05\n",
       "std      2.622205e+06\n",
       "min      0.000000e+00\n",
       "25%      0.000000e+00\n",
       "50%      9.508650e+01\n",
       "75%      1.058393e+04\n",
       "max      3.932319e+07\n",
       "Name: Area_loss, dtype: float64"
      ]
     },
     "execution_count": 18,
     "metadata": {},
     "output_type": "execute_result"
    }
   ],
   "source": [
    "savannaCountry['Area_loss'].describe()"
   ]
  },
  {
   "cell_type": "markdown",
   "metadata": {},
   "source": [
    "Let's plot the data to see how it looks like: \n",
    "- The plot is done for the 8 more conserned countries\n",
    "- The plot is done for savanna, another ecosystem will change the top 8 countries and obviously the area lost"
   ]
  },
  {
   "cell_type": "code",
   "execution_count": 19,
   "metadata": {},
   "outputs": [
    {
     "data": {
      "image/png": "[encoded data removed]",
      "text/plain": [
       "<Figure size 1080x432 with 1 Axes>"
      ]
     },
     "metadata": {
      "needs_background": "light"
     },
     "output_type": "display_data"
    }
   ],
   "source": [
    "z= savannaCountry[savannaCountry['Ecosystem'] == 'Savanna']\\\n",
    "                        .groupby(['Year','Country'])['Area_loss']\\\n",
    "                        .sum()\\\n",
    "                        .sort_values(ascending = False)\\\n",
    "                        .to_frame()[:85]\\\n",
    "                        .reset_index()\n",
    "plt.figure(figsize=(15,6))\n",
    "\n",
    "\n",
    "ax = sns.lineplot(x=\"Year\", y=\"Area_loss\", hue=\"Country\", data=z)\n",
    "\n",
    "ax.set_title('Area burned per year for 8 country for the ecosystem Savana')\n",
    "ax.set_xlim([1995,2007]);\n",
    "plt.xlabel('Year');\n",
    "plt.ylabel('Area lost');"
   ]
  },
  {
   "cell_type": "markdown",
   "metadata": {},
   "source": [
    "We see on the plot that our values are widely distributed. Indeed here we plot the countries with the biggest loses but a lot of other countries have 0 loses or near 0 values. If needed, a log scale can be used to see them clearly."
   ]
  },
  {
   "cell_type": "markdown",
   "metadata": {},
   "source": [
    "#### Use of Savanna\n",
    "\n",
    "The final dataframe: \"savannaFinal\" will be joined to the forest one to answer to the following question:\n",
    "- What is the global evolution of the cultivated surface on a world scale from 1995 to 2007?\n",
    "- What is the area lost of savanna, shrubland, grassland and forest per country?\n",
    "- Do we see a correlation between the area lost by ecosystems and the area gain by agriculture?\n",
    "- If there is a correlation between an increase in area cultivated and area lost from all the ecosystems, what would be approximatively the area lost because of these crops in particular?"
   ]
  },
  {
   "cell_type": "markdown",
   "metadata": {},
   "source": [
    "<a id=\"forests\"></a>\n",
    "### Forests"
   ]
  },
  {
   "cell_type": "code",
   "execution_count": 58,
   "metadata": {},
   "outputs": [
    {
     "data": {
      "text/plain": [
       "Country Code      int64\n",
       "Country          object\n",
       "Item Code         int64\n",
       "Item             object\n",
       "Element Code      int64\n",
       "Element          object\n",
       "Year Code         int64\n",
       "Year              int64\n",
       "Unit             object\n",
       "Value           float64\n",
       "Flag             object\n",
       "dtype: object"
      ]
     },
     "execution_count": 58,
     "metadata": {},
     "output_type": "execute_result"
    }
   ],
   "source": [
    "forests = pd.read_csv(datapath + current_fao + \"Emissions_Land_Use_Forest_Land_E_All_Data_(Norm).csv\", sep=\",\", encoding=\"ANSI\")         # Less forests\n",
    "forests.dtypes"
   ]
  },
  {
   "cell_type": "code",
   "execution_count": 59,
   "metadata": {},
   "outputs": [
    {
     "data": {
      "text/html": [
       "<div>\n",
       "<style scoped>\n",
       "    .dataframe tbody tr th:only-of-type {\n",
       "        vertical-align: middle;\n",
       "    }\n",
       "\n",
       "    .dataframe tbody tr th {\n",
       "        vertical-align: top;\n",
       "    }\n",
       "\n",
       "    .dataframe thead th {\n",
       "        text-align: right;\n",
       "    }\n",
       "</style>\n",
       "<table border=\"1\" class=\"dataframe\">\n",
       "  <thead>\n",
       "    <tr style=\"text-align: right;\">\n",
       "      <th></th>\n",
       "      <th>Country Code</th>\n",
       "      <th>Country</th>\n",
       "      <th>Item Code</th>\n",
       "      <th>Item</th>\n",
       "      <th>Element Code</th>\n",
       "      <th>Element</th>\n",
       "      <th>Year Code</th>\n",
       "      <th>Year</th>\n",
       "      <th>Unit</th>\n",
       "      <th>Value</th>\n",
       "      <th>Flag</th>\n",
       "    </tr>\n",
       "  </thead>\n",
       "  <tbody>\n",
       "    <tr>\n",
       "      <td>0</td>\n",
       "      <td>2</td>\n",
       "      <td>Afghanistan</td>\n",
       "      <td>6661</td>\n",
       "      <td>Forest</td>\n",
       "      <td>5110</td>\n",
       "      <td>Area</td>\n",
       "      <td>1990</td>\n",
       "      <td>1990</td>\n",
       "      <td>1000 Ha</td>\n",
       "      <td>1350.0000</td>\n",
       "      <td>F</td>\n",
       "    </tr>\n",
       "    <tr>\n",
       "      <td>1</td>\n",
       "      <td>2</td>\n",
       "      <td>Afghanistan</td>\n",
       "      <td>6661</td>\n",
       "      <td>Forest</td>\n",
       "      <td>5110</td>\n",
       "      <td>Area</td>\n",
       "      <td>1991</td>\n",
       "      <td>1991</td>\n",
       "      <td>1000 Ha</td>\n",
       "      <td>1350.0000</td>\n",
       "      <td>F</td>\n",
       "    </tr>\n",
       "    <tr>\n",
       "      <td>2</td>\n",
       "      <td>2</td>\n",
       "      <td>Afghanistan</td>\n",
       "      <td>6661</td>\n",
       "      <td>Forest</td>\n",
       "      <td>5110</td>\n",
       "      <td>Area</td>\n",
       "      <td>1992</td>\n",
       "      <td>1992</td>\n",
       "      <td>1000 Ha</td>\n",
       "      <td>1350.0000</td>\n",
       "      <td>F</td>\n",
       "    </tr>\n",
       "    <tr>\n",
       "      <td>3</td>\n",
       "      <td>2</td>\n",
       "      <td>Afghanistan</td>\n",
       "      <td>6661</td>\n",
       "      <td>Forest</td>\n",
       "      <td>5110</td>\n",
       "      <td>Area</td>\n",
       "      <td>1993</td>\n",
       "      <td>1993</td>\n",
       "      <td>1000 Ha</td>\n",
       "      <td>1350.0000</td>\n",
       "      <td>F</td>\n",
       "    </tr>\n",
       "    <tr>\n",
       "      <td>4</td>\n",
       "      <td>2</td>\n",
       "      <td>Afghanistan</td>\n",
       "      <td>6661</td>\n",
       "      <td>Forest</td>\n",
       "      <td>5110</td>\n",
       "      <td>Area</td>\n",
       "      <td>1994</td>\n",
       "      <td>1994</td>\n",
       "      <td>1000 Ha</td>\n",
       "      <td>1350.0000</td>\n",
       "      <td>F</td>\n",
       "    </tr>\n",
       "    <tr>\n",
       "      <td>...</td>\n",
       "      <td>...</td>\n",
       "      <td>...</td>\n",
       "      <td>...</td>\n",
       "      <td>...</td>\n",
       "      <td>...</td>\n",
       "      <td>...</td>\n",
       "      <td>...</td>\n",
       "      <td>...</td>\n",
       "      <td>...</td>\n",
       "      <td>...</td>\n",
       "      <td>...</td>\n",
       "    </tr>\n",
       "    <tr>\n",
       "      <td>73062</td>\n",
       "      <td>5873</td>\n",
       "      <td>OECD</td>\n",
       "      <td>6749</td>\n",
       "      <td>Forest land</td>\n",
       "      <td>72172</td>\n",
       "      <td>Net emissions/removal (CO2eq) (Forest land)</td>\n",
       "      <td>2011</td>\n",
       "      <td>2011</td>\n",
       "      <td>Gigagrams</td>\n",
       "      <td>-818448.2103</td>\n",
       "      <td>A</td>\n",
       "    </tr>\n",
       "    <tr>\n",
       "      <td>73063</td>\n",
       "      <td>5873</td>\n",
       "      <td>OECD</td>\n",
       "      <td>6749</td>\n",
       "      <td>Forest land</td>\n",
       "      <td>72172</td>\n",
       "      <td>Net emissions/removal (CO2eq) (Forest land)</td>\n",
       "      <td>2012</td>\n",
       "      <td>2012</td>\n",
       "      <td>Gigagrams</td>\n",
       "      <td>-818448.2103</td>\n",
       "      <td>A</td>\n",
       "    </tr>\n",
       "    <tr>\n",
       "      <td>73064</td>\n",
       "      <td>5873</td>\n",
       "      <td>OECD</td>\n",
       "      <td>6749</td>\n",
       "      <td>Forest land</td>\n",
       "      <td>72172</td>\n",
       "      <td>Net emissions/removal (CO2eq) (Forest land)</td>\n",
       "      <td>2013</td>\n",
       "      <td>2013</td>\n",
       "      <td>Gigagrams</td>\n",
       "      <td>-818448.2103</td>\n",
       "      <td>A</td>\n",
       "    </tr>\n",
       "    <tr>\n",
       "      <td>73065</td>\n",
       "      <td>5873</td>\n",
       "      <td>OECD</td>\n",
       "      <td>6749</td>\n",
       "      <td>Forest land</td>\n",
       "      <td>72172</td>\n",
       "      <td>Net emissions/removal (CO2eq) (Forest land)</td>\n",
       "      <td>2014</td>\n",
       "      <td>2014</td>\n",
       "      <td>Gigagrams</td>\n",
       "      <td>-818448.2103</td>\n",
       "      <td>A</td>\n",
       "    </tr>\n",
       "    <tr>\n",
       "      <td>73066</td>\n",
       "      <td>5873</td>\n",
       "      <td>OECD</td>\n",
       "      <td>6749</td>\n",
       "      <td>Forest land</td>\n",
       "      <td>72172</td>\n",
       "      <td>Net emissions/removal (CO2eq) (Forest land)</td>\n",
       "      <td>2015</td>\n",
       "      <td>2015</td>\n",
       "      <td>Gigagrams</td>\n",
       "      <td>-818448.2103</td>\n",
       "      <td>A</td>\n",
       "    </tr>\n",
       "  </tbody>\n",
       "</table>\n",
       "<p>73067 rows × 11 columns</p>\n",
       "</div>"
      ],
      "text/plain": [
       "       Country Code      Country  Item Code         Item  Element Code  \\\n",
       "0                 2  Afghanistan       6661       Forest          5110   \n",
       "1                 2  Afghanistan       6661       Forest          5110   \n",
       "2                 2  Afghanistan       6661       Forest          5110   \n",
       "3                 2  Afghanistan       6661       Forest          5110   \n",
       "4                 2  Afghanistan       6661       Forest          5110   \n",
       "...             ...          ...        ...          ...           ...   \n",
       "73062          5873         OECD       6749  Forest land         72172   \n",
       "73063          5873         OECD       6749  Forest land         72172   \n",
       "73064          5873         OECD       6749  Forest land         72172   \n",
       "73065          5873         OECD       6749  Forest land         72172   \n",
       "73066          5873         OECD       6749  Forest land         72172   \n",
       "\n",
       "                                           Element  Year Code  Year  \\\n",
       "0                                             Area       1990  1990   \n",
       "1                                             Area       1991  1991   \n",
       "2                                             Area       1992  1992   \n",
       "3                                             Area       1993  1993   \n",
       "4                                             Area       1994  1994   \n",
       "...                                            ...        ...   ...   \n",
       "73062  Net emissions/removal (CO2eq) (Forest land)       2011  2011   \n",
       "73063  Net emissions/removal (CO2eq) (Forest land)       2012  2012   \n",
       "73064  Net emissions/removal (CO2eq) (Forest land)       2013  2013   \n",
       "73065  Net emissions/removal (CO2eq) (Forest land)       2014  2014   \n",
       "73066  Net emissions/removal (CO2eq) (Forest land)       2015  2015   \n",
       "\n",
       "            Unit        Value Flag  \n",
       "0        1000 Ha    1350.0000    F  \n",
       "1        1000 Ha    1350.0000    F  \n",
       "2        1000 Ha    1350.0000    F  \n",
       "3        1000 Ha    1350.0000    F  \n",
       "4        1000 Ha    1350.0000    F  \n",
       "...          ...          ...  ...  \n",
       "73062  Gigagrams -818448.2103    A  \n",
       "73063  Gigagrams -818448.2103    A  \n",
       "73064  Gigagrams -818448.2103    A  \n",
       "73065  Gigagrams -818448.2103    A  \n",
       "73066  Gigagrams -818448.2103    A  \n",
       "\n",
       "[73067 rows x 11 columns]"
      ]
     },
     "execution_count": 59,
     "metadata": {},
     "output_type": "execute_result"
    }
   ],
   "source": [
    "forests"
   ]
  },
  {
   "cell_type": "markdown",
   "metadata": {},
   "source": [
    "#### Description :"
   ]
  },
  {
   "cell_type": "markdown",
   "metadata": {},
   "source": [
    "As you can see above, this dataset contains the same columns as savanna.\n",
    "\n",
    "It contains 73067 rows and it is registered by year for each Country, item and element from 1990 to 2015. "
   ]
  },
  {
   "cell_type": "code",
   "execution_count": 60,
   "metadata": {},
   "outputs": [
    {
     "data": {
      "text/plain": [
       "(73067, 11)"
      ]
     },
     "execution_count": 60,
     "metadata": {},
     "output_type": "execute_result"
    }
   ],
   "source": [
    "forests.shape"
   ]
  },
  {
   "cell_type": "markdown",
   "metadata": {},
   "source": [
    "#### Selection of useful data : "
   ]
  },
  {
   "cell_type": "code",
   "execution_count": 61,
   "metadata": {},
   "outputs": [
    {
     "name": "stdout",
     "output_type": "stream",
     "text": [
      "['Forest' 'Net Forest conversion' 'Forest land']\n",
      "['Area' 'Implied emission factor for CO2'\n",
      " 'Net emissions/removals (CO2) (Forest land)'\n",
      " 'Net emissions/removal (CO2eq) (Forest land)']\n"
     ]
    }
   ],
   "source": [
    "print(pd.Series.unique(forests.Item))\n",
    "print(pd.Series.unique(forests.Element))"
   ]
  },
  {
   "cell_type": "markdown",
   "metadata": {},
   "source": [
    "We see that we have three different possible items. For this project, we only care about the biomes that are destructed, therefore we only keep the item \"Net Forest Conversion\" which represent the area of deforestation (for agriculture, mines, urbanisation, ...). We also see that we have multiple possible elements. The area is the one of interest for us. "
   ]
  },
  {
   "cell_type": "code",
   "execution_count": 62,
   "metadata": {},
   "outputs": [
    {
     "data": {
      "text/plain": [
       "(6817, 11)"
      ]
     },
     "execution_count": 62,
     "metadata": {},
     "output_type": "execute_result"
    }
   ],
   "source": [
    "forests = forests.query(\"Item == 'Net Forest conversion'\")\n",
    "forests = forests.query(\"Element == 'Area'\")\n",
    "forests.shape"
   ]
  },
  {
   "cell_type": "markdown",
   "metadata": {},
   "source": [
    "As we can see, we only have 6817 rows left already. What about the Flag column now ?"
   ]
  },
  {
   "cell_type": "code",
   "execution_count": 63,
   "metadata": {},
   "outputs": [
    {
     "name": "stdout",
     "output_type": "stream",
     "text": [
      "['Fc' 'A']\n"
     ]
    }
   ],
   "source": [
    "print(pd.Series.unique(forests.Flag))"
   ]
  },
  {
   "cell_type": "markdown",
   "metadata": {},
   "source": [
    "We have two kind of flags : \n",
    "- \"Fc\" which tells that the data is only calculated\n",
    "- \"A\" which tells that the data is aggregated and may include official, semi-official estimated or calculated data\n",
    "\n",
    "We don't really care how the data was collected. Therefore, we will remove this column. "
   ]
  },
  {
   "cell_type": "code",
   "execution_count": 64,
   "metadata": {},
   "outputs": [],
   "source": [
    "forests = forests.drop(columns=\"Flag\")"
   ]
  },
  {
   "cell_type": "markdown",
   "metadata": {},
   "source": [
    "Looking at the unit of the areas, we see that it is in 1000 Ha. To be consistent with the Savanna dataset, we need to convert the area into a unit of 1 Ha (and then remove the unit colum alltogether):"
   ]
  },
  {
   "cell_type": "code",
   "execution_count": 65,
   "metadata": {},
   "outputs": [],
   "source": [
    "forests.Value = forests.Value*1000\n",
    "forests = forests.drop(columns=\"Unit\")"
   ]
  },
  {
   "cell_type": "markdown",
   "metadata": {},
   "source": [
    "Then, we will also remove the column Element, since we our dataframe only contains area now. We will also remove code columns and do some renaming to be consistent with Savanna. Finally a rename \"Net Forest Conversion\" into \"Forest\" since it is clear from our project that we only consider lost areas:"
   ]
  },
  {
   "cell_type": "code",
   "execution_count": 66,
   "metadata": {},
   "outputs": [
    {
     "data": {
      "text/html": [
       "<div>\n",
       "<style scoped>\n",
       "    .dataframe tbody tr th:only-of-type {\n",
       "        vertical-align: middle;\n",
       "    }\n",
       "\n",
       "    .dataframe tbody tr th {\n",
       "        vertical-align: top;\n",
       "    }\n",
       "\n",
       "    .dataframe thead th {\n",
       "        text-align: right;\n",
       "    }\n",
       "</style>\n",
       "<table border=\"1\" class=\"dataframe\">\n",
       "  <thead>\n",
       "    <tr style=\"text-align: right;\">\n",
       "      <th></th>\n",
       "      <th>Country Code</th>\n",
       "      <th>Country</th>\n",
       "      <th>Ecosystem</th>\n",
       "      <th>Year</th>\n",
       "      <th>Area_loss</th>\n",
       "    </tr>\n",
       "  </thead>\n",
       "  <tbody>\n",
       "    <tr>\n",
       "      <td>109</td>\n",
       "      <td>2</td>\n",
       "      <td>Afghanistan</td>\n",
       "      <td>Forest</td>\n",
       "      <td>1995</td>\n",
       "      <td>0.0</td>\n",
       "    </tr>\n",
       "    <tr>\n",
       "      <td>110</td>\n",
       "      <td>2</td>\n",
       "      <td>Afghanistan</td>\n",
       "      <td>Forest</td>\n",
       "      <td>1996</td>\n",
       "      <td>0.0</td>\n",
       "    </tr>\n",
       "    <tr>\n",
       "      <td>111</td>\n",
       "      <td>2</td>\n",
       "      <td>Afghanistan</td>\n",
       "      <td>Forest</td>\n",
       "      <td>1997</td>\n",
       "      <td>0.0</td>\n",
       "    </tr>\n",
       "    <tr>\n",
       "      <td>112</td>\n",
       "      <td>2</td>\n",
       "      <td>Afghanistan</td>\n",
       "      <td>Forest</td>\n",
       "      <td>1998</td>\n",
       "      <td>0.0</td>\n",
       "    </tr>\n",
       "    <tr>\n",
       "      <td>113</td>\n",
       "      <td>2</td>\n",
       "      <td>Afghanistan</td>\n",
       "      <td>Forest</td>\n",
       "      <td>1999</td>\n",
       "      <td>0.0</td>\n",
       "    </tr>\n",
       "    <tr>\n",
       "      <td>...</td>\n",
       "      <td>...</td>\n",
       "      <td>...</td>\n",
       "      <td>...</td>\n",
       "      <td>...</td>\n",
       "      <td>...</td>\n",
       "    </tr>\n",
       "    <tr>\n",
       "      <td>72924</td>\n",
       "      <td>5873</td>\n",
       "      <td>OECD</td>\n",
       "      <td>Forest</td>\n",
       "      <td>2003</td>\n",
       "      <td>1725477.4</td>\n",
       "    </tr>\n",
       "    <tr>\n",
       "      <td>72925</td>\n",
       "      <td>5873</td>\n",
       "      <td>OECD</td>\n",
       "      <td>Forest</td>\n",
       "      <td>2004</td>\n",
       "      <td>1725477.4</td>\n",
       "    </tr>\n",
       "    <tr>\n",
       "      <td>72926</td>\n",
       "      <td>5873</td>\n",
       "      <td>OECD</td>\n",
       "      <td>Forest</td>\n",
       "      <td>2005</td>\n",
       "      <td>1725477.4</td>\n",
       "    </tr>\n",
       "    <tr>\n",
       "      <td>72927</td>\n",
       "      <td>5873</td>\n",
       "      <td>OECD</td>\n",
       "      <td>Forest</td>\n",
       "      <td>2006</td>\n",
       "      <td>2187015.0</td>\n",
       "    </tr>\n",
       "    <tr>\n",
       "      <td>72928</td>\n",
       "      <td>5873</td>\n",
       "      <td>OECD</td>\n",
       "      <td>Forest</td>\n",
       "      <td>2007</td>\n",
       "      <td>2187015.0</td>\n",
       "    </tr>\n",
       "  </tbody>\n",
       "</table>\n",
       "<p>3429 rows × 5 columns</p>\n",
       "</div>"
      ],
      "text/plain": [
       "       Country Code      Country Ecosystem  Year  Area_loss\n",
       "109               2  Afghanistan    Forest  1995        0.0\n",
       "110               2  Afghanistan    Forest  1996        0.0\n",
       "111               2  Afghanistan    Forest  1997        0.0\n",
       "112               2  Afghanistan    Forest  1998        0.0\n",
       "113               2  Afghanistan    Forest  1999        0.0\n",
       "...             ...          ...       ...   ...        ...\n",
       "72924          5873         OECD    Forest  2003  1725477.4\n",
       "72925          5873         OECD    Forest  2004  1725477.4\n",
       "72926          5873         OECD    Forest  2005  1725477.4\n",
       "72927          5873         OECD    Forest  2006  2187015.0\n",
       "72928          5873         OECD    Forest  2007  2187015.0\n",
       "\n",
       "[3429 rows x 5 columns]"
      ]
     },
     "execution_count": 66,
     "metadata": {},
     "output_type": "execute_result"
    }
   ],
   "source": [
    "forests = forests.drop(columns=[\"Item Code\", \"Element Code\", \"Year Code\", \"Element\"])\n",
    "forests = forests.rename(columns={\"Item\":\"Ecosystem\", \"Value\":\"Area_loss\"})\n",
    "forests.Ecosystem = \"Forest\" \n",
    "# Based on results from other datasets, we only keep data between 1995 and 2007 :\n",
    "forests = forests[forests.Year >= 1995]\n",
    "forests = forests[forests.Year <= 2007]\n",
    "forests"
   ]
  },
  {
   "cell_type": "code",
   "execution_count": 67,
   "metadata": {},
   "outputs": [
    {
     "data": {
      "text/html": [
       "<div>\n",
       "<style scoped>\n",
       "    .dataframe tbody tr th:only-of-type {\n",
       "        vertical-align: middle;\n",
       "    }\n",
       "\n",
       "    .dataframe tbody tr th {\n",
       "        vertical-align: top;\n",
       "    }\n",
       "\n",
       "    .dataframe thead th {\n",
       "        text-align: right;\n",
       "    }\n",
       "</style>\n",
       "<table border=\"1\" class=\"dataframe\">\n",
       "  <thead>\n",
       "    <tr style=\"text-align: right;\">\n",
       "      <th></th>\n",
       "      <th>Country Code</th>\n",
       "      <th>Country</th>\n",
       "      <th>Ecosystem</th>\n",
       "      <th>Year</th>\n",
       "      <th>Area_loss</th>\n",
       "    </tr>\n",
       "  </thead>\n",
       "  <tbody>\n",
       "    <tr>\n",
       "      <td>109</td>\n",
       "      <td>False</td>\n",
       "      <td>False</td>\n",
       "      <td>False</td>\n",
       "      <td>False</td>\n",
       "      <td>False</td>\n",
       "    </tr>\n",
       "  </tbody>\n",
       "</table>\n",
       "</div>"
      ],
      "text/plain": [
       "     Country Code  Country  Ecosystem   Year  Area_loss\n",
       "109         False    False      False  False      False"
      ]
     },
     "execution_count": 67,
     "metadata": {},
     "output_type": "execute_result"
    }
   ],
   "source": [
    "forests.isna().drop_duplicates()"
   ]
  },
  {
   "cell_type": "markdown",
   "metadata": {},
   "source": [
    "As we can see above, there are no na/Nan values inside this dataframe."
   ]
  },
  {
   "cell_type": "markdown",
   "metadata": {},
   "source": [
    "Now about the countries. Looking at the country code, it seems like there are 5873 different countries ? What about the actual countries : "
   ]
  },
  {
   "cell_type": "code",
   "execution_count": 68,
   "metadata": {},
   "outputs": [
    {
     "data": {
      "text/plain": [
       "267"
      ]
     },
     "execution_count": 68,
     "metadata": {},
     "output_type": "execute_result"
    }
   ],
   "source": [
    "pd.Series.nunique(forests.Country)"
   ]
  },
  {
   "cell_type": "markdown",
   "metadata": {},
   "source": [
    "There are only 272 country like elements, which makes more sense. let see the country code:"
   ]
  },
  {
   "cell_type": "code",
   "execution_count": 69,
   "metadata": {},
   "outputs": [
    {
     "data": {
      "text/plain": [
       "array([   2,    3,    4,    5,    6,    7,  258,    8,    9,    1,   22,\n",
       "         10,   11,   52,   12,   13,   16,   14,   57,  255,   15,   23,\n",
       "         53,   17,   18,   19,   80,   20,   21,  239,   26,   27,  233,\n",
       "         29,   35,  115,   32,   33,   36,   37,   39,  259,   40,  351,\n",
       "         41,   44,   45,   46,   47,   48,  107,   98,   49,   50,  167,\n",
       "        116,  250,   54,   72,   55,   56,   58,   59,   60,   61,  178,\n",
       "         63,  238,   65,   64,   66,   67,   68,   69,   70,   74,   75,\n",
       "         73,   79,   81,   82,   84,   85,   86,   87,   88,   89,   90,\n",
       "        175,   91,   93,   95,   97,   99,  100,  101,  102,  103,  104,\n",
       "        264,  105,  106,  109,  110,  112,  108,  114,   83,  118,  113,\n",
       "        120,  119,  121,  122,  123,  124,  125,  126,  256,  129,  130,\n",
       "        131,  132,  133,  134,  127,  135,  136,  137,  270,  138,  145,\n",
       "        141,  273,  142,  143,  144,   28,  147,  148,  149,  150,  151,\n",
       "        153,  156,  157,  158,  159,  160,  161,  163,  162,  299,  221,\n",
       "        165,  180,  166,  168,  169,  170,  171,  172,  173,  174,  177,\n",
       "        179,  117,  146,  182,  183,  185,  184,  187,  188,  189,  190,\n",
       "        191,  244,  192,  193,  194,  195,  272,  186,  196,  197,  200,\n",
       "        199,  198,   25,  201,  202,  203,   38,  206,  207,  209,  210,\n",
       "        211,  212,  208,  216,  154,  176,  217,  218,  219,  220,  222,\n",
       "        223,  213,  224,  227,  226,  230,  225,  229,  215,  231,  240,\n",
       "        234,  235,  155,  236,  237,  243,  205,  249,  251,  181, 5000,\n",
       "       5100, 5101, 5102, 5103, 5104, 5105, 5200, 5203, 5204, 5206, 5207,\n",
       "       5300, 5301, 5302, 5303, 5304, 5305, 5400, 5401, 5402, 5403, 5404,\n",
       "       5500, 5501, 5502, 5503, 5504, 5706, 5801, 5802, 5803, 5815, 5817,\n",
       "       5848, 5849, 5873], dtype=int64)"
      ]
     },
     "execution_count": 69,
     "metadata": {},
     "output_type": "execute_result"
    }
   ],
   "source": [
    "pd.Series.unique(forests[\"Country Code\"])"
   ]
  },
  {
   "cell_type": "markdown",
   "metadata": {},
   "source": [
    "We see that there is something special with the numbering of the country : Some numbers are not there (232 for example), but more importantly, the numbers jump to around 5'000. What data is contained whith these 5'000+ country codes? \n",
    "\n",
    "Apprently, these \"countries\" are in fact geographical and economical regions/continent. We will store them in different dataframes, as in Savanna, for later use : "
   ]
  },
  {
   "cell_type": "code",
   "execution_count": 70,
   "metadata": {},
   "outputs": [],
   "source": [
    "forestsCountry = forests[forests[\"Country Code\"] < 5000].drop(columns=\"Country Code\")\n",
    "forestsRegion_eco = forests[forests[\"Country Code\"] >= 5000]\n",
    "forestsRegion = forestsRegion_eco[forestsRegion_eco[\"Country Code\"] < 5700].drop(columns=\"Country Code\")\n",
    "forestsEconomical_segment = forestsRegion_eco[forestsRegion_eco[\"Country Code\"] >= 5700].drop(columns=\"Country Code\")\n",
    "forests = forests.drop(columns=\"Country Code\")"
   ]
  },
  {
   "cell_type": "code",
   "execution_count": 71,
   "metadata": {},
   "outputs": [
    {
     "data": {
      "text/html": [
       "<div>\n",
       "<style scoped>\n",
       "    .dataframe tbody tr th:only-of-type {\n",
       "        vertical-align: middle;\n",
       "    }\n",
       "\n",
       "    .dataframe tbody tr th {\n",
       "        vertical-align: top;\n",
       "    }\n",
       "\n",
       "    .dataframe thead th {\n",
       "        text-align: right;\n",
       "    }\n",
       "</style>\n",
       "<table border=\"1\" class=\"dataframe\">\n",
       "  <thead>\n",
       "    <tr style=\"text-align: right;\">\n",
       "      <th></th>\n",
       "      <th>Country</th>\n",
       "      <th>Ecosystem</th>\n",
       "      <th>Year</th>\n",
       "      <th>Area_loss</th>\n",
       "    </tr>\n",
       "  </thead>\n",
       "  <tbody>\n",
       "    <tr>\n",
       "      <td>109</td>\n",
       "      <td>Afghanistan</td>\n",
       "      <td>Forest</td>\n",
       "      <td>1995</td>\n",
       "      <td>0.0</td>\n",
       "    </tr>\n",
       "    <tr>\n",
       "      <td>110</td>\n",
       "      <td>Afghanistan</td>\n",
       "      <td>Forest</td>\n",
       "      <td>1996</td>\n",
       "      <td>0.0</td>\n",
       "    </tr>\n",
       "    <tr>\n",
       "      <td>111</td>\n",
       "      <td>Afghanistan</td>\n",
       "      <td>Forest</td>\n",
       "      <td>1997</td>\n",
       "      <td>0.0</td>\n",
       "    </tr>\n",
       "    <tr>\n",
       "      <td>112</td>\n",
       "      <td>Afghanistan</td>\n",
       "      <td>Forest</td>\n",
       "      <td>1998</td>\n",
       "      <td>0.0</td>\n",
       "    </tr>\n",
       "    <tr>\n",
       "      <td>113</td>\n",
       "      <td>Afghanistan</td>\n",
       "      <td>Forest</td>\n",
       "      <td>1999</td>\n",
       "      <td>0.0</td>\n",
       "    </tr>\n",
       "  </tbody>\n",
       "</table>\n",
       "</div>"
      ],
      "text/plain": [
       "         Country Ecosystem  Year  Area_loss\n",
       "109  Afghanistan    Forest  1995        0.0\n",
       "110  Afghanistan    Forest  1996        0.0\n",
       "111  Afghanistan    Forest  1997        0.0\n",
       "112  Afghanistan    Forest  1998        0.0\n",
       "113  Afghanistan    Forest  1999        0.0"
      ]
     },
     "execution_count": 71,
     "metadata": {},
     "output_type": "execute_result"
    }
   ],
   "source": [
    "forestsCountry.head(5)"
   ]
  },
  {
   "cell_type": "code",
   "execution_count": 72,
   "metadata": {},
   "outputs": [
    {
     "data": {
      "text/html": [
       "<div>\n",
       "<style scoped>\n",
       "    .dataframe tbody tr th:only-of-type {\n",
       "        vertical-align: middle;\n",
       "    }\n",
       "\n",
       "    .dataframe tbody tr th {\n",
       "        vertical-align: top;\n",
       "    }\n",
       "\n",
       "    .dataframe thead th {\n",
       "        text-align: right;\n",
       "    }\n",
       "</style>\n",
       "<table border=\"1\" class=\"dataframe\">\n",
       "  <thead>\n",
       "    <tr style=\"text-align: right;\">\n",
       "      <th></th>\n",
       "      <th>Country</th>\n",
       "      <th>Ecosystem</th>\n",
       "      <th>Year</th>\n",
       "      <th>Area_loss</th>\n",
       "    </tr>\n",
       "  </thead>\n",
       "  <tbody>\n",
       "    <tr>\n",
       "      <td>64510</td>\n",
       "      <td>World</td>\n",
       "      <td>Forest</td>\n",
       "      <td>1995</td>\n",
       "      <td>13029740.8</td>\n",
       "    </tr>\n",
       "    <tr>\n",
       "      <td>64511</td>\n",
       "      <td>World</td>\n",
       "      <td>Forest</td>\n",
       "      <td>1996</td>\n",
       "      <td>13029740.8</td>\n",
       "    </tr>\n",
       "    <tr>\n",
       "      <td>64512</td>\n",
       "      <td>World</td>\n",
       "      <td>Forest</td>\n",
       "      <td>1997</td>\n",
       "      <td>13029740.8</td>\n",
       "    </tr>\n",
       "    <tr>\n",
       "      <td>64513</td>\n",
       "      <td>World</td>\n",
       "      <td>Forest</td>\n",
       "      <td>1998</td>\n",
       "      <td>13029740.8</td>\n",
       "    </tr>\n",
       "    <tr>\n",
       "      <td>64514</td>\n",
       "      <td>World</td>\n",
       "      <td>Forest</td>\n",
       "      <td>1999</td>\n",
       "      <td>13029740.8</td>\n",
       "    </tr>\n",
       "  </tbody>\n",
       "</table>\n",
       "</div>"
      ],
      "text/plain": [
       "      Country Ecosystem  Year   Area_loss\n",
       "64510   World    Forest  1995  13029740.8\n",
       "64511   World    Forest  1996  13029740.8\n",
       "64512   World    Forest  1997  13029740.8\n",
       "64513   World    Forest  1998  13029740.8\n",
       "64514   World    Forest  1999  13029740.8"
      ]
     },
     "execution_count": 72,
     "metadata": {},
     "output_type": "execute_result"
    }
   ],
   "source": [
    "forestsRegion.head(5)"
   ]
  },
  {
   "cell_type": "code",
   "execution_count": 73,
   "metadata": {},
   "outputs": [
    {
     "data": {
      "text/html": [
       "<div>\n",
       "<style scoped>\n",
       "    .dataframe tbody tr th:only-of-type {\n",
       "        vertical-align: middle;\n",
       "    }\n",
       "\n",
       "    .dataframe tbody tr th {\n",
       "        vertical-align: top;\n",
       "    }\n",
       "\n",
       "    .dataframe thead th {\n",
       "        text-align: right;\n",
       "    }\n",
       "</style>\n",
       "<table border=\"1\" class=\"dataframe\">\n",
       "  <thead>\n",
       "    <tr style=\"text-align: right;\">\n",
       "      <th></th>\n",
       "      <th>Country</th>\n",
       "      <th>Ecosystem</th>\n",
       "      <th>Year</th>\n",
       "      <th>Area_loss</th>\n",
       "    </tr>\n",
       "  </thead>\n",
       "  <tbody>\n",
       "    <tr>\n",
       "      <td>71044</td>\n",
       "      <td>European Union</td>\n",
       "      <td>Forest</td>\n",
       "      <td>1995</td>\n",
       "      <td>266140.1</td>\n",
       "    </tr>\n",
       "    <tr>\n",
       "      <td>71045</td>\n",
       "      <td>European Union</td>\n",
       "      <td>Forest</td>\n",
       "      <td>1996</td>\n",
       "      <td>266140.1</td>\n",
       "    </tr>\n",
       "    <tr>\n",
       "      <td>71046</td>\n",
       "      <td>European Union</td>\n",
       "      <td>Forest</td>\n",
       "      <td>1997</td>\n",
       "      <td>266140.1</td>\n",
       "    </tr>\n",
       "    <tr>\n",
       "      <td>71047</td>\n",
       "      <td>European Union</td>\n",
       "      <td>Forest</td>\n",
       "      <td>1998</td>\n",
       "      <td>266140.1</td>\n",
       "    </tr>\n",
       "    <tr>\n",
       "      <td>71048</td>\n",
       "      <td>European Union</td>\n",
       "      <td>Forest</td>\n",
       "      <td>1999</td>\n",
       "      <td>266140.1</td>\n",
       "    </tr>\n",
       "  </tbody>\n",
       "</table>\n",
       "</div>"
      ],
      "text/plain": [
       "              Country Ecosystem  Year  Area_loss\n",
       "71044  European Union    Forest  1995   266140.1\n",
       "71045  European Union    Forest  1996   266140.1\n",
       "71046  European Union    Forest  1997   266140.1\n",
       "71047  European Union    Forest  1998   266140.1\n",
       "71048  European Union    Forest  1999   266140.1"
      ]
     },
     "execution_count": 73,
     "metadata": {},
     "output_type": "execute_result"
    }
   ],
   "source": [
    "forestsEconomical_segment.head(5)"
   ]
  },
  {
   "cell_type": "markdown",
   "metadata": {},
   "source": [
    "#### Analysis of the desired value"
   ]
  },
  {
   "cell_type": "code",
   "execution_count": 74,
   "metadata": {},
   "outputs": [
    {
     "data": {
      "text/plain": [
       "count    2.948000e+03\n",
       "mean     5.562358e+04\n",
       "std      2.156696e+05\n",
       "min      0.000000e+00\n",
       "25%      0.000000e+00\n",
       "50%      2.000000e+01\n",
       "75%      1.700000e+04\n",
       "max      2.996800e+06\n",
       "Name: Area_loss, dtype: float64"
      ]
     },
     "execution_count": 74,
     "metadata": {},
     "output_type": "execute_result"
    }
   ],
   "source": [
    "forestsCountry[\"Area_loss\"].describe()"
   ]
  },
  {
   "cell_type": "markdown",
   "metadata": {},
   "source": [
    "<a id=\"merge\"></a>\n",
    "### Merge of the Biomes Data Set"
   ]
  },
  {
   "cell_type": "code",
   "execution_count": 20,
   "metadata": {},
   "outputs": [],
   "source": [
    "#savannaRegion.head()\n",
    "#savannaCountry.head()\n",
    "#savannaEconomical_segment.head()\n",
    "#perform the merge with forest"
   ]
  },
  {
   "cell_type": "markdown",
   "metadata": {},
   "source": [
    "<a id=\"crops\"></a>\n",
    "# Crops"
   ]
  },
  {
   "cell_type": "markdown",
   "metadata": {},
   "source": [
    "The dataset `Crops` give us informations about distribution of crops in different areas over the years. We investigate this data set more in details in the file `Crops.ipynb` and will only present here the conclusive data sets and analysis. "
   ]
  },
  {
   "cell_type": "code",
   "execution_count": 12,
   "metadata": {},
   "outputs": [
    {
     "data": {
      "text/plain": [
       "country_or_area     object\n",
       "element_code        object\n",
       "element             object\n",
       "year               float64\n",
       "unit                object\n",
       "value              float64\n",
       "value_footnotes     object\n",
       "category            object\n",
       "dtype: object"
      ]
     },
     "execution_count": 12,
     "metadata": {},
     "output_type": "execute_result"
    }
   ],
   "source": [
    "crops.dtypes"
   ]
  },
  {
   "cell_type": "code",
   "execution_count": 18,
   "metadata": {},
   "outputs": [
    {
     "data": {
      "text/plain": [
       "(2255349, 8)"
      ]
     },
     "execution_count": 18,
     "metadata": {},
     "output_type": "execute_result"
    }
   ],
   "source": [
    "crops.shape"
   ]
  },
  {
   "cell_type": "code",
   "execution_count": 19,
   "metadata": {},
   "outputs": [
    {
     "data": {
      "text/html": [
       "<div>\n",
       "<style scoped>\n",
       "    .dataframe tbody tr th:only-of-type {\n",
       "        vertical-align: middle;\n",
       "    }\n",
       "\n",
       "    .dataframe tbody tr th {\n",
       "        vertical-align: top;\n",
       "    }\n",
       "\n",
       "    .dataframe thead th {\n",
       "        text-align: right;\n",
       "    }\n",
       "</style>\n",
       "<table border=\"1\" class=\"dataframe\">\n",
       "  <thead>\n",
       "    <tr style=\"text-align: right;\">\n",
       "      <th></th>\n",
       "      <th>country_or_area</th>\n",
       "      <th>element_code</th>\n",
       "      <th>element</th>\n",
       "      <th>year</th>\n",
       "      <th>unit</th>\n",
       "      <th>value</th>\n",
       "      <th>value_footnotes</th>\n",
       "      <th>category</th>\n",
       "    </tr>\n",
       "  </thead>\n",
       "  <tbody>\n",
       "    <tr>\n",
       "      <th>0</th>\n",
       "      <td>Americas +</td>\n",
       "      <td>31</td>\n",
       "      <td>Area Harvested</td>\n",
       "      <td>2007.0</td>\n",
       "      <td>Ha</td>\n",
       "      <td>49404.0</td>\n",
       "      <td>A</td>\n",
       "      <td>agave_fibres_nes</td>\n",
       "    </tr>\n",
       "    <tr>\n",
       "      <th>1</th>\n",
       "      <td>Americas +</td>\n",
       "      <td>31</td>\n",
       "      <td>Area Harvested</td>\n",
       "      <td>2006.0</td>\n",
       "      <td>Ha</td>\n",
       "      <td>49404.0</td>\n",
       "      <td>A</td>\n",
       "      <td>agave_fibres_nes</td>\n",
       "    </tr>\n",
       "    <tr>\n",
       "      <th>2</th>\n",
       "      <td>Americas +</td>\n",
       "      <td>31</td>\n",
       "      <td>Area Harvested</td>\n",
       "      <td>2005.0</td>\n",
       "      <td>Ha</td>\n",
       "      <td>49404.0</td>\n",
       "      <td>A</td>\n",
       "      <td>agave_fibres_nes</td>\n",
       "    </tr>\n",
       "    <tr>\n",
       "      <th>3</th>\n",
       "      <td>Americas +</td>\n",
       "      <td>31</td>\n",
       "      <td>Area Harvested</td>\n",
       "      <td>2004.0</td>\n",
       "      <td>Ha</td>\n",
       "      <td>49113.0</td>\n",
       "      <td>A</td>\n",
       "      <td>agave_fibres_nes</td>\n",
       "    </tr>\n",
       "    <tr>\n",
       "      <th>4</th>\n",
       "      <td>Americas +</td>\n",
       "      <td>31</td>\n",
       "      <td>Area Harvested</td>\n",
       "      <td>2003.0</td>\n",
       "      <td>Ha</td>\n",
       "      <td>48559.0</td>\n",
       "      <td>A</td>\n",
       "      <td>agave_fibres_nes</td>\n",
       "    </tr>\n",
       "  </tbody>\n",
       "</table>\n",
       "</div>"
      ],
      "text/plain": [
       "  country_or_area element_code         element    year unit    value  \\\n",
       "0      Americas +           31  Area Harvested  2007.0   Ha  49404.0   \n",
       "1      Americas +           31  Area Harvested  2006.0   Ha  49404.0   \n",
       "2      Americas +           31  Area Harvested  2005.0   Ha  49404.0   \n",
       "3      Americas +           31  Area Harvested  2004.0   Ha  49113.0   \n",
       "4      Americas +           31  Area Harvested  2003.0   Ha  48559.0   \n",
       "\n",
       "  value_footnotes          category  \n",
       "0              A   agave_fibres_nes  \n",
       "1              A   agave_fibres_nes  \n",
       "2              A   agave_fibres_nes  \n",
       "3              A   agave_fibres_nes  \n",
       "4              A   agave_fibres_nes  "
      ]
     },
     "execution_count": 19,
     "metadata": {},
     "output_type": "execute_result"
    }
   ],
   "source": [
    "crops.head()"
   ]
  },
  {
   "cell_type": "markdown",
   "metadata": {},
   "source": [
    "## Discussion on the Investigation\n",
    "\n",
    "From investigation following, we describe each features of the dataFrame: \\\n",
    "   * `country_or_area`: area where the product is cultivated. From the investigation, we observe different regroupments for those areas. They can correspond to countries, regions such as continents or even the world or economical regroupments such as `Low Income Food Deficit Countries`. \n",
    "   * `element`: gives us a number of different informations about the adding of the crops. We have lot of information on PIN, which is a production index qualifying the land needed per unit of crop production in 1961.We also have informations on  Seeds and Yields. IN order to answer our specific question, we will only keep `Area Harvested` and `ProductionQuantity`, respectively in Hectars and Tonnes as it can be seen in the feature `unit`. From now on, the data frames will be generated for both elements. \n",
    "   * `year`: the years are from 1961 to 2007. As the datasets `Savanna` and `Forests` are restricted to 1990, we choose to start at 1990 too in order to be able to conduct correlations. From the investigation, we can see that th enumber of data is uneven through time with a lot less data in the older years. \n",
    "   * `value`: feature of biggest interest as it will give us the corresponding value. Units are given in the `unit` feature and correspond to the information said in `element`.\n",
    "   * `category`: the sort of product that is concerned by the informations. From the investigation, we see that there are also regroupments. Hence, we can find products by themselves such as `Bananas` or groups of products such as `cereals_total`. \n",
    "   \n",
    "We decided to present the results for the products in two parts. First, we will observe the phenomena globally, by countries and using all the products all together. in the second part, we will work on only 5 specific food products in order to have a specific idea of the phenomena. We chose `Bananas`, `palm_oil`, `sojabean`, `banana`, `wheat`, `rice` because we though that they are a good compromise between the top ranked products for productiona and area harvested and top ranked products for inport and export. We want to be able to see interesting and different results, that is why if we realize that products in the list present similar results, we let us the possibility to take another one. \n",
    "    \n",
    "Let's start the investigation. We will now investigate each features in order to have an idea of what kind of information we have.\n",
    "\n",
    "## Investigation of Crops\n",
    "### Element Code \n",
    "Let's start the investigation by understanding what categories of inforamtions we have.  \n"
   ]
  },
  {
   "cell_type": "code",
   "execution_count": 20,
   "metadata": {},
   "outputs": [
    {
     "data": {
      "text/html": [
       "<div>\n",
       "<style scoped>\n",
       "    .dataframe tbody tr th:only-of-type {\n",
       "        vertical-align: middle;\n",
       "    }\n",
       "\n",
       "    .dataframe tbody tr th {\n",
       "        vertical-align: top;\n",
       "    }\n",
       "\n",
       "    .dataframe thead th {\n",
       "        text-align: right;\n",
       "    }\n",
       "</style>\n",
       "<table border=\"1\" class=\"dataframe\">\n",
       "  <thead>\n",
       "    <tr style=\"text-align: right;\">\n",
       "      <th></th>\n",
       "      <th>country_or_area</th>\n",
       "      <th>element</th>\n",
       "      <th>year</th>\n",
       "      <th>unit</th>\n",
       "      <th>value</th>\n",
       "      <th>value_footnotes</th>\n",
       "      <th>category</th>\n",
       "    </tr>\n",
       "    <tr>\n",
       "      <th>element_code</th>\n",
       "      <th></th>\n",
       "      <th></th>\n",
       "      <th></th>\n",
       "      <th></th>\n",
       "      <th></th>\n",
       "      <th></th>\n",
       "      <th></th>\n",
       "    </tr>\n",
       "  </thead>\n",
       "  <tbody>\n",
       "    <tr>\n",
       "      <th>111</th>\n",
       "      <td>204568</td>\n",
       "      <td>204568</td>\n",
       "      <td>204568</td>\n",
       "      <td>204568</td>\n",
       "      <td>204568</td>\n",
       "      <td>188064</td>\n",
       "      <td>204568</td>\n",
       "    </tr>\n",
       "    <tr>\n",
       "      <th>152</th>\n",
       "      <td>9399</td>\n",
       "      <td>9399</td>\n",
       "      <td>9399</td>\n",
       "      <td>9399</td>\n",
       "      <td>9399</td>\n",
       "      <td>9399</td>\n",
       "      <td>9399</td>\n",
       "    </tr>\n",
       "    <tr>\n",
       "      <th>154</th>\n",
       "      <td>9399</td>\n",
       "      <td>9399</td>\n",
       "      <td>9399</td>\n",
       "      <td>9399</td>\n",
       "      <td>9399</td>\n",
       "      <td>9399</td>\n",
       "      <td>9399</td>\n",
       "    </tr>\n",
       "    <tr>\n",
       "      <th>31</th>\n",
       "      <td>671153</td>\n",
       "      <td>671153</td>\n",
       "      <td>671153</td>\n",
       "      <td>671153</td>\n",
       "      <td>671153</td>\n",
       "      <td>473111</td>\n",
       "      <td>671153</td>\n",
       "    </tr>\n",
       "    <tr>\n",
       "      <th>41</th>\n",
       "      <td>631078</td>\n",
       "      <td>631078</td>\n",
       "      <td>631078</td>\n",
       "      <td>631078</td>\n",
       "      <td>631078</td>\n",
       "      <td>615683</td>\n",
       "      <td>631078</td>\n",
       "    </tr>\n",
       "    <tr>\n",
       "      <th>432</th>\n",
       "      <td>9145</td>\n",
       "      <td>9145</td>\n",
       "      <td>9145</td>\n",
       "      <td>9145</td>\n",
       "      <td>9145</td>\n",
       "      <td>9145</td>\n",
       "      <td>9145</td>\n",
       "    </tr>\n",
       "    <tr>\n",
       "      <th>434</th>\n",
       "      <td>9145</td>\n",
       "      <td>9145</td>\n",
       "      <td>9145</td>\n",
       "      <td>9145</td>\n",
       "      <td>9145</td>\n",
       "      <td>9145</td>\n",
       "      <td>9145</td>\n",
       "    </tr>\n",
       "    <tr>\n",
       "      <th>436</th>\n",
       "      <td>9145</td>\n",
       "      <td>9145</td>\n",
       "      <td>9145</td>\n",
       "      <td>9145</td>\n",
       "      <td>9145</td>\n",
       "      <td>9145</td>\n",
       "      <td>9145</td>\n",
       "    </tr>\n",
       "    <tr>\n",
       "      <th>438</th>\n",
       "      <td>9145</td>\n",
       "      <td>9145</td>\n",
       "      <td>9145</td>\n",
       "      <td>9145</td>\n",
       "      <td>9145</td>\n",
       "      <td>9145</td>\n",
       "      <td>9145</td>\n",
       "    </tr>\n",
       "    <tr>\n",
       "      <th>51</th>\n",
       "      <td>692208</td>\n",
       "      <td>692208</td>\n",
       "      <td>692208</td>\n",
       "      <td>692208</td>\n",
       "      <td>692208</td>\n",
       "      <td>443731</td>\n",
       "      <td>692208</td>\n",
       "    </tr>\n",
       "    <tr>\n",
       "      <th>Calculated Data</th>\n",
       "      <td>157</td>\n",
       "      <td>0</td>\n",
       "      <td>0</td>\n",
       "      <td>0</td>\n",
       "      <td>0</td>\n",
       "      <td>0</td>\n",
       "      <td>157</td>\n",
       "    </tr>\n",
       "    <tr>\n",
       "      <th>FAO Estimate</th>\n",
       "      <td>158</td>\n",
       "      <td>0</td>\n",
       "      <td>0</td>\n",
       "      <td>0</td>\n",
       "      <td>0</td>\n",
       "      <td>0</td>\n",
       "      <td>158</td>\n",
       "    </tr>\n",
       "    <tr>\n",
       "      <th>Footnote</th>\n",
       "      <td>172</td>\n",
       "      <td>0</td>\n",
       "      <td>0</td>\n",
       "      <td>0</td>\n",
       "      <td>0</td>\n",
       "      <td>0</td>\n",
       "      <td>172</td>\n",
       "    </tr>\n",
       "    <tr>\n",
       "      <th>May include official, semi-official or estimated data</th>\n",
       "      <td>172</td>\n",
       "      <td>0</td>\n",
       "      <td>0</td>\n",
       "      <td>0</td>\n",
       "      <td>0</td>\n",
       "      <td>0</td>\n",
       "      <td>172</td>\n",
       "    </tr>\n",
       "    <tr>\n",
       "      <th>Not reported by country</th>\n",
       "      <td>154</td>\n",
       "      <td>0</td>\n",
       "      <td>0</td>\n",
       "      <td>0</td>\n",
       "      <td>0</td>\n",
       "      <td>0</td>\n",
       "      <td>154</td>\n",
       "    </tr>\n",
       "    <tr>\n",
       "      <th>Unofficial figure</th>\n",
       "      <td>151</td>\n",
       "      <td>0</td>\n",
       "      <td>0</td>\n",
       "      <td>0</td>\n",
       "      <td>0</td>\n",
       "      <td>0</td>\n",
       "      <td>151</td>\n",
       "    </tr>\n",
       "  </tbody>\n",
       "</table>\n",
       "</div>"
      ],
      "text/plain": [
       "                                                    country_or_area  element  \\\n",
       "element_code                                                                   \n",
       "111                                                          204568   204568   \n",
       "152                                                            9399     9399   \n",
       "154                                                            9399     9399   \n",
       "31                                                           671153   671153   \n",
       "41                                                           631078   631078   \n",
       "432                                                            9145     9145   \n",
       "434                                                            9145     9145   \n",
       "436                                                            9145     9145   \n",
       "438                                                            9145     9145   \n",
       "51                                                           692208   692208   \n",
       "Calculated Data                                                 157        0   \n",
       "FAO Estimate                                                    158        0   \n",
       "Footnote                                                        172        0   \n",
       "May include official, semi-official or estimate...              172        0   \n",
       "Not reported by country                                         154        0   \n",
       "Unofficial figure                                               151        0   \n",
       "\n",
       "                                                      year    unit   value  \\\n",
       "element_code                                                                 \n",
       "111                                                 204568  204568  204568   \n",
       "152                                                   9399    9399    9399   \n",
       "154                                                   9399    9399    9399   \n",
       "31                                                  671153  671153  671153   \n",
       "41                                                  631078  631078  631078   \n",
       "432                                                   9145    9145    9145   \n",
       "434                                                   9145    9145    9145   \n",
       "436                                                   9145    9145    9145   \n",
       "438                                                   9145    9145    9145   \n",
       "51                                                  692208  692208  692208   \n",
       "Calculated Data                                          0       0       0   \n",
       "FAO Estimate                                             0       0       0   \n",
       "Footnote                                                 0       0       0   \n",
       "May include official, semi-official or estimate...       0       0       0   \n",
       "Not reported by country                                  0       0       0   \n",
       "Unofficial figure                                        0       0       0   \n",
       "\n",
       "                                                    value_footnotes  category  \n",
       "element_code                                                                   \n",
       "111                                                          188064    204568  \n",
       "152                                                            9399      9399  \n",
       "154                                                            9399      9399  \n",
       "31                                                           473111    671153  \n",
       "41                                                           615683    631078  \n",
       "432                                                            9145      9145  \n",
       "434                                                            9145      9145  \n",
       "436                                                            9145      9145  \n",
       "438                                                            9145      9145  \n",
       "51                                                           443731    692208  \n",
       "Calculated Data                                                   0       157  \n",
       "FAO Estimate                                                      0       158  \n",
       "Footnote                                                          0       172  \n",
       "May include official, semi-official or estimate...                0       172  \n",
       "Not reported by country                                           0       154  \n",
       "Unofficial figure                                                 0       151  "
      ]
     },
     "execution_count": 20,
     "metadata": {},
     "output_type": "execute_result"
    }
   ],
   "source": [
    "crops.groupby('element_code').count()"
   ]
  },
  {
   "cell_type": "markdown",
   "metadata": {},
   "source": [
    "We can see that for elements that are not numbers, the data seem to be missing."
   ]
  },
  {
   "cell_type": "code",
   "execution_count": 21,
   "metadata": {},
   "outputs": [
    {
     "data": {
      "text/html": [
       "<div>\n",
       "<style scoped>\n",
       "    .dataframe tbody tr th:only-of-type {\n",
       "        vertical-align: middle;\n",
       "    }\n",
       "\n",
       "    .dataframe tbody tr th {\n",
       "        vertical-align: top;\n",
       "    }\n",
       "\n",
       "    .dataframe thead th {\n",
       "        text-align: right;\n",
       "    }\n",
       "</style>\n",
       "<table border=\"1\" class=\"dataframe\">\n",
       "  <thead>\n",
       "    <tr style=\"text-align: right;\">\n",
       "      <th></th>\n",
       "      <th>country_or_area</th>\n",
       "      <th>element_code</th>\n",
       "      <th>element</th>\n",
       "      <th>year</th>\n",
       "      <th>unit</th>\n",
       "      <th>value</th>\n",
       "      <th>value_footnotes</th>\n",
       "      <th>category</th>\n",
       "    </tr>\n",
       "  </thead>\n",
       "  <tbody>\n",
       "    <tr>\n",
       "      <th>2401</th>\n",
       "      <td>F</td>\n",
       "      <td>FAO Estimate</td>\n",
       "      <td>NaN</td>\n",
       "      <td>NaN</td>\n",
       "      <td>NaN</td>\n",
       "      <td>NaN</td>\n",
       "      <td>NaN</td>\n",
       "      <td>agave_fibres_nes</td>\n",
       "    </tr>\n",
       "    <tr>\n",
       "      <th>11396</th>\n",
       "      <td>F</td>\n",
       "      <td>FAO Estimate</td>\n",
       "      <td>NaN</td>\n",
       "      <td>NaN</td>\n",
       "      <td>NaN</td>\n",
       "      <td>NaN</td>\n",
       "      <td>NaN</td>\n",
       "      <td>almonds_with_shell</td>\n",
       "    </tr>\n",
       "    <tr>\n",
       "      <th>20081</th>\n",
       "      <td>F</td>\n",
       "      <td>FAO Estimate</td>\n",
       "      <td>NaN</td>\n",
       "      <td>NaN</td>\n",
       "      <td>NaN</td>\n",
       "      <td>NaN</td>\n",
       "      <td>NaN</td>\n",
       "      <td>anise_badian_fennel_corian</td>\n",
       "    </tr>\n",
       "    <tr>\n",
       "      <th>34985</th>\n",
       "      <td>F</td>\n",
       "      <td>FAO Estimate</td>\n",
       "      <td>NaN</td>\n",
       "      <td>NaN</td>\n",
       "      <td>NaN</td>\n",
       "      <td>NaN</td>\n",
       "      <td>NaN</td>\n",
       "      <td>apples</td>\n",
       "    </tr>\n",
       "    <tr>\n",
       "      <th>46753</th>\n",
       "      <td>F</td>\n",
       "      <td>FAO Estimate</td>\n",
       "      <td>NaN</td>\n",
       "      <td>NaN</td>\n",
       "      <td>NaN</td>\n",
       "      <td>NaN</td>\n",
       "      <td>NaN</td>\n",
       "      <td>apricots</td>\n",
       "    </tr>\n",
       "    <tr>\n",
       "      <th>...</th>\n",
       "      <td>...</td>\n",
       "      <td>...</td>\n",
       "      <td>...</td>\n",
       "      <td>...</td>\n",
       "      <td>...</td>\n",
       "      <td>...</td>\n",
       "      <td>...</td>\n",
       "      <td>...</td>\n",
       "    </tr>\n",
       "    <tr>\n",
       "      <th>2194131</th>\n",
       "      <td>F</td>\n",
       "      <td>FAO Estimate</td>\n",
       "      <td>NaN</td>\n",
       "      <td>NaN</td>\n",
       "      <td>NaN</td>\n",
       "      <td>NaN</td>\n",
       "      <td>NaN</td>\n",
       "      <td>walnuts_with_shell</td>\n",
       "    </tr>\n",
       "    <tr>\n",
       "      <th>2213221</th>\n",
       "      <td>F</td>\n",
       "      <td>FAO Estimate</td>\n",
       "      <td>NaN</td>\n",
       "      <td>NaN</td>\n",
       "      <td>NaN</td>\n",
       "      <td>NaN</td>\n",
       "      <td>NaN</td>\n",
       "      <td>watermelons</td>\n",
       "    </tr>\n",
       "    <tr>\n",
       "      <th>2239308</th>\n",
       "      <td>F</td>\n",
       "      <td>FAO Estimate</td>\n",
       "      <td>NaN</td>\n",
       "      <td>NaN</td>\n",
       "      <td>NaN</td>\n",
       "      <td>NaN</td>\n",
       "      <td>NaN</td>\n",
       "      <td>wheat</td>\n",
       "    </tr>\n",
       "    <tr>\n",
       "      <th>2252286</th>\n",
       "      <td>F</td>\n",
       "      <td>FAO Estimate</td>\n",
       "      <td>NaN</td>\n",
       "      <td>NaN</td>\n",
       "      <td>NaN</td>\n",
       "      <td>NaN</td>\n",
       "      <td>NaN</td>\n",
       "      <td>yams</td>\n",
       "    </tr>\n",
       "    <tr>\n",
       "      <th>2255347</th>\n",
       "      <td>F</td>\n",
       "      <td>FAO Estimate</td>\n",
       "      <td>NaN</td>\n",
       "      <td>NaN</td>\n",
       "      <td>NaN</td>\n",
       "      <td>NaN</td>\n",
       "      <td>NaN</td>\n",
       "      <td>yautia_cocoyam</td>\n",
       "    </tr>\n",
       "  </tbody>\n",
       "</table>\n",
       "<p>158 rows × 8 columns</p>\n",
       "</div>"
      ],
      "text/plain": [
       "        country_or_area  element_code element  year unit  value  \\\n",
       "2401                 F   FAO Estimate     NaN   NaN  NaN    NaN   \n",
       "11396                F   FAO Estimate     NaN   NaN  NaN    NaN   \n",
       "20081                F   FAO Estimate     NaN   NaN  NaN    NaN   \n",
       "34985                F   FAO Estimate     NaN   NaN  NaN    NaN   \n",
       "46753                F   FAO Estimate     NaN   NaN  NaN    NaN   \n",
       "...                 ...           ...     ...   ...  ...    ...   \n",
       "2194131              F   FAO Estimate     NaN   NaN  NaN    NaN   \n",
       "2213221              F   FAO Estimate     NaN   NaN  NaN    NaN   \n",
       "2239308              F   FAO Estimate     NaN   NaN  NaN    NaN   \n",
       "2252286              F   FAO Estimate     NaN   NaN  NaN    NaN   \n",
       "2255347              F   FAO Estimate     NaN   NaN  NaN    NaN   \n",
       "\n",
       "        value_footnotes                    category  \n",
       "2401                NaN            agave_fibres_nes  \n",
       "11396               NaN          almonds_with_shell  \n",
       "20081               NaN  anise_badian_fennel_corian  \n",
       "34985               NaN                      apples  \n",
       "46753               NaN                    apricots  \n",
       "...                 ...                         ...  \n",
       "2194131             NaN          walnuts_with_shell  \n",
       "2213221             NaN                 watermelons  \n",
       "2239308             NaN                       wheat  \n",
       "2252286             NaN                        yams  \n",
       "2255347             NaN              yautia_cocoyam  \n",
       "\n",
       "[158 rows x 8 columns]"
      ]
     },
     "execution_count": 21,
     "metadata": {},
     "output_type": "execute_result"
    }
   ],
   "source": [
    "crops.loc[crops.element_code == 'FAO Estimate']"
   ]
  },
  {
   "cell_type": "markdown",
   "metadata": {},
   "source": [
    "It seems to be because for those categories of elements, the values are NaN. We won't be able to fill them so we remove them. \n",
    "\n",
    "### Value Footnotes\n",
    "From the `FAO website`, we see that it corresponds to how the data were collected. The information won't help us for our questions so we remove the feature."
   ]
  },
  {
   "cell_type": "code",
   "execution_count": 22,
   "metadata": {},
   "outputs": [
    {
     "data": {
      "text/html": [
       "<div>\n",
       "<style scoped>\n",
       "    .dataframe tbody tr th:only-of-type {\n",
       "        vertical-align: middle;\n",
       "    }\n",
       "\n",
       "    .dataframe tbody tr th {\n",
       "        vertical-align: top;\n",
       "    }\n",
       "\n",
       "    .dataframe thead th {\n",
       "        text-align: right;\n",
       "    }\n",
       "</style>\n",
       "<table border=\"1\" class=\"dataframe\">\n",
       "  <thead>\n",
       "    <tr style=\"text-align: right;\">\n",
       "      <th></th>\n",
       "      <th>country_or_area</th>\n",
       "      <th>element_code</th>\n",
       "      <th>element</th>\n",
       "      <th>year</th>\n",
       "      <th>unit</th>\n",
       "      <th>value</th>\n",
       "      <th>category</th>\n",
       "    </tr>\n",
       "    <tr>\n",
       "      <th>value_footnotes</th>\n",
       "      <th></th>\n",
       "      <th></th>\n",
       "      <th></th>\n",
       "      <th></th>\n",
       "      <th></th>\n",
       "      <th></th>\n",
       "      <th></th>\n",
       "    </tr>\n",
       "  </thead>\n",
       "  <tbody>\n",
       "    <tr>\n",
       "      <th>A</th>\n",
       "      <td>974473</td>\n",
       "      <td>974473</td>\n",
       "      <td>974473</td>\n",
       "      <td>974473</td>\n",
       "      <td>974473</td>\n",
       "      <td>974473</td>\n",
       "      <td>974473</td>\n",
       "    </tr>\n",
       "    <tr>\n",
       "      <th>F</th>\n",
       "      <td>264501</td>\n",
       "      <td>264501</td>\n",
       "      <td>264501</td>\n",
       "      <td>264501</td>\n",
       "      <td>264501</td>\n",
       "      <td>264501</td>\n",
       "      <td>264501</td>\n",
       "    </tr>\n",
       "    <tr>\n",
       "      <th>Fc</th>\n",
       "      <td>386744</td>\n",
       "      <td>386744</td>\n",
       "      <td>386744</td>\n",
       "      <td>386744</td>\n",
       "      <td>386744</td>\n",
       "      <td>386744</td>\n",
       "      <td>386744</td>\n",
       "    </tr>\n",
       "    <tr>\n",
       "      <th>NR</th>\n",
       "      <td>150249</td>\n",
       "      <td>150249</td>\n",
       "      <td>150249</td>\n",
       "      <td>150249</td>\n",
       "      <td>150249</td>\n",
       "      <td>150249</td>\n",
       "      <td>150249</td>\n",
       "    </tr>\n",
       "  </tbody>\n",
       "</table>\n",
       "</div>"
      ],
      "text/plain": [
       "                 country_or_area  element_code  element    year    unit  \\\n",
       "value_footnotes                                                           \n",
       "A                         974473        974473   974473  974473  974473   \n",
       "F                         264501        264501   264501  264501  264501   \n",
       "Fc                        386744        386744   386744  386744  386744   \n",
       "NR                        150249        150249   150249  150249  150249   \n",
       "\n",
       "                  value  category  \n",
       "value_footnotes                    \n",
       "A                974473    974473  \n",
       "F                264501    264501  \n",
       "Fc               386744    386744  \n",
       "NR               150249    150249  "
      ]
     },
     "execution_count": 22,
     "metadata": {},
     "output_type": "execute_result"
    }
   ],
   "source": [
    "crops.groupby('value_footnotes').count()"
   ]
  },
  {
   "cell_type": "code",
   "execution_count": 23,
   "metadata": {},
   "outputs": [],
   "source": [
    "#remove value_footnotes and element_code\n",
    "crops = crops.drop(columns=['value_footnotes', 'element_code'])"
   ]
  },
  {
   "cell_type": "code",
   "execution_count": 24,
   "metadata": {},
   "outputs": [
    {
     "data": {
      "text/plain": [
       "(2254385, 6)"
      ]
     },
     "execution_count": 24,
     "metadata": {},
     "output_type": "execute_result"
    }
   ],
   "source": [
    "# remove missing values\n",
    "crops = crops.dropna()\n",
    "crops.shape"
   ]
  },
  {
   "cell_type": "code",
   "execution_count": 25,
   "metadata": {},
   "outputs": [
    {
     "data": {
      "text/html": [
       "<div>\n",
       "<style scoped>\n",
       "    .dataframe tbody tr th:only-of-type {\n",
       "        vertical-align: middle;\n",
       "    }\n",
       "\n",
       "    .dataframe tbody tr th {\n",
       "        vertical-align: top;\n",
       "    }\n",
       "\n",
       "    .dataframe thead th {\n",
       "        text-align: right;\n",
       "    }\n",
       "</style>\n",
       "<table border=\"1\" class=\"dataframe\">\n",
       "  <thead>\n",
       "    <tr style=\"text-align: right;\">\n",
       "      <th></th>\n",
       "      <th>country_or_area</th>\n",
       "      <th>element</th>\n",
       "      <th>year</th>\n",
       "      <th>unit</th>\n",
       "      <th>value</th>\n",
       "      <th>category</th>\n",
       "    </tr>\n",
       "  </thead>\n",
       "  <tbody>\n",
       "    <tr>\n",
       "      <th>455824</th>\n",
       "      <td>World +</td>\n",
       "      <td>Production Quantity</td>\n",
       "      <td>2007.0</td>\n",
       "      <td>tonnes</td>\n",
       "      <td>2.351396e+09</td>\n",
       "      <td>cereals_total</td>\n",
       "    </tr>\n",
       "    <tr>\n",
       "      <th>455827</th>\n",
       "      <td>World +</td>\n",
       "      <td>Production Quantity</td>\n",
       "      <td>2004.0</td>\n",
       "      <td>tonnes</td>\n",
       "      <td>2.280834e+09</td>\n",
       "      <td>cereals_total</td>\n",
       "    </tr>\n",
       "    <tr>\n",
       "      <th>455826</th>\n",
       "      <td>World +</td>\n",
       "      <td>Production Quantity</td>\n",
       "      <td>2005.0</td>\n",
       "      <td>tonnes</td>\n",
       "      <td>2.267177e+09</td>\n",
       "      <td>cereals_total</td>\n",
       "    </tr>\n",
       "    <tr>\n",
       "      <th>455825</th>\n",
       "      <td>World +</td>\n",
       "      <td>Production Quantity</td>\n",
       "      <td>2006.0</td>\n",
       "      <td>tonnes</td>\n",
       "      <td>2.239236e+09</td>\n",
       "      <td>cereals_total</td>\n",
       "    </tr>\n",
       "    <tr>\n",
       "      <th>363756</th>\n",
       "      <td>World +</td>\n",
       "      <td>Production Quantity</td>\n",
       "      <td>2007.0</td>\n",
       "      <td>tonnes</td>\n",
       "      <td>2.131753e+09</td>\n",
       "      <td>cereals_rice_milled_eqv</td>\n",
       "    </tr>\n",
       "    <tr>\n",
       "      <th>...</th>\n",
       "      <td>...</td>\n",
       "      <td>...</td>\n",
       "      <td>...</td>\n",
       "      <td>...</td>\n",
       "      <td>...</td>\n",
       "      <td>...</td>\n",
       "    </tr>\n",
       "    <tr>\n",
       "      <th>1329116</th>\n",
       "      <td>Belize</td>\n",
       "      <td>Yield</td>\n",
       "      <td>1984.0</td>\n",
       "      <td>Hg/Ha</td>\n",
       "      <td>0.000000e+00</td>\n",
       "      <td>onions_inc_shallots_green</td>\n",
       "    </tr>\n",
       "    <tr>\n",
       "      <th>1329115</th>\n",
       "      <td>Belize</td>\n",
       "      <td>Yield</td>\n",
       "      <td>1985.0</td>\n",
       "      <td>Hg/Ha</td>\n",
       "      <td>0.000000e+00</td>\n",
       "      <td>onions_inc_shallots_green</td>\n",
       "    </tr>\n",
       "    <tr>\n",
       "      <th>1329114</th>\n",
       "      <td>Belize</td>\n",
       "      <td>Yield</td>\n",
       "      <td>1986.0</td>\n",
       "      <td>Hg/Ha</td>\n",
       "      <td>0.000000e+00</td>\n",
       "      <td>onions_inc_shallots_green</td>\n",
       "    </tr>\n",
       "    <tr>\n",
       "      <th>1329113</th>\n",
       "      <td>Belize</td>\n",
       "      <td>Yield</td>\n",
       "      <td>1987.0</td>\n",
       "      <td>Hg/Ha</td>\n",
       "      <td>0.000000e+00</td>\n",
       "      <td>onions_inc_shallots_green</td>\n",
       "    </tr>\n",
       "    <tr>\n",
       "      <th>426898</th>\n",
       "      <td>Occupied Palestinian Territory</td>\n",
       "      <td>Net Production 1999-2001 (1000 I$)</td>\n",
       "      <td>1979.0</td>\n",
       "      <td>1000 Int. $</td>\n",
       "      <td>0.000000e+00</td>\n",
       "      <td>cereals_total</td>\n",
       "    </tr>\n",
       "  </tbody>\n",
       "</table>\n",
       "<p>2254385 rows × 6 columns</p>\n",
       "</div>"
      ],
      "text/plain": [
       "                        country_or_area                             element  \\\n",
       "455824                          World +                 Production Quantity   \n",
       "455827                          World +                 Production Quantity   \n",
       "455826                          World +                 Production Quantity   \n",
       "455825                          World +                 Production Quantity   \n",
       "363756                          World +                 Production Quantity   \n",
       "...                                 ...                                 ...   \n",
       "1329116                          Belize                               Yield   \n",
       "1329115                          Belize                               Yield   \n",
       "1329114                          Belize                               Yield   \n",
       "1329113                          Belize                               Yield   \n",
       "426898   Occupied Palestinian Territory  Net Production 1999-2001 (1000 I$)   \n",
       "\n",
       "           year         unit         value                   category  \n",
       "455824   2007.0       tonnes  2.351396e+09              cereals_total  \n",
       "455827   2004.0       tonnes  2.280834e+09              cereals_total  \n",
       "455826   2005.0       tonnes  2.267177e+09              cereals_total  \n",
       "455825   2006.0       tonnes  2.239236e+09              cereals_total  \n",
       "363756   2007.0       tonnes  2.131753e+09    cereals_rice_milled_eqv  \n",
       "...         ...          ...           ...                        ...  \n",
       "1329116  1984.0        Hg/Ha  0.000000e+00  onions_inc_shallots_green  \n",
       "1329115  1985.0        Hg/Ha  0.000000e+00  onions_inc_shallots_green  \n",
       "1329114  1986.0        Hg/Ha  0.000000e+00  onions_inc_shallots_green  \n",
       "1329113  1987.0        Hg/Ha  0.000000e+00  onions_inc_shallots_green  \n",
       "426898   1979.0  1000 Int. $  0.000000e+00              cereals_total  \n",
       "\n",
       "[2254385 rows x 6 columns]"
      ]
     },
     "execution_count": 25,
     "metadata": {},
     "output_type": "execute_result"
    }
   ],
   "source": [
    "crops.sort_values('value', ascending=False)"
   ]
  },
  {
   "cell_type": "markdown",
   "metadata": {},
   "source": [
    "We can still see a lot of 0 values. We will keep them for now.\\\n",
    "### Element\n",
    "\n",
    "Now let's observe a little bit more what kind of data are given. "
   ]
  },
  {
   "cell_type": "code",
   "execution_count": 27,
   "metadata": {},
   "outputs": [
    {
     "data": {
      "text/plain": [
       "<matplotlib.axes._subplots.AxesSubplot at 0x21b0fdc2390>"
      ]
     },
     "execution_count": 27,
     "metadata": {},
     "output_type": "execute_result"
    },
    {
     "data": {
      "image/png": "[encoded data removed]",
      "text/plain": [
       "<Figure size 432x288 with 1 Axes>"
      ]
     },
     "metadata": {
      "needs_background": "light"
     },
     "output_type": "display_data"
    }
   ],
   "source": [
    "elements = crops.copy()\n",
    "elements = elements.groupby('element').count()\n",
    "elements['value'].plot(kind='bar')"
   ]
  },
  {
   "cell_type": "code",
   "execution_count": 29,
   "metadata": {},
   "outputs": [
    {
     "data": {
      "text/html": [
       "<div>\n",
       "<style scoped>\n",
       "    .dataframe tbody tr th:only-of-type {\n",
       "        vertical-align: middle;\n",
       "    }\n",
       "\n",
       "    .dataframe tbody tr th {\n",
       "        vertical-align: top;\n",
       "    }\n",
       "\n",
       "    .dataframe thead th {\n",
       "        text-align: right;\n",
       "    }\n",
       "</style>\n",
       "<table border=\"1\" class=\"dataframe\">\n",
       "  <thead>\n",
       "    <tr style=\"text-align: right;\">\n",
       "      <th></th>\n",
       "      <th>country_or_area</th>\n",
       "      <th>element</th>\n",
       "      <th>year</th>\n",
       "      <th>unit</th>\n",
       "      <th>value</th>\n",
       "      <th>category</th>\n",
       "    </tr>\n",
       "  </thead>\n",
       "  <tbody>\n",
       "    <tr>\n",
       "      <th>364728</th>\n",
       "      <td>Afghanistan</td>\n",
       "      <td>Gross PIN (base 1999-2001)</td>\n",
       "      <td>2007.0</td>\n",
       "      <td>Int. $</td>\n",
       "      <td>235.0</td>\n",
       "      <td>cereals_total</td>\n",
       "    </tr>\n",
       "    <tr>\n",
       "      <th>364729</th>\n",
       "      <td>Afghanistan</td>\n",
       "      <td>Gross PIN (base 1999-2001)</td>\n",
       "      <td>2006.0</td>\n",
       "      <td>Int. $</td>\n",
       "      <td>188.0</td>\n",
       "      <td>cereals_total</td>\n",
       "    </tr>\n",
       "    <tr>\n",
       "      <th>364730</th>\n",
       "      <td>Afghanistan</td>\n",
       "      <td>Gross PIN (base 1999-2001)</td>\n",
       "      <td>2005.0</td>\n",
       "      <td>Int. $</td>\n",
       "      <td>221.0</td>\n",
       "      <td>cereals_total</td>\n",
       "    </tr>\n",
       "    <tr>\n",
       "      <th>364731</th>\n",
       "      <td>Afghanistan</td>\n",
       "      <td>Gross PIN (base 1999-2001)</td>\n",
       "      <td>2004.0</td>\n",
       "      <td>Int. $</td>\n",
       "      <td>144.0</td>\n",
       "      <td>cereals_total</td>\n",
       "    </tr>\n",
       "    <tr>\n",
       "      <th>364732</th>\n",
       "      <td>Afghanistan</td>\n",
       "      <td>Gross PIN (base 1999-2001)</td>\n",
       "      <td>2003.0</td>\n",
       "      <td>Int. $</td>\n",
       "      <td>180.0</td>\n",
       "      <td>cereals_total</td>\n",
       "    </tr>\n",
       "  </tbody>\n",
       "</table>\n",
       "</div>"
      ],
      "text/plain": [
       "       country_or_area                     element    year    unit  value  \\\n",
       "364728     Afghanistan  Gross PIN (base 1999-2001)  2007.0  Int. $  235.0   \n",
       "364729     Afghanistan  Gross PIN (base 1999-2001)  2006.0  Int. $  188.0   \n",
       "364730     Afghanistan  Gross PIN (base 1999-2001)  2005.0  Int. $  221.0   \n",
       "364731     Afghanistan  Gross PIN (base 1999-2001)  2004.0  Int. $  144.0   \n",
       "364732     Afghanistan  Gross PIN (base 1999-2001)  2003.0  Int. $  180.0   \n",
       "\n",
       "             category  \n",
       "364728  cereals_total  \n",
       "364729  cereals_total  \n",
       "364730  cereals_total  \n",
       "364731  cereals_total  \n",
       "364732  cereals_total  "
      ]
     },
     "execution_count": 29,
     "metadata": {},
     "output_type": "execute_result"
    }
   ],
   "source": [
    "#look at the order of values for the different elements \n",
    "#here look at 'Gross PIN (base 1999-2001)''\n",
    "crops.loc[crops.element == 'Gross PIN (base 1999-2001)'].head()"
   ]
  },
  {
   "cell_type": "code",
   "execution_count": 30,
   "metadata": {},
   "outputs": [
    {
     "data": {
      "text/html": [
       "<div>\n",
       "<style scoped>\n",
       "    .dataframe tbody tr th:only-of-type {\n",
       "        vertical-align: middle;\n",
       "    }\n",
       "\n",
       "    .dataframe tbody tr th {\n",
       "        vertical-align: top;\n",
       "    }\n",
       "\n",
       "    .dataframe thead th {\n",
       "        text-align: right;\n",
       "    }\n",
       "</style>\n",
       "<table border=\"1\" class=\"dataframe\">\n",
       "  <thead>\n",
       "    <tr style=\"text-align: right;\">\n",
       "      <th></th>\n",
       "      <th>country_or_area</th>\n",
       "      <th>element</th>\n",
       "      <th>year</th>\n",
       "      <th>unit</th>\n",
       "      <th>value</th>\n",
       "      <th>category</th>\n",
       "    </tr>\n",
       "  </thead>\n",
       "  <tbody>\n",
       "    <tr>\n",
       "      <th>364587</th>\n",
       "      <td>Afghanistan</td>\n",
       "      <td>Net Production 1999-2001 (1000 I$)</td>\n",
       "      <td>2007.0</td>\n",
       "      <td>1000 Int. $</td>\n",
       "      <td>861765.0</td>\n",
       "      <td>cereals_total</td>\n",
       "    </tr>\n",
       "    <tr>\n",
       "      <th>364588</th>\n",
       "      <td>Afghanistan</td>\n",
       "      <td>Net Production 1999-2001 (1000 I$)</td>\n",
       "      <td>2006.0</td>\n",
       "      <td>1000 Int. $</td>\n",
       "      <td>679843.0</td>\n",
       "      <td>cereals_total</td>\n",
       "    </tr>\n",
       "    <tr>\n",
       "      <th>364589</th>\n",
       "      <td>Afghanistan</td>\n",
       "      <td>Net Production 1999-2001 (1000 I$)</td>\n",
       "      <td>2005.0</td>\n",
       "      <td>1000 Int. $</td>\n",
       "      <td>803456.0</td>\n",
       "      <td>cereals_total</td>\n",
       "    </tr>\n",
       "    <tr>\n",
       "      <th>364590</th>\n",
       "      <td>Afghanistan</td>\n",
       "      <td>Net Production 1999-2001 (1000 I$)</td>\n",
       "      <td>2004.0</td>\n",
       "      <td>1000 Int. $</td>\n",
       "      <td>511338.0</td>\n",
       "      <td>cereals_total</td>\n",
       "    </tr>\n",
       "    <tr>\n",
       "      <th>364591</th>\n",
       "      <td>Afghanistan</td>\n",
       "      <td>Net Production 1999-2001 (1000 I$)</td>\n",
       "      <td>2003.0</td>\n",
       "      <td>1000 Int. $</td>\n",
       "      <td>652969.0</td>\n",
       "      <td>cereals_total</td>\n",
       "    </tr>\n",
       "  </tbody>\n",
       "</table>\n",
       "</div>"
      ],
      "text/plain": [
       "       country_or_area                             element    year  \\\n",
       "364587     Afghanistan  Net Production 1999-2001 (1000 I$)  2007.0   \n",
       "364588     Afghanistan  Net Production 1999-2001 (1000 I$)  2006.0   \n",
       "364589     Afghanistan  Net Production 1999-2001 (1000 I$)  2005.0   \n",
       "364590     Afghanistan  Net Production 1999-2001 (1000 I$)  2004.0   \n",
       "364591     Afghanistan  Net Production 1999-2001 (1000 I$)  2003.0   \n",
       "\n",
       "               unit     value       category  \n",
       "364587  1000 Int. $  861765.0  cereals_total  \n",
       "364588  1000 Int. $  679843.0  cereals_total  \n",
       "364589  1000 Int. $  803456.0  cereals_total  \n",
       "364590  1000 Int. $  511338.0  cereals_total  \n",
       "364591  1000 Int. $  652969.0  cereals_total  "
      ]
     },
     "execution_count": 30,
     "metadata": {},
     "output_type": "execute_result"
    }
   ],
   "source": [
    "crops.loc[crops.element == 'Net Production 1999-2001 (1000 I$)'].head()"
   ]
  },
  {
   "cell_type": "markdown",
   "metadata": {},
   "source": [
    "PIN: production index = land needed per unit of crop production in 1961 (in 1961 = 1): it won't interest us because it will be hard to put it in correlation to the other data sets. \n",
    "\n",
    "Gross PIN (base 1999-2001): not interessted \\\n",
    "Gross Production 1999-2001 (1000 dollars): not interested in looking at monetary values \\\n",
    "Grs per capita PIN (base 1999-2001): not interested in PIN \\\n",
    "Net PIN (base 1999-2001): not interested in PIN \\\n",
    "Net per capita PIN (base 1999-2001): not interested in PIN \\\n",
    "Net Production 1999-2001 (1000 dollars): not interested in looking at monetary values\n",
    "\n",
    "We won't be interested by all of that. We can also remove `Seed` and `Yield` \\\n",
    "Hence we only keep `Area Harvested` and `Production Quantity` that we separate in 2 tables."
   ]
  },
  {
   "cell_type": "code",
   "execution_count": 32,
   "metadata": {},
   "outputs": [],
   "source": [
    "# create one df for the elements we are not interested, another for the 2 interesting elements\n",
    "crops_no_interest = crops.loc[~(crops.element=='Area Harvested')\\\n",
    "                                     & ~(crops.element=='Production Quantity')] #every elements except the 2 of interest \n",
    "crops_interest = crops.drop(crops_no_interest.index, axis=0)"
   ]
  },
  {
   "cell_type": "markdown",
   "metadata": {},
   "source": [
    "### Unit \n",
    "\n",
    "Now we only have 2 elements. We want to check that they indeed don't have the same units and tha twe need to separate them in 2 different df."
   ]
  },
  {
   "cell_type": "code",
   "execution_count": 33,
   "metadata": {},
   "outputs": [
    {
     "data": {
      "text/html": [
       "<div>\n",
       "<style scoped>\n",
       "    .dataframe tbody tr th:only-of-type {\n",
       "        vertical-align: middle;\n",
       "    }\n",
       "\n",
       "    .dataframe tbody tr th {\n",
       "        vertical-align: top;\n",
       "    }\n",
       "\n",
       "    .dataframe thead th {\n",
       "        text-align: right;\n",
       "    }\n",
       "</style>\n",
       "<table border=\"1\" class=\"dataframe\">\n",
       "  <thead>\n",
       "    <tr style=\"text-align: right;\">\n",
       "      <th></th>\n",
       "      <th>country_or_area</th>\n",
       "      <th>element</th>\n",
       "      <th>year</th>\n",
       "      <th>unit</th>\n",
       "      <th>value</th>\n",
       "      <th>category</th>\n",
       "    </tr>\n",
       "  </thead>\n",
       "  <tbody>\n",
       "  </tbody>\n",
       "</table>\n",
       "</div>"
      ],
      "text/plain": [
       "Empty DataFrame\n",
       "Columns: [country_or_area, element, year, unit, value, category]\n",
       "Index: []"
      ]
     },
     "execution_count": 33,
     "metadata": {},
     "output_type": "execute_result"
    }
   ],
   "source": [
    "crops_interest[(crops_interest.unit=='Ha') & (crops_interest.element=='Production Quantity')]"
   ]
  },
  {
   "cell_type": "markdown",
   "metadata": {},
   "source": [
    "As they don't have the same unit, we need to separate them in 2 different tables.\\\n",
    "Now we can look at the other informations. We will continue the analysis by creating both tables every time as we will need both depending on the question. Nevertheless, we will print the df of only the `Area Harvested` informations for more readability. \n"
   ]
  },
  {
   "cell_type": "code",
   "execution_count": 34,
   "metadata": {},
   "outputs": [],
   "source": [
    "crops_area = crops_interest[crops_interest.element=='Area Harvested'] #in Ha : area added \n",
    "crops_prod = crops_interest[crops_interest.element=='Production Quantity'] #in tonnes : production"
   ]
  },
  {
   "cell_type": "markdown",
   "metadata": {},
   "source": [
    "### Year\n",
    "\n",
    "Last thing to study before looking at the informations about the products by themselves is the repartition of data over the years. "
   ]
  },
  {
   "cell_type": "code",
   "execution_count": 36,
   "metadata": {},
   "outputs": [
    {
     "data": {
      "text/plain": [
       "<matplotlib.axes._subplots.AxesSubplot at 0x21b08b5a278>"
      ]
     },
     "execution_count": 36,
     "metadata": {},
     "output_type": "execute_result"
    },
    {
     "data": {
      "image/png": "[encoded data removed]",
      "text/plain": [
       "<Figure size 432x288 with 1 Axes>"
      ]
     },
     "metadata": {
      "needs_background": "light"
     },
     "output_type": "display_data"
    }
   ],
   "source": [
    "year_area = crops_area.copy()\n",
    "year_area.groupby('year')['value'].count().plot()"
   ]
  },
  {
   "cell_type": "markdown",
   "metadata": {},
   "source": [
    "One can see that the number of data over time is very different from 1961 to 2007. An interesting point could be to know if it is due to the development of data collection in the last years or if the difference of entries is really due to the difference of expansion of agriculture. \n",
    "\n",
    "### Country or Area \n",
    "\n",
    "We need to have both data frame. "
   ]
  },
  {
   "cell_type": "code",
   "execution_count": 37,
   "metadata": {},
   "outputs": [
    {
     "data": {
      "text/html": [
       "<div>\n",
       "<style scoped>\n",
       "    .dataframe tbody tr th:only-of-type {\n",
       "        vertical-align: middle;\n",
       "    }\n",
       "\n",
       "    .dataframe tbody tr th {\n",
       "        vertical-align: top;\n",
       "    }\n",
       "\n",
       "    .dataframe thead th {\n",
       "        text-align: right;\n",
       "    }\n",
       "</style>\n",
       "<table border=\"1\" class=\"dataframe\">\n",
       "  <thead>\n",
       "    <tr style=\"text-align: right;\">\n",
       "      <th></th>\n",
       "      <th>value</th>\n",
       "    </tr>\n",
       "    <tr>\n",
       "      <th>country_or_area</th>\n",
       "      <th></th>\n",
       "    </tr>\n",
       "  </thead>\n",
       "  <tbody>\n",
       "    <tr>\n",
       "      <th>World +</th>\n",
       "      <td>1.599868e+11</td>\n",
       "    </tr>\n",
       "    <tr>\n",
       "      <th>Low Income Food Deficit Countries +</th>\n",
       "      <td>7.665792e+10</td>\n",
       "    </tr>\n",
       "    <tr>\n",
       "      <th>Asia +</th>\n",
       "      <td>6.836644e+10</td>\n",
       "    </tr>\n",
       "    <tr>\n",
       "      <th>Europe +</th>\n",
       "      <td>3.424290e+10</td>\n",
       "    </tr>\n",
       "    <tr>\n",
       "      <th>Americas +</th>\n",
       "      <td>3.374058e+10</td>\n",
       "    </tr>\n",
       "    <tr>\n",
       "      <th>...</th>\n",
       "      <td>...</td>\n",
       "    </tr>\n",
       "    <tr>\n",
       "      <th>US Virgin Islands</th>\n",
       "      <td>1.060000e+04</td>\n",
       "    </tr>\n",
       "    <tr>\n",
       "      <th>Faroe Islands</th>\n",
       "      <td>9.732000e+03</td>\n",
       "    </tr>\n",
       "    <tr>\n",
       "      <th>Cayman Islands</th>\n",
       "      <td>8.126000e+03</td>\n",
       "    </tr>\n",
       "    <tr>\n",
       "      <th>British Virgin Islands</th>\n",
       "      <td>3.590000e+03</td>\n",
       "    </tr>\n",
       "    <tr>\n",
       "      <th>Saint Pierre and Miquelon</th>\n",
       "      <td>1.520000e+02</td>\n",
       "    </tr>\n",
       "  </tbody>\n",
       "</table>\n",
       "<p>251 rows × 1 columns</p>\n",
       "</div>"
      ],
      "text/plain": [
       "                                            value\n",
       "country_or_area                                  \n",
       "World +                              1.599868e+11\n",
       "Low Income Food Deficit Countries +  7.665792e+10\n",
       "Asia +                               6.836644e+10\n",
       "Europe +                             3.424290e+10\n",
       "Americas +                           3.374058e+10\n",
       "...                                           ...\n",
       "US Virgin Islands                    1.060000e+04\n",
       "Faroe Islands                        9.732000e+03\n",
       "Cayman Islands                       8.126000e+03\n",
       "British Virgin Islands               3.590000e+03\n",
       "Saint Pierre and Miquelon            1.520000e+02\n",
       "\n",
       "[251 rows x 1 columns]"
      ]
     },
     "execution_count": 37,
     "metadata": {},
     "output_type": "execute_result"
    }
   ],
   "source": [
    "regions_prod = crops_prod.copy()\n",
    "regions_area = crops_area.copy()\n",
    "\n",
    "#area harvested for each country/region\n",
    "regions_area.groupby('country_or_area')[\"value\"].sum().sort_values(ascending=False).to_frame()"
   ]
  },
  {
   "cell_type": "markdown",
   "metadata": {},
   "source": [
    "We can see that the areas with the most entries of values consists in regions of the world such as continents or `Low Income Deficit Countries` which corresponds to economical regions, all ending with a `+`. As they regroup a lot of countries, they are not at the same scale as individual countries and we can separate the 3 categories (individual countries vs. areas/regions vs. economical regions).\n",
    "\n",
    "##### Useful data frames"
   ]
  },
  {
   "cell_type": "code",
   "execution_count": 42,
   "metadata": {},
   "outputs": [],
   "source": [
    "#specific global areas (regions or economical areas all finish by '+'\n",
    "\n",
    "#create dataframe for all non-countries areas\n",
    "crops_regions_area = regions_area[[name.endswith('+') for name in regions_area.country_or_area]]\n",
    "crops_regions_prod = regions_prod[[name.endswith('+') for name in regions_prod.country_or_area]]\n",
    "\n",
    "#dataframes for countries\n",
    "crops_countries_area = regions_area.drop(crops_regions_area.index, axis=0)\n",
    "crops_countries_prod = regions_prod.drop(crops_regions_prod.index, axis=0)\n",
    "\n",
    "#list of the economical regions \n",
    "economical_segments = ['Least Developed Countries +', 'LandLocked developing countries +',\n",
    "       'Small Island Developing States +', 'Low Income Food Deficit Countries +', 'Net Food Importing Developing Countries +']\n",
    "\n",
    "#dataframes for economical areas\n",
    "crops_eco_area = regions_area.loc[regions_area['country_or_area'].isin(economical_segments)]\n",
    "crops_eco_prod = regions_prod.loc[regions_prod['country_or_area'].isin(economical_segments)]\n",
    "\n",
    "#dataframes for regional areas\n",
    "crops_regions_area = crops_regions_area.loc[~regions_area['country_or_area'].isin(economical_segments)]\n",
    "crops_regions_prod = crops_regions_prod.loc[~regions_prod['country_or_area'].isin(economical_segments)]"
   ]
  },
  {
   "cell_type": "markdown",
   "metadata": {},
   "source": [
    "##### Displaying"
   ]
  },
  {
   "cell_type": "code",
   "execution_count": 43,
   "metadata": {},
   "outputs": [
    {
     "data": {
      "text/html": [
       "<div>\n",
       "<style scoped>\n",
       "    .dataframe tbody tr th:only-of-type {\n",
       "        vertical-align: middle;\n",
       "    }\n",
       "\n",
       "    .dataframe tbody tr th {\n",
       "        vertical-align: top;\n",
       "    }\n",
       "\n",
       "    .dataframe thead th {\n",
       "        text-align: right;\n",
       "    }\n",
       "</style>\n",
       "<table border=\"1\" class=\"dataframe\">\n",
       "  <thead>\n",
       "    <tr style=\"text-align: right;\">\n",
       "      <th></th>\n",
       "      <th>value</th>\n",
       "    </tr>\n",
       "    <tr>\n",
       "      <th>country_or_area</th>\n",
       "      <th></th>\n",
       "    </tr>\n",
       "  </thead>\n",
       "  <tbody>\n",
       "    <tr>\n",
       "      <th>Low Income Food Deficit Countries +</th>\n",
       "      <td>7.665792e+10</td>\n",
       "    </tr>\n",
       "    <tr>\n",
       "      <th>Net Food Importing Developing Countries +</th>\n",
       "      <td>2.221224e+10</td>\n",
       "    </tr>\n",
       "    <tr>\n",
       "      <th>Least Developed Countries +</th>\n",
       "      <td>1.568426e+10</td>\n",
       "    </tr>\n",
       "    <tr>\n",
       "      <th>LandLocked developing countries +</th>\n",
       "      <td>8.058806e+09</td>\n",
       "    </tr>\n",
       "    <tr>\n",
       "      <th>Small Island Developing States +</th>\n",
       "      <td>6.466597e+08</td>\n",
       "    </tr>\n",
       "  </tbody>\n",
       "</table>\n",
       "</div>"
      ],
      "text/plain": [
       "                                                  value\n",
       "country_or_area                                        \n",
       "Low Income Food Deficit Countries +        7.665792e+10\n",
       "Net Food Importing Developing Countries +  2.221224e+10\n",
       "Least Developed Countries +                1.568426e+10\n",
       "LandLocked developing countries +          8.058806e+09\n",
       "Small Island Developing States +           6.466597e+08"
      ]
     },
     "execution_count": 43,
     "metadata": {},
     "output_type": "execute_result"
    }
   ],
   "source": [
    "#display area harvested by economic areas\n",
    "crops_eco_area.groupby('country_or_area')[\"value\"].sum().sort_values(ascending=False).to_frame()"
   ]
  },
  {
   "cell_type": "code",
   "execution_count": 44,
   "metadata": {},
   "outputs": [
    {
     "data": {
      "text/html": [
       "<div>\n",
       "<style scoped>\n",
       "    .dataframe tbody tr th:only-of-type {\n",
       "        vertical-align: middle;\n",
       "    }\n",
       "\n",
       "    .dataframe tbody tr th {\n",
       "        vertical-align: top;\n",
       "    }\n",
       "\n",
       "    .dataframe thead th {\n",
       "        text-align: right;\n",
       "    }\n",
       "</style>\n",
       "<table border=\"1\" class=\"dataframe\">\n",
       "  <thead>\n",
       "    <tr style=\"text-align: right;\">\n",
       "      <th></th>\n",
       "      <th>value</th>\n",
       "    </tr>\n",
       "    <tr>\n",
       "      <th>country_or_area</th>\n",
       "      <th></th>\n",
       "    </tr>\n",
       "  </thead>\n",
       "  <tbody>\n",
       "    <tr>\n",
       "      <th>World +</th>\n",
       "      <td>1.599868e+11</td>\n",
       "    </tr>\n",
       "    <tr>\n",
       "      <th>Asia +</th>\n",
       "      <td>6.836644e+10</td>\n",
       "    </tr>\n",
       "    <tr>\n",
       "      <th>Europe +</th>\n",
       "      <td>3.424290e+10</td>\n",
       "    </tr>\n",
       "    <tr>\n",
       "      <th>Americas +</th>\n",
       "      <td>3.374058e+10</td>\n",
       "    </tr>\n",
       "    <tr>\n",
       "      <th>Southern Asia +</th>\n",
       "      <td>3.085033e+10</td>\n",
       "    </tr>\n",
       "    <tr>\n",
       "      <th>Eastern Europe +</th>\n",
       "      <td>2.396467e+10</td>\n",
       "    </tr>\n",
       "    <tr>\n",
       "      <th>Eastern Asia +</th>\n",
       "      <td>2.206147e+10</td>\n",
       "    </tr>\n",
       "    <tr>\n",
       "      <th>Africa +</th>\n",
       "      <td>2.097670e+10</td>\n",
       "    </tr>\n",
       "    <tr>\n",
       "      <th>Northern America +</th>\n",
       "      <td>1.939848e+10</td>\n",
       "    </tr>\n",
       "    <tr>\n",
       "      <th>European Union +</th>\n",
       "      <td>1.358359e+10</td>\n",
       "    </tr>\n",
       "    <tr>\n",
       "      <th>South America +</th>\n",
       "      <td>1.099009e+10</td>\n",
       "    </tr>\n",
       "    <tr>\n",
       "      <th>South-Eastern Asia +</th>\n",
       "      <td>9.929384e+09</td>\n",
       "    </tr>\n",
       "    <tr>\n",
       "      <th>Western Africa +</th>\n",
       "      <td>8.357869e+09</td>\n",
       "    </tr>\n",
       "    <tr>\n",
       "      <th>Eastern Africa +</th>\n",
       "      <td>5.520895e+09</td>\n",
       "    </tr>\n",
       "    <tr>\n",
       "      <th>Southern Europe +</th>\n",
       "      <td>4.712397e+09</td>\n",
       "    </tr>\n",
       "    <tr>\n",
       "      <th>Western Asia +</th>\n",
       "      <td>4.338389e+09</td>\n",
       "    </tr>\n",
       "    <tr>\n",
       "      <th>Northern Africa +</th>\n",
       "      <td>3.891611e+09</td>\n",
       "    </tr>\n",
       "    <tr>\n",
       "      <th>Western Europe +</th>\n",
       "      <td>3.812784e+09</td>\n",
       "    </tr>\n",
       "    <tr>\n",
       "      <th>Central America +</th>\n",
       "      <td>2.940681e+09</td>\n",
       "    </tr>\n",
       "    <tr>\n",
       "      <th>Oceania +</th>\n",
       "      <td>2.660119e+09</td>\n",
       "    </tr>\n",
       "    <tr>\n",
       "      <th>Australia and New Zealand +</th>\n",
       "      <td>2.532888e+09</td>\n",
       "    </tr>\n",
       "    <tr>\n",
       "      <th>Middle Africa +</th>\n",
       "      <td>1.807756e+09</td>\n",
       "    </tr>\n",
       "    <tr>\n",
       "      <th>Northern Europe +</th>\n",
       "      <td>1.753050e+09</td>\n",
       "    </tr>\n",
       "    <tr>\n",
       "      <th>Southern Africa +</th>\n",
       "      <td>1.398568e+09</td>\n",
       "    </tr>\n",
       "    <tr>\n",
       "      <th>Central Asia +</th>\n",
       "      <td>1.186882e+09</td>\n",
       "    </tr>\n",
       "    <tr>\n",
       "      <th>Caribbean +</th>\n",
       "      <td>4.113290e+08</td>\n",
       "    </tr>\n",
       "    <tr>\n",
       "      <th>Melanesia +</th>\n",
       "      <td>1.030653e+08</td>\n",
       "    </tr>\n",
       "    <tr>\n",
       "      <th>Polynesia +</th>\n",
       "      <td>1.480457e+07</td>\n",
       "    </tr>\n",
       "    <tr>\n",
       "      <th>Micronesia +</th>\n",
       "      <td>9.360418e+06</td>\n",
       "    </tr>\n",
       "  </tbody>\n",
       "</table>\n",
       "</div>"
      ],
      "text/plain": [
       "                                    value\n",
       "country_or_area                          \n",
       "World +                      1.599868e+11\n",
       "Asia +                       6.836644e+10\n",
       "Europe +                     3.424290e+10\n",
       "Americas +                   3.374058e+10\n",
       "Southern Asia +              3.085033e+10\n",
       "Eastern Europe +             2.396467e+10\n",
       "Eastern Asia +               2.206147e+10\n",
       "Africa +                     2.097670e+10\n",
       "Northern America +           1.939848e+10\n",
       "European Union +             1.358359e+10\n",
       "South America +              1.099009e+10\n",
       "South-Eastern Asia +         9.929384e+09\n",
       "Western Africa +             8.357869e+09\n",
       "Eastern Africa +             5.520895e+09\n",
       "Southern Europe +            4.712397e+09\n",
       "Western Asia +               4.338389e+09\n",
       "Northern Africa +            3.891611e+09\n",
       "Western Europe +             3.812784e+09\n",
       "Central America +            2.940681e+09\n",
       "Oceania +                    2.660119e+09\n",
       "Australia and New Zealand +  2.532888e+09\n",
       "Middle Africa +              1.807756e+09\n",
       "Northern Europe +            1.753050e+09\n",
       "Southern Africa +            1.398568e+09\n",
       "Central Asia +               1.186882e+09\n",
       "Caribbean +                  4.113290e+08\n",
       "Melanesia +                  1.030653e+08\n",
       "Polynesia +                  1.480457e+07\n",
       "Micronesia +                 9.360418e+06"
      ]
     },
     "execution_count": 44,
     "metadata": {},
     "output_type": "execute_result"
    }
   ],
   "source": [
    "#display area harvested by regional areas\n",
    "crops_regions_area.groupby('country_or_area')[\"value\"].sum().sort_values(ascending=False).to_frame()"
   ]
  },
  {
   "cell_type": "markdown",
   "metadata": {},
   "source": [
    "Even now we can see that some reginal areas are redundant, for example, `Europe` is counted by itself and separated in `Southern Europe`, `Northern Europe`, `Eastern Europe` and `Western Europe`. That explains why the value for `World` is different from the sum of all the rest. \\\n",
    "It is interesting to see that `Low Income Food Deficit Countries` have more areas harvested than the entire `Asia`. We will analyse that further in Milestone 3. "
   ]
  },
  {
   "cell_type": "code",
   "execution_count": 45,
   "metadata": {},
   "outputs": [
    {
     "data": {
      "text/html": [
       "<div>\n",
       "<style scoped>\n",
       "    .dataframe tbody tr th:only-of-type {\n",
       "        vertical-align: middle;\n",
       "    }\n",
       "\n",
       "    .dataframe tbody tr th {\n",
       "        vertical-align: top;\n",
       "    }\n",
       "\n",
       "    .dataframe thead th {\n",
       "        text-align: right;\n",
       "    }\n",
       "</style>\n",
       "<table border=\"1\" class=\"dataframe\">\n",
       "  <thead>\n",
       "    <tr style=\"text-align: right;\">\n",
       "      <th></th>\n",
       "      <th>value</th>\n",
       "    </tr>\n",
       "    <tr>\n",
       "      <th>country_or_area</th>\n",
       "      <th></th>\n",
       "    </tr>\n",
       "  </thead>\n",
       "  <tbody>\n",
       "    <tr>\n",
       "      <th>India</th>\n",
       "      <td>2.391471e+10</td>\n",
       "    </tr>\n",
       "    <tr>\n",
       "      <th>China</th>\n",
       "      <td>2.069723e+10</td>\n",
       "    </tr>\n",
       "    <tr>\n",
       "      <th>China, mainland</th>\n",
       "      <td>2.054710e+10</td>\n",
       "    </tr>\n",
       "    <tr>\n",
       "      <th>United States of America</th>\n",
       "      <td>1.569625e+10</td>\n",
       "    </tr>\n",
       "    <tr>\n",
       "      <th>USSR</th>\n",
       "      <td>1.495057e+10</td>\n",
       "    </tr>\n",
       "    <tr>\n",
       "      <th>Brazil</th>\n",
       "      <td>6.147899e+09</td>\n",
       "    </tr>\n",
       "    <tr>\n",
       "      <th>Nigeria</th>\n",
       "      <td>4.088043e+09</td>\n",
       "    </tr>\n",
       "    <tr>\n",
       "      <th>Canada</th>\n",
       "      <td>3.702207e+09</td>\n",
       "    </tr>\n",
       "    <tr>\n",
       "      <th>Indonesia</th>\n",
       "      <td>3.110258e+09</td>\n",
       "    </tr>\n",
       "    <tr>\n",
       "      <th>Russian Federation</th>\n",
       "      <td>2.978692e+09</td>\n",
       "    </tr>\n",
       "  </tbody>\n",
       "</table>\n",
       "</div>"
      ],
      "text/plain": [
       "                                 value\n",
       "country_or_area                       \n",
       "India                     2.391471e+10\n",
       "China                     2.069723e+10\n",
       "China, mainland           2.054710e+10\n",
       "United States of America  1.569625e+10\n",
       "USSR                      1.495057e+10\n",
       "Brazil                    6.147899e+09\n",
       "Nigeria                   4.088043e+09\n",
       "Canada                    3.702207e+09\n",
       "Indonesia                 3.110258e+09\n",
       "Russian Federation        2.978692e+09"
      ]
     },
     "execution_count": 45,
     "metadata": {},
     "output_type": "execute_result"
    }
   ],
   "source": [
    "#display area harvested per countries  \n",
    "crops_countries_area.groupby('country_or_area')[\"value\"].sum().sort_values(ascending=False).to_frame().head(10)"
   ]
  },
  {
   "cell_type": "markdown",
   "metadata": {},
   "source": [
    "There are 217 countries listed here. Knowing that there are as of today 195 countries in the world, we will need to consider that over time some countries disappeared, such as `USSR` or that countries are counted twice such as `China` and `China, mainland`.\n",
    "\n",
    "### Categories of products\n",
    "\n",
    "Now we are gonna investigate the products by themselves. \\\n",
    "Let's just try to observe results for countries individually as the results would be similar for bigger areas. "
   ]
  },
  {
   "cell_type": "code",
   "execution_count": 47,
   "metadata": {},
   "outputs": [
    {
     "data": {
      "text/html": [
       "<div>\n",
       "<style scoped>\n",
       "    .dataframe tbody tr th:only-of-type {\n",
       "        vertical-align: middle;\n",
       "    }\n",
       "\n",
       "    .dataframe tbody tr th {\n",
       "        vertical-align: top;\n",
       "    }\n",
       "\n",
       "    .dataframe thead th {\n",
       "        text-align: right;\n",
       "    }\n",
       "</style>\n",
       "<table border=\"1\" class=\"dataframe\">\n",
       "  <thead>\n",
       "    <tr style=\"text-align: right;\">\n",
       "      <th></th>\n",
       "      <th>value</th>\n",
       "    </tr>\n",
       "    <tr>\n",
       "      <th>category</th>\n",
       "      <th></th>\n",
       "    </tr>\n",
       "  </thead>\n",
       "  <tbody>\n",
       "    <tr>\n",
       "      <th>cereals_total</th>\n",
       "      <td>3.679708e+10</td>\n",
       "    </tr>\n",
       "    <tr>\n",
       "      <th>cereals_rice_milled_eqv</th>\n",
       "      <td>3.679708e+10</td>\n",
       "    </tr>\n",
       "    <tr>\n",
       "      <th>coarse_grain_total</th>\n",
       "      <td>1.699700e+10</td>\n",
       "    </tr>\n",
       "    <tr>\n",
       "      <th>wheat</th>\n",
       "      <td>1.165933e+10</td>\n",
       "    </tr>\n",
       "    <tr>\n",
       "      <th>oilcrops_primary</th>\n",
       "      <td>9.207386e+09</td>\n",
       "    </tr>\n",
       "    <tr>\n",
       "      <th>oilcakes_equivalent</th>\n",
       "      <td>8.815416e+09</td>\n",
       "    </tr>\n",
       "    <tr>\n",
       "      <th>rice_paddy</th>\n",
       "      <td>8.140748e+09</td>\n",
       "    </tr>\n",
       "    <tr>\n",
       "      <th>maize</th>\n",
       "      <td>6.927290e+09</td>\n",
       "    </tr>\n",
       "    <tr>\n",
       "      <th>pulses_total</th>\n",
       "      <td>3.387550e+09</td>\n",
       "    </tr>\n",
       "    <tr>\n",
       "      <th>barley</th>\n",
       "      <td>3.302561e+09</td>\n",
       "    </tr>\n",
       "    <tr>\n",
       "      <th>soybeans</th>\n",
       "      <td>2.838546e+09</td>\n",
       "    </tr>\n",
       "    <tr>\n",
       "      <th>roots_and_tubers_total</th>\n",
       "      <td>2.757671e+09</td>\n",
       "    </tr>\n",
       "    <tr>\n",
       "      <th>sorghum</th>\n",
       "      <td>2.300379e+09</td>\n",
       "    </tr>\n",
       "    <tr>\n",
       "      <th>fibre_crops_primary</th>\n",
       "      <td>2.079049e+09</td>\n",
       "    </tr>\n",
       "    <tr>\n",
       "      <th>millet</th>\n",
       "      <td>2.007758e+09</td>\n",
       "    </tr>\n",
       "  </tbody>\n",
       "</table>\n",
       "</div>"
      ],
      "text/plain": [
       "                                value\n",
       "category                             \n",
       "cereals_total            3.679708e+10\n",
       "cereals_rice_milled_eqv  3.679708e+10\n",
       "coarse_grain_total       1.699700e+10\n",
       "wheat                    1.165933e+10\n",
       "oilcrops_primary         9.207386e+09\n",
       "oilcakes_equivalent      8.815416e+09\n",
       "rice_paddy               8.140748e+09\n",
       "maize                    6.927290e+09\n",
       "pulses_total             3.387550e+09\n",
       "barley                   3.302561e+09\n",
       "soybeans                 2.838546e+09\n",
       "roots_and_tubers_total   2.757671e+09\n",
       "sorghum                  2.300379e+09\n",
       "fibre_crops_primary      2.079049e+09\n",
       "millet                   2.007758e+09"
      ]
     },
     "execution_count": 47,
     "metadata": {},
     "output_type": "execute_result"
    }
   ],
   "source": [
    "category_area = crops_countries_area.copy()\n",
    "category_prod = crops_countries_prod.copy()\n",
    "\n",
    "#area harvested for each products for all countries\n",
    "category_area.groupby('category')[\"value\"].sum().sort_values(ascending=False).to_frame().head(15)"
   ]
  },
  {
   "cell_type": "markdown",
   "metadata": {},
   "source": [
    "Here, again, we can see some categorization such as `_total` or `_eqv` that we need to put in another dataframe in order to be able to compare the different products individually on the same scale. 170 different categories of aliments are harvested in total (based on the size of the df). \n",
    "\n",
    "##### Useful data frames "
   ]
  },
  {
   "cell_type": "code",
   "execution_count": 48,
   "metadata": {},
   "outputs": [],
   "source": [
    "crops_indiv_area = category_area.copy()\n",
    "crops_indiv_prod = category_prod.copy()\n",
    "\n",
    "#df with categories of products \n",
    "crops_totals_area = crops_indiv_area[[name.endswith('_total') | name.endswith('_eqv') \\\n",
    "                                      | name.endswith('_equivalent') | name.endswith('_primary') \\\n",
    "                                      for name in crops_indiv_area['category']]]\n",
    "crops_totals_prod = crops_indiv_prod[[name.endswith('_total') | name.endswith('_eqv') \\\n",
    "                                      | name.endswith('_equivalent') | name.endswith('_primary') \\\n",
    "                                      for name in crops_indiv_prod['category']]]\n",
    "\n",
    "#df with only individual products \n",
    "crops_indiv_area = crops_indiv_area.drop(crops_totals_area.index, axis=0)\n",
    "crops_indiv_prod = crops_indiv_prod.drop(crops_totals_prod.index, axis=0)"
   ]
  },
  {
   "cell_type": "markdown",
   "metadata": {},
   "source": [
    "##### Displaying "
   ]
  },
  {
   "cell_type": "code",
   "execution_count": 50,
   "metadata": {},
   "outputs": [
    {
     "data": {
      "text/html": [
       "<div>\n",
       "<style scoped>\n",
       "    .dataframe tbody tr th:only-of-type {\n",
       "        vertical-align: middle;\n",
       "    }\n",
       "\n",
       "    .dataframe tbody tr th {\n",
       "        vertical-align: top;\n",
       "    }\n",
       "\n",
       "    .dataframe thead th {\n",
       "        text-align: right;\n",
       "    }\n",
       "</style>\n",
       "<table border=\"1\" class=\"dataframe\">\n",
       "  <thead>\n",
       "    <tr style=\"text-align: right;\">\n",
       "      <th></th>\n",
       "      <th>value</th>\n",
       "    </tr>\n",
       "    <tr>\n",
       "      <th>category</th>\n",
       "      <th></th>\n",
       "    </tr>\n",
       "  </thead>\n",
       "  <tbody>\n",
       "    <tr>\n",
       "      <th>wheat</th>\n",
       "      <td>1.165933e+10</td>\n",
       "    </tr>\n",
       "    <tr>\n",
       "      <th>rice_paddy</th>\n",
       "      <td>8.140748e+09</td>\n",
       "    </tr>\n",
       "    <tr>\n",
       "      <th>maize</th>\n",
       "      <td>6.927290e+09</td>\n",
       "    </tr>\n",
       "    <tr>\n",
       "      <th>barley</th>\n",
       "      <td>3.302561e+09</td>\n",
       "    </tr>\n",
       "    <tr>\n",
       "      <th>soybeans</th>\n",
       "      <td>2.838546e+09</td>\n",
       "    </tr>\n",
       "    <tr>\n",
       "      <th>sorghum</th>\n",
       "      <td>2.300379e+09</td>\n",
       "    </tr>\n",
       "    <tr>\n",
       "      <th>millet</th>\n",
       "      <td>2.007758e+09</td>\n",
       "    </tr>\n",
       "    <tr>\n",
       "      <th>seed_cotton</th>\n",
       "      <td>1.805924e+09</td>\n",
       "    </tr>\n",
       "    <tr>\n",
       "      <th>beans_dry</th>\n",
       "      <td>1.250165e+09</td>\n",
       "    </tr>\n",
       "    <tr>\n",
       "      <th>oats</th>\n",
       "      <td>1.115153e+09</td>\n",
       "    </tr>\n",
       "  </tbody>\n",
       "</table>\n",
       "</div>"
      ],
      "text/plain": [
       "                    value\n",
       "category                 \n",
       "wheat        1.165933e+10\n",
       "rice_paddy   8.140748e+09\n",
       "maize        6.927290e+09\n",
       "barley       3.302561e+09\n",
       "soybeans     2.838546e+09\n",
       "sorghum      2.300379e+09\n",
       "millet       2.007758e+09\n",
       "seed_cotton  1.805924e+09\n",
       "beans_dry    1.250165e+09\n",
       "oats         1.115153e+09"
      ]
     },
     "execution_count": 50,
     "metadata": {},
     "output_type": "execute_result"
    }
   ],
   "source": [
    "crops_indiv_area.groupby(\"category\")[\"value\"].sum().sort_values(ascending=False).to_frame().head(10)"
   ]
  },
  {
   "cell_type": "code",
   "execution_count": 51,
   "metadata": {},
   "outputs": [
    {
     "data": {
      "text/plain": [
       "(1995, 2007)"
      ]
     },
     "execution_count": 51,
     "metadata": {},
     "output_type": "execute_result"
    },
    {
     "data": {
      "image/png": "[encoded data removed]",
      "text/plain": [
       "<Figure size 504x504 with 1 Axes>"
      ]
     },
     "metadata": {
      "needs_background": "light"
     },
     "output_type": "display_data"
    }
   ],
   "source": [
    "x = crops_indiv_area.groupby(['year','category'])['value']\\\n",
    "                                                    .sum()\\\n",
    "                                                    .sort_values(ascending =False)\\\n",
    "                                                    .to_frame()[:350]\\\n",
    "                                                    .reset_index()\n",
    "plt.figure(figsize=(7,7))\n",
    "\n",
    "\n",
    "ax = sns.lineplot(x=\"year\", y=\"value\", hue=\"category\",\n",
    "                   data=x)\n",
    "\n",
    "ax.set_title('Top 10 most crops correpsponding area harvest (Ha)')\n",
    "ax.set_xlim([1995,2007])"
   ]
  },
  {
   "cell_type": "code",
   "execution_count": 52,
   "metadata": {},
   "outputs": [
    {
     "data": {
      "text/html": [
       "<div>\n",
       "<style scoped>\n",
       "    .dataframe tbody tr th:only-of-type {\n",
       "        vertical-align: middle;\n",
       "    }\n",
       "\n",
       "    .dataframe tbody tr th {\n",
       "        vertical-align: top;\n",
       "    }\n",
       "\n",
       "    .dataframe thead th {\n",
       "        text-align: right;\n",
       "    }\n",
       "</style>\n",
       "<table border=\"1\" class=\"dataframe\">\n",
       "  <thead>\n",
       "    <tr style=\"text-align: right;\">\n",
       "      <th></th>\n",
       "      <th>value</th>\n",
       "    </tr>\n",
       "    <tr>\n",
       "      <th>category</th>\n",
       "      <th></th>\n",
       "    </tr>\n",
       "  </thead>\n",
       "  <tbody>\n",
       "    <tr>\n",
       "      <th>sugar_cane</th>\n",
       "      <td>4.469464e+10</td>\n",
       "    </tr>\n",
       "    <tr>\n",
       "      <th>rice_paddy</th>\n",
       "      <td>2.768484e+10</td>\n",
       "    </tr>\n",
       "    <tr>\n",
       "      <th>wheat</th>\n",
       "      <td>2.492530e+10</td>\n",
       "    </tr>\n",
       "    <tr>\n",
       "      <th>maize</th>\n",
       "      <td>2.424903e+10</td>\n",
       "    </tr>\n",
       "    <tr>\n",
       "      <th>potatoes</th>\n",
       "      <td>1.514378e+10</td>\n",
       "    </tr>\n",
       "    <tr>\n",
       "      <th>sugar_beet</th>\n",
       "      <td>1.228800e+10</td>\n",
       "    </tr>\n",
       "    <tr>\n",
       "      <th>sweet_potatoes</th>\n",
       "      <td>1.092999e+10</td>\n",
       "    </tr>\n",
       "    <tr>\n",
       "      <th>vegetables_fresh_nes</th>\n",
       "      <td>8.518075e+09</td>\n",
       "    </tr>\n",
       "    <tr>\n",
       "      <th>barley</th>\n",
       "      <td>6.832736e+09</td>\n",
       "    </tr>\n",
       "    <tr>\n",
       "      <th>cassava</th>\n",
       "      <td>6.525130e+09</td>\n",
       "    </tr>\n",
       "  </tbody>\n",
       "</table>\n",
       "</div>"
      ],
      "text/plain": [
       "                             value\n",
       "category                          \n",
       "sugar_cane            4.469464e+10\n",
       "rice_paddy            2.768484e+10\n",
       "wheat                 2.492530e+10\n",
       "maize                 2.424903e+10\n",
       "potatoes              1.514378e+10\n",
       "sugar_beet            1.228800e+10\n",
       "sweet_potatoes        1.092999e+10\n",
       "vegetables_fresh_nes  8.518075e+09\n",
       "barley                6.832736e+09\n",
       "cassava               6.525130e+09"
      ]
     },
     "execution_count": 52,
     "metadata": {},
     "output_type": "execute_result"
    }
   ],
   "source": [
    "crops_indiv_prod.groupby(\"category\")[\"value\"].sum().sort_values(ascending=False).to_frame().head(10)"
   ]
  },
  {
   "cell_type": "code",
   "execution_count": 53,
   "metadata": {},
   "outputs": [
    {
     "data": {
      "text/plain": [
       "(1995, 2007)"
      ]
     },
     "execution_count": 53,
     "metadata": {},
     "output_type": "execute_result"
    },
    {
     "data": {
      "image/png": "[encoded data removed]",
      "text/plain": [
       "<Figure size 504x504 with 1 Axes>"
      ]
     },
     "metadata": {
      "needs_background": "light"
     },
     "output_type": "display_data"
    }
   ],
   "source": [
    "x = crops_indiv_prod.groupby(['year','category'])['value']\\\n",
    "                                                    .sum()\\\n",
    "                                                    .sort_values(ascending =False)\\\n",
    "                                                    .to_frame()[:350]\\\n",
    "                                                    .reset_index()\n",
    "plt.figure(figsize=(7,7))\n",
    "\n",
    "\n",
    "ax = sns.lineplot(x=\"year\", y=\"value\", hue=\"category\",\n",
    "                   data=x)\n",
    "\n",
    "ax.set_title('Top 10 most produced crops (Tonnes)')\n",
    "ax.set_xlim([1995,2007])"
   ]
  },
  {
   "cell_type": "markdown",
   "metadata": {},
   "source": [
    "We see a lot of similarities between top ranked products for `Area Harvested` and `Production Quantities`. We still see some differences that will be interested to study and to put in relationship with the other datasets.\n",
    "\n",
    "We can also see that some data are missing in certain years for some products."
   ]
  },
  {
   "cell_type": "markdown",
   "metadata": {},
   "source": [
    "<a id=\"livestock\"></a>\n",
    "### Livestock"
   ]
  },
  {
   "cell_type": "code",
   "execution_count": 14,
   "metadata": {},
   "outputs": [
    {
     "data": {
      "text/plain": [
       "Area Code         int64\n",
       "Area             object\n",
       "Item Code         int64\n",
       "Item             object\n",
       "Element Code      int64\n",
       "Element          object\n",
       "Year Code         int64\n",
       "Year              int64\n",
       "Unit             object\n",
       "Value           float64\n",
       "Flag             object\n",
       "dtype: object"
      ]
     },
     "execution_count": 14,
     "metadata": {},
     "output_type": "execute_result"
    }
   ],
   "source": [
    "livestock.dtypes"
   ]
  },
  {
   "cell_type": "code",
   "execution_count": 15,
   "metadata": {},
   "outputs": [
    {
     "data": {
      "text/html": [
       "<div>\n",
       "<style scoped>\n",
       "    .dataframe tbody tr th:only-of-type {\n",
       "        vertical-align: middle;\n",
       "    }\n",
       "\n",
       "    .dataframe tbody tr th {\n",
       "        vertical-align: top;\n",
       "    }\n",
       "\n",
       "    .dataframe thead th {\n",
       "        text-align: right;\n",
       "    }\n",
       "</style>\n",
       "<table border=\"1\" class=\"dataframe\">\n",
       "  <thead>\n",
       "    <tr style=\"text-align: right;\">\n",
       "      <th></th>\n",
       "      <th>Area Code</th>\n",
       "      <th>Area</th>\n",
       "      <th>Item Code</th>\n",
       "      <th>Item</th>\n",
       "      <th>Element Code</th>\n",
       "      <th>Element</th>\n",
       "      <th>Year Code</th>\n",
       "      <th>Year</th>\n",
       "      <th>Unit</th>\n",
       "      <th>Value</th>\n",
       "      <th>Flag</th>\n",
       "    </tr>\n",
       "  </thead>\n",
       "  <tbody>\n",
       "    <tr>\n",
       "      <th>0</th>\n",
       "      <td>2</td>\n",
       "      <td>Afghanistan</td>\n",
       "      <td>231</td>\n",
       "      <td>Almonds shelled</td>\n",
       "      <td>5910</td>\n",
       "      <td>Export Quantity</td>\n",
       "      <td>1961</td>\n",
       "      <td>1961</td>\n",
       "      <td>tonnes</td>\n",
       "      <td>0.0</td>\n",
       "      <td>NaN</td>\n",
       "    </tr>\n",
       "    <tr>\n",
       "      <th>1</th>\n",
       "      <td>2</td>\n",
       "      <td>Afghanistan</td>\n",
       "      <td>231</td>\n",
       "      <td>Almonds shelled</td>\n",
       "      <td>5910</td>\n",
       "      <td>Export Quantity</td>\n",
       "      <td>1962</td>\n",
       "      <td>1962</td>\n",
       "      <td>tonnes</td>\n",
       "      <td>0.0</td>\n",
       "      <td>NaN</td>\n",
       "    </tr>\n",
       "    <tr>\n",
       "      <th>2</th>\n",
       "      <td>2</td>\n",
       "      <td>Afghanistan</td>\n",
       "      <td>231</td>\n",
       "      <td>Almonds shelled</td>\n",
       "      <td>5910</td>\n",
       "      <td>Export Quantity</td>\n",
       "      <td>1963</td>\n",
       "      <td>1963</td>\n",
       "      <td>tonnes</td>\n",
       "      <td>0.0</td>\n",
       "      <td>NaN</td>\n",
       "    </tr>\n",
       "    <tr>\n",
       "      <th>3</th>\n",
       "      <td>2</td>\n",
       "      <td>Afghanistan</td>\n",
       "      <td>231</td>\n",
       "      <td>Almonds shelled</td>\n",
       "      <td>5910</td>\n",
       "      <td>Export Quantity</td>\n",
       "      <td>1964</td>\n",
       "      <td>1964</td>\n",
       "      <td>tonnes</td>\n",
       "      <td>0.0</td>\n",
       "      <td>NaN</td>\n",
       "    </tr>\n",
       "    <tr>\n",
       "      <th>4</th>\n",
       "      <td>2</td>\n",
       "      <td>Afghanistan</td>\n",
       "      <td>231</td>\n",
       "      <td>Almonds shelled</td>\n",
       "      <td>5910</td>\n",
       "      <td>Export Quantity</td>\n",
       "      <td>1965</td>\n",
       "      <td>1965</td>\n",
       "      <td>tonnes</td>\n",
       "      <td>0.0</td>\n",
       "      <td>NaN</td>\n",
       "    </tr>\n",
       "  </tbody>\n",
       "</table>\n",
       "</div>"
      ],
      "text/plain": [
       "   Area Code         Area  Item Code             Item  Element Code  \\\n",
       "0          2  Afghanistan        231  Almonds shelled          5910   \n",
       "1          2  Afghanistan        231  Almonds shelled          5910   \n",
       "2          2  Afghanistan        231  Almonds shelled          5910   \n",
       "3          2  Afghanistan        231  Almonds shelled          5910   \n",
       "4          2  Afghanistan        231  Almonds shelled          5910   \n",
       "\n",
       "           Element  Year Code  Year    Unit  Value Flag  \n",
       "0  Export Quantity       1961  1961  tonnes    0.0  NaN  \n",
       "1  Export Quantity       1962  1962  tonnes    0.0  NaN  \n",
       "2  Export Quantity       1963  1963  tonnes    0.0  NaN  \n",
       "3  Export Quantity       1964  1964  tonnes    0.0  NaN  \n",
       "4  Export Quantity       1965  1965  tonnes    0.0  NaN  "
      ]
     },
     "execution_count": 15,
     "metadata": {},
     "output_type": "execute_result"
    }
   ],
   "source": [
    "livestock.head(5)"
   ]
  },
  {
   "cell_type": "markdown",
   "metadata": {},
   "source": [
    "<a id=\"questions\"></a>\n",
    "## Data to Answer the Questions \n"
   ]
  },
  {
   "cell_type": "markdown",
   "metadata": {},
   "source": [
    "##### Question 1. \n",
    "What is the global evolution of the cultivated surface on a world scale from 1990 to 2007?"
   ]
  },
  {
   "cell_type": "code",
   "execution_count": 71,
   "metadata": {},
   "outputs": [
    {
     "data": {
      "text/plain": [
       "(1995, 2007)"
      ]
     },
     "execution_count": 71,
     "metadata": {},
     "output_type": "execute_result"
    },
    {
     "data": {
      "image/png": "[encoded data removed]",
      "text/plain": [
       "<Figure size 432x288 with 1 Axes>"
      ]
     },
     "metadata": {
      "needs_background": "light"
     },
     "output_type": "display_data"
    }
   ],
   "source": [
    "#use of the Crops data frame: \n",
    "world_surface = crops[(crops.country_or_area == 'World +') \\\n",
    "                      & (crops.year >= 1995) & (crops.year <= 2007)]\\\n",
    "                        .groupby('year')['value'].sum()\n",
    "world_surface.plot(kind='bar')\n",
    "plt.title('Evolution of cultivated surface on world scale from 1995 to 2007')\n",
    "ax.set_xlim([1995,2007])"
   ]
  },
  {
   "cell_type": "markdown",
   "metadata": {},
   "source": [
    "##### Question 2. \n",
    "What is the area lost of savanna, shrubland, grassland and forest per country?"
   ]
  },
  {
   "cell_type": "code",
   "execution_count": null,
   "metadata": {},
   "outputs": [],
   "source": []
  },
  {
   "cell_type": "markdown",
   "metadata": {},
   "source": [
    "##### Question 3. \n",
    "Do we see a correlation between the area lost by ecosystems and the area gain by agriculture?"
   ]
  },
  {
   "cell_type": "markdown",
   "metadata": {},
   "source": [
    "For the use of the `Crops` dataset, we will use the same principle as for Question 1. but for each countries. As we do the same for burned areas in different biomes, we will try to correlate both and deduce the loss of ecosystems to agriculture."
   ]
  },
  {
   "cell_type": "markdown",
   "metadata": {},
   "source": [
    "##### Question 4. \n",
    "For each selected crop, Sojabean, banana, wheat, rice, palm oil, what pourcentage of the total cultivated area do they represent? \n",
    "\n",
    "We will show how we will answer this question with the example of `Bananas`"
   ]
  },
  {
   "cell_type": "code",
   "execution_count": 58,
   "metadata": {},
   "outputs": [
    {
     "data": {
      "text/html": [
       "<div>\n",
       "<style scoped>\n",
       "    .dataframe tbody tr th:only-of-type {\n",
       "        vertical-align: middle;\n",
       "    }\n",
       "\n",
       "    .dataframe tbody tr th {\n",
       "        vertical-align: top;\n",
       "    }\n",
       "\n",
       "    .dataframe thead th {\n",
       "        text-align: right;\n",
       "    }\n",
       "</style>\n",
       "<table border=\"1\" class=\"dataframe\">\n",
       "  <thead>\n",
       "    <tr style=\"text-align: right;\">\n",
       "      <th></th>\n",
       "      <th>year</th>\n",
       "      <th>value</th>\n",
       "    </tr>\n",
       "  </thead>\n",
       "  <tbody>\n",
       "    <tr>\n",
       "      <th>0</th>\n",
       "      <td>2007.0</td>\n",
       "      <td>93652856.0</td>\n",
       "    </tr>\n",
       "    <tr>\n",
       "      <th>1</th>\n",
       "      <td>2006.0</td>\n",
       "      <td>89788488.0</td>\n",
       "    </tr>\n",
       "    <tr>\n",
       "      <th>2</th>\n",
       "      <td>2005.0</td>\n",
       "      <td>85267584.0</td>\n",
       "    </tr>\n",
       "    <tr>\n",
       "      <th>3</th>\n",
       "      <td>2004.0</td>\n",
       "      <td>80866125.0</td>\n",
       "    </tr>\n",
       "    <tr>\n",
       "      <th>4</th>\n",
       "      <td>2003.0</td>\n",
       "      <td>76112799.0</td>\n",
       "    </tr>\n",
       "  </tbody>\n",
       "</table>\n",
       "</div>"
      ],
      "text/plain": [
       "     year       value\n",
       "0  2007.0  93652856.0\n",
       "1  2006.0  89788488.0\n",
       "2  2005.0  85267584.0\n",
       "3  2004.0  80866125.0\n",
       "4  2003.0  76112799.0"
      ]
     },
     "execution_count": 58,
     "metadata": {},
     "output_type": "execute_result"
    }
   ],
   "source": [
    "# from the Crops dataframe: \n",
    "bananas_prod = crops_indiv_prod.copy()\n",
    "bananas_prod = bananas_prod[(bananas_prod['category']=='bananas')]\\\n",
    "                                        .groupby('year')['value'].sum()\\\n",
    "                                        .sort_values(ascending =False)\\\n",
    "                                        .to_frame()\\\n",
    "                                        .reset_index()\n",
    "bananas_prod.head()"
   ]
  },
  {
   "cell_type": "markdown",
   "metadata": {},
   "source": [
    "##### Question 5. \n",
    "If there is a correlation between an increase in area cultivated and area lost from all the ecosystems, what would be approximatively the area lost because of these crops in particular?"
   ]
  },
  {
   "cell_type": "code",
   "execution_count": null,
   "metadata": {},
   "outputs": [],
   "source": []
  },
  {
   "cell_type": "markdown",
   "metadata": {},
   "source": [
    "##### Question 6. \n",
    "Is sojabean, banana, wheat, rice, palm oil is meant for exportation and/or importation for each country over the years? Check more precisely for different economical segments and regions."
   ]
  },
  {
   "cell_type": "markdown",
   "metadata": {},
   "source": []
  },
  {
   "cell_type": "code",
   "execution_count": null,
   "metadata": {},
   "outputs": [],
   "source": []
  }
 ],
 "metadata": {
  "kernelspec": {
   "display_name": "Python 3",
   "language": "python",
   "name": "python3"
  },
  "language_info": {
   "codemirror_mode": {
    "name": "ipython",
    "version": 3
   },
   "file_extension": ".py",
   "mimetype": "text/x-python",
   "name": "python",
   "nbconvert_exporter": "python",
   "pygments_lexer": "ipython3",
   "version": "3.7.1"
  }
 },
 "nbformat": 4,
 "nbformat_minor": 4
}
