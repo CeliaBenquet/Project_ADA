{
 "cells": [
  {
   "cell_type": "markdown",
   "metadata": {},
   "source": [
    "# How food shapes the World - Ada project"
   ]
  },
  {
   "cell_type": "markdown",
   "metadata": {},
   "source": [
    "With 7.7 billion people around the world in 2019, food demand outbreak has raised serious concerns regarding productive agricultural land availability. As for now cultivable surface expansion has been the only real solution, this project aims at providing insights on how this problematic is currently shaping the world’s surface as we know it. Investigation will first focus on the kind of environment that are being impinged on. Moving on to the “destructive” impact of certain foodstuffs and diet trends, correlating with international trade flows. This study relies on FAOSTAT data set from the United Nation, helping us in the process.\n",
    "We endeavor at providing an exhaustive visualization of the world under growing food reshaping pressure. Key features will be surface evolution across time and space, selected crops impact as well as involved parties and areas. Tackling all of the above with both social awareness and self consciousness concerns."
   ]
  },
  {
   "cell_type": "markdown",
   "metadata": {},
   "source": [
    "## Libraries"
   ]
  },
  {
   "cell_type": "code",
   "execution_count": 1,
   "metadata": {},
   "outputs": [],
   "source": [
    "import pandas as pd\n",
    "import numpy as np\n",
    "import matplotlib.pyplot as plt\n",
    "import seaborn as sns"
   ]
  },
  {
   "cell_type": "markdown",
   "metadata": {},
   "source": [
    "## Opening the dataset"
   ]
  },
  {
   "cell_type": "markdown",
   "metadata": {},
   "source": [
    "First of all, we need to open the dataset on which we are working. That is, loading it and displayint as much of it as possible to get a better view from it."
   ]
  },
  {
   "cell_type": "code",
   "execution_count": 2,
   "metadata": {},
   "outputs": [],
   "source": [
    "datapath = \"Data/global-food-agriculture-statistics/\"\n",
    "current_fao = \"current_FAO/raw_files/\"\n",
    "\n",
    "savanna = pd.read_csv(datapath + current_fao + \"Emissions_Agriculture_Burning_Savanna_E_All_data_(Norm).csv\", sep=\",\", encoding=\"ANSI\")  # Less savanna\n",
    "crops = pd.read_csv(datapath + \"fao_data_crops_data.csv\", sep=\",\", encoding=\"UTF-8\")                                                     # Where every products are planted\n",
    "forests = pd.read_csv(datapath + current_fao + \"Emissions_Land_Use_Forest_Land_E_All_Data_(Norm).csv\", sep=\",\", encoding=\"ANSI\")         # Less forests\n",
    "livestock = pd.read_csv(datapath + current_fao + \"Trade_Crops_Livestock_E_All_Data_(Normalized).csv\", sep=\",\", encoding=\"ANSI\")          # Imports and exports "
   ]
  },
  {
   "cell_type": "markdown",
   "metadata": {},
   "source": [
    "We will now investigate each dataset and start to correlate them depending on the questions we want to answer for Milestone 3. \n",
    "\n",
    "### Table of contents\n",
    "\n",
    "1. [Savanna](#savanna) \n",
    "2. [Forests](#forests)\n",
    "3. [Merge of the Biomes Data Sets](#merge)\n",
    "4. [Crops](#crops)\n",
    "5. [Livestock](#livestock)\n",
    "6. [Data to answer the questions](#questions)"
   ]
  },
  {
   "cell_type": "markdown",
   "metadata": {},
   "source": [
    "<a id=\"savanna\"></a>\n",
    "### Savanna"
   ]
  },
  {
   "cell_type": "code",
   "execution_count": 3,
   "metadata": {},
   "outputs": [
    {
     "data": {
      "text/plain": [
       "Country Code      int64\n",
       "Country          object\n",
       "Item Code         int64\n",
       "Item             object\n",
       "Element Code      int64\n",
       "Element          object\n",
       "Year Code         int64\n",
       "Year              int64\n",
       "Unit             object\n",
       "Value           float64\n",
       "Flag             object\n",
       "dtype: object"
      ]
     },
     "execution_count": 3,
     "metadata": {},
     "output_type": "execute_result"
    }
   ],
   "source": [
    "savanna.dtypes"
   ]
  },
  {
   "cell_type": "code",
   "execution_count": 4,
   "metadata": {},
   "outputs": [
    {
     "data": {
      "text/html": [
       "<div>\n",
       "<style scoped>\n",
       "    .dataframe tbody tr th:only-of-type {\n",
       "        vertical-align: middle;\n",
       "    }\n",
       "\n",
       "    .dataframe tbody tr th {\n",
       "        vertical-align: top;\n",
       "    }\n",
       "\n",
       "    .dataframe thead th {\n",
       "        text-align: right;\n",
       "    }\n",
       "</style>\n",
       "<table border=\"1\" class=\"dataframe\">\n",
       "  <thead>\n",
       "    <tr style=\"text-align: right;\">\n",
       "      <th></th>\n",
       "      <th>Country Code</th>\n",
       "      <th>Country</th>\n",
       "      <th>Item Code</th>\n",
       "      <th>Item</th>\n",
       "      <th>Element Code</th>\n",
       "      <th>Element</th>\n",
       "      <th>Year Code</th>\n",
       "      <th>Year</th>\n",
       "      <th>Unit</th>\n",
       "      <th>Value</th>\n",
       "      <th>Flag</th>\n",
       "    </tr>\n",
       "  </thead>\n",
       "  <tbody>\n",
       "    <tr>\n",
       "      <td>0</td>\n",
       "      <td>2</td>\n",
       "      <td>Afghanistan</td>\n",
       "      <td>6760</td>\n",
       "      <td>Savanna</td>\n",
       "      <td>7246</td>\n",
       "      <td>Burned Area</td>\n",
       "      <td>1990</td>\n",
       "      <td>1990</td>\n",
       "      <td>Ha</td>\n",
       "      <td>0.9251</td>\n",
       "      <td>Fc</td>\n",
       "    </tr>\n",
       "  </tbody>\n",
       "</table>\n",
       "</div>"
      ],
      "text/plain": [
       "   Country Code      Country  Item Code     Item  Element Code      Element  \\\n",
       "0             2  Afghanistan       6760  Savanna          7246  Burned Area   \n",
       "\n",
       "   Year Code  Year Unit   Value Flag  \n",
       "0       1990  1990   Ha  0.9251   Fc  "
      ]
     },
     "execution_count": 4,
     "metadata": {},
     "output_type": "execute_result"
    }
   ],
   "source": [
    "savanna.head(1)"
   ]
  },
  {
   "cell_type": "markdown",
   "metadata": {},
   "source": [
    "#### Description:\n",
    "In this dataframe we have the following columns:\n",
    "- Country Code: One specific number per country\n",
    "- Country: list of country\n",
    "- Item Code: One specific number per Item\n",
    "- Item: A list of different ecosystems\n",
    "- Element Code: One specific munber per element\n",
    "- Element: What was actually calculated, measured or estimated\n",
    "- Year Code: One specific number per year (same as the year)\n",
    "- Year: The actual year\n",
    "- Unit: What is the unit of the value of \"Value\"\n",
    "- Value: The value found for the element\n",
    "- Flag: Info on where the data comes from (Fc, A, NaN, F)\n",
    "\n",
    "There is a total of 50'000 rows.\n",
    "\n",
    "All the years are registred since 1990 until 2014. There is then prediction for year 2030 and 2050.\n",
    "\n",
    "There is a total of 275 country like entries"
   ]
  },
  {
   "cell_type": "markdown",
   "metadata": {},
   "source": [
    "#### Selection of useful data\n",
    "As we are only interested in the area lost to burnings. We can do a first selection:"
   ]
  },
  {
   "cell_type": "code",
   "execution_count": 5,
   "metadata": {},
   "outputs": [
    {
     "data": {
      "text/html": [
       "<div>\n",
       "<style scoped>\n",
       "    .dataframe tbody tr th:only-of-type {\n",
       "        vertical-align: middle;\n",
       "    }\n",
       "\n",
       "    .dataframe tbody tr th {\n",
       "        vertical-align: top;\n",
       "    }\n",
       "\n",
       "    .dataframe thead th {\n",
       "        text-align: right;\n",
       "    }\n",
       "</style>\n",
       "<table border=\"1\" class=\"dataframe\">\n",
       "  <thead>\n",
       "    <tr style=\"text-align: right;\">\n",
       "      <th></th>\n",
       "      <th>Country Code</th>\n",
       "      <th>Country</th>\n",
       "      <th>Item Code</th>\n",
       "      <th>Item</th>\n",
       "      <th>Element Code</th>\n",
       "      <th>Element</th>\n",
       "      <th>Year Code</th>\n",
       "      <th>Year</th>\n",
       "      <th>Unit</th>\n",
       "      <th>Value</th>\n",
       "      <th>Flag</th>\n",
       "    </tr>\n",
       "  </thead>\n",
       "  <tbody>\n",
       "    <tr>\n",
       "      <td>0</td>\n",
       "      <td>2</td>\n",
       "      <td>Afghanistan</td>\n",
       "      <td>6760</td>\n",
       "      <td>Savanna</td>\n",
       "      <td>7246</td>\n",
       "      <td>Burned Area</td>\n",
       "      <td>1990</td>\n",
       "      <td>1990</td>\n",
       "      <td>Ha</td>\n",
       "      <td>0.9251</td>\n",
       "      <td>Fc</td>\n",
       "    </tr>\n",
       "    <tr>\n",
       "      <td>1</td>\n",
       "      <td>2</td>\n",
       "      <td>Afghanistan</td>\n",
       "      <td>6760</td>\n",
       "      <td>Savanna</td>\n",
       "      <td>7246</td>\n",
       "      <td>Burned Area</td>\n",
       "      <td>1991</td>\n",
       "      <td>1991</td>\n",
       "      <td>Ha</td>\n",
       "      <td>0.9251</td>\n",
       "      <td>Fc</td>\n",
       "    </tr>\n",
       "    <tr>\n",
       "      <td>2</td>\n",
       "      <td>2</td>\n",
       "      <td>Afghanistan</td>\n",
       "      <td>6760</td>\n",
       "      <td>Savanna</td>\n",
       "      <td>7246</td>\n",
       "      <td>Burned Area</td>\n",
       "      <td>1992</td>\n",
       "      <td>1992</td>\n",
       "      <td>Ha</td>\n",
       "      <td>0.9251</td>\n",
       "      <td>Fc</td>\n",
       "    </tr>\n",
       "    <tr>\n",
       "      <td>3</td>\n",
       "      <td>2</td>\n",
       "      <td>Afghanistan</td>\n",
       "      <td>6760</td>\n",
       "      <td>Savanna</td>\n",
       "      <td>7246</td>\n",
       "      <td>Burned Area</td>\n",
       "      <td>1993</td>\n",
       "      <td>1993</td>\n",
       "      <td>Ha</td>\n",
       "      <td>0.9251</td>\n",
       "      <td>Fc</td>\n",
       "    </tr>\n",
       "    <tr>\n",
       "      <td>4</td>\n",
       "      <td>2</td>\n",
       "      <td>Afghanistan</td>\n",
       "      <td>6760</td>\n",
       "      <td>Savanna</td>\n",
       "      <td>7246</td>\n",
       "      <td>Burned Area</td>\n",
       "      <td>1994</td>\n",
       "      <td>1994</td>\n",
       "      <td>Ha</td>\n",
       "      <td>0.9251</td>\n",
       "      <td>Fc</td>\n",
       "    </tr>\n",
       "  </tbody>\n",
       "</table>\n",
       "</div>"
      ],
      "text/plain": [
       "   Country Code      Country  Item Code     Item  Element Code      Element  \\\n",
       "0             2  Afghanistan       6760  Savanna          7246  Burned Area   \n",
       "1             2  Afghanistan       6760  Savanna          7246  Burned Area   \n",
       "2             2  Afghanistan       6760  Savanna          7246  Burned Area   \n",
       "3             2  Afghanistan       6760  Savanna          7246  Burned Area   \n",
       "4             2  Afghanistan       6760  Savanna          7246  Burned Area   \n",
       "\n",
       "   Year Code  Year Unit   Value Flag  \n",
       "0       1990  1990   Ha  0.9251   Fc  \n",
       "1       1991  1991   Ha  0.9251   Fc  \n",
       "2       1992  1992   Ha  0.9251   Fc  \n",
       "3       1993  1993   Ha  0.9251   Fc  \n",
       "4       1994  1994   Ha  0.9251   Fc  "
      ]
     },
     "execution_count": 5,
     "metadata": {},
     "output_type": "execute_result"
    }
   ],
   "source": [
    "savannaSurface = savanna[savanna['Element'].str.match('Burned Area')]\n",
    "savannaSurface.head()"
   ]
  },
  {
   "cell_type": "code",
   "execution_count": 6,
   "metadata": {},
   "outputs": [
    {
     "data": {
      "text/plain": [
       "0                         Savanna\n",
       "207                 Woody savanna\n",
       "444              Closed shrubland\n",
       "685                Open shrubland\n",
       "928                     Grassland\n",
       "1169     Burning - all categories\n",
       "1358    Savanna and woody savanna\n",
       "1547    Closed and open shrubland\n",
       "Name: Item, dtype: object"
      ]
     },
     "execution_count": 6,
     "metadata": {},
     "output_type": "execute_result"
    }
   ],
   "source": [
    "savanna.Item.drop_duplicates()"
   ]
  },
  {
   "cell_type": "markdown",
   "metadata": {},
   "source": [
    "Here is a list of all the different type of ecosystem on which we have data. It seems to contain 2 types of savana, two type of shrubland and grassland. In addition, the tree last categories are aparently agglomeration of the other items.\n",
    "Lets verify that:\n",
    "- The Savanna and woody savanna contains the values under the item Savanna and woody savanna.\n",
    "- Closed and open shrubland contains the values under the item closed shrubland and open shrubland.\n",
    "- Burning - all categories is a sum of all the types of ecosystem.\n",
    "\n",
    "To do that:"
   ]
  },
  {
   "cell_type": "code",
   "execution_count": 7,
   "metadata": {},
   "outputs": [
    {
     "name": "stdout",
     "output_type": "stream",
     "text": [
      "Total Savana :  245098958.1444  is equal to  245098958.1444\n",
      "Total shrubland :  26547260.456800003  is equal to  26547260.4567\n",
      "Total Surfaces :  311619836.7884  is equal to  311619836.7883\n"
     ]
    }
   ],
   "source": [
    "world_90 = savannaSurface.Value[(savannaSurface['Year']==1990)  & (savannaSurface['Country']=='World')].tolist()\n",
    "print('Total Savana : ', world_90[0] + world_90[1],' is equal to ', world_90[6])\n",
    "print('Total shrubland : ', world_90[2] + world_90[3],' is equal to ', world_90[7])\n",
    "print('Total Surfaces : ', sum(world_90[:5]), ' is equal to ', world_90[5])"
   ]
  },
  {
   "cell_type": "markdown",
   "metadata": {},
   "source": [
    "Our hypothesis were indeed correct. There are three main categories: Savana, Shrubland and grassland with subcategories. We also have the total surfaces burned in \"Burning - all categories\".\n",
    "\n",
    "We only keep the main Categories: Savana, Shrubland and grassland:"
   ]
  },
  {
   "cell_type": "code",
   "execution_count": 8,
   "metadata": {},
   "outputs": [],
   "source": [
    "savannaSurface = savannaSurface[(savannaSurface['Item']=='Savanna and woody savanna') | (savannaSurface['Item']=='Closed and open shrubland') | (savannaSurface['Item']=='Grassland')]\n",
    "savannaSurface = savannaSurface.replace('Savanna and woody savanna','Savanna')\n",
    "savannaSurface = savannaSurface.replace('Closed and open shrubland','Shrubland')"
   ]
  },
  {
   "cell_type": "markdown",
   "metadata": {},
   "source": [
    "Now, to have a better synergy between all the datasets we are using in this project. We need to keep only the years that are available in all the dataset. For this matter, we chose to study from 1995 to 2007. "
   ]
  },
  {
   "cell_type": "code",
   "execution_count": 9,
   "metadata": {},
   "outputs": [
    {
     "data": {
      "text/html": [
       "<div>\n",
       "<style scoped>\n",
       "    .dataframe tbody tr th:only-of-type {\n",
       "        vertical-align: middle;\n",
       "    }\n",
       "\n",
       "    .dataframe tbody tr th {\n",
       "        vertical-align: top;\n",
       "    }\n",
       "\n",
       "    .dataframe thead th {\n",
       "        text-align: right;\n",
       "    }\n",
       "</style>\n",
       "<table border=\"1\" class=\"dataframe\">\n",
       "  <thead>\n",
       "    <tr style=\"text-align: right;\">\n",
       "      <th></th>\n",
       "      <th>Country Code</th>\n",
       "      <th>Country</th>\n",
       "      <th>Item Code</th>\n",
       "      <th>Item</th>\n",
       "      <th>Element Code</th>\n",
       "      <th>Element</th>\n",
       "      <th>Year Code</th>\n",
       "      <th>Year</th>\n",
       "      <th>Unit</th>\n",
       "      <th>Value</th>\n",
       "      <th>Flag</th>\n",
       "    </tr>\n",
       "  </thead>\n",
       "  <tbody>\n",
       "    <tr>\n",
       "      <td>933</td>\n",
       "      <td>2</td>\n",
       "      <td>Afghanistan</td>\n",
       "      <td>6794</td>\n",
       "      <td>Grassland</td>\n",
       "      <td>7246</td>\n",
       "      <td>Burned Area</td>\n",
       "      <td>1995</td>\n",
       "      <td>1995</td>\n",
       "      <td>Ha</td>\n",
       "      <td>2323.1605</td>\n",
       "      <td>Fc</td>\n",
       "    </tr>\n",
       "    <tr>\n",
       "      <td>934</td>\n",
       "      <td>2</td>\n",
       "      <td>Afghanistan</td>\n",
       "      <td>6794</td>\n",
       "      <td>Grassland</td>\n",
       "      <td>7246</td>\n",
       "      <td>Burned Area</td>\n",
       "      <td>1996</td>\n",
       "      <td>1996</td>\n",
       "      <td>Ha</td>\n",
       "      <td>5349.2426</td>\n",
       "      <td>NaN</td>\n",
       "    </tr>\n",
       "  </tbody>\n",
       "</table>\n",
       "</div>"
      ],
      "text/plain": [
       "     Country Code      Country  Item Code       Item  Element Code  \\\n",
       "933             2  Afghanistan       6794  Grassland          7246   \n",
       "934             2  Afghanistan       6794  Grassland          7246   \n",
       "\n",
       "         Element  Year Code  Year Unit      Value Flag  \n",
       "933  Burned Area       1995  1995   Ha  2323.1605   Fc  \n",
       "934  Burned Area       1996  1996   Ha  5349.2426  NaN  "
      ]
     },
     "execution_count": 9,
     "metadata": {},
     "output_type": "execute_result"
    }
   ],
   "source": [
    "savannaSurface = savannaSurface[(savannaSurface['Year']>1994) & (savannaSurface['Year']<2008)]\n",
    "savannaSurface.head(2)"
   ]
  },
  {
   "cell_type": "markdown",
   "metadata": {},
   "source": [
    "Let's examinate the countries:\n",
    "The last 37 Countries of the column country do not contain countries, but the entire world and other group of countries."
   ]
  },
  {
   "cell_type": "code",
   "execution_count": 24,
   "metadata": {},
   "outputs": [
    {
     "name": "stdout",
     "output_type": "stream",
     "text": [
      "933                                   Afghanistan\n",
      "2657                                      Albania\n",
      "4425                                      Algeria\n",
      "5991                               American Samoa\n",
      "7503                                      Andorra\n",
      "                           ...                   \n",
      "426067          Low Income Food Deficit Countries\n",
      "427579    Net Food Importing Developing Countries\n",
      "429091                          Annex I countries\n",
      "430603                      Non-Annex I countries\n",
      "432115                                       OECD\n",
      "Name: Country, Length: 268, dtype: object\n",
      "933          Afghanistan\n",
      "2657             Albania\n",
      "4425             Algeria\n",
      "5991      American Samoa\n",
      "7503             Andorra\n",
      "               ...      \n",
      "371075    Western Sahara\n",
      "372587             Yemen\n",
      "374447            Zambia\n",
      "376229          Zimbabwe\n",
      "377795             World\n",
      "Name: Country, Length: 232, dtype: object\n"
     ]
    }
   ],
   "source": [
    "savannaSurface.Country.drop_duplicates()\n",
    "print(savannaSurface.Country.drop_duplicates())\n",
    "print(savannaSurface.Country.drop_duplicates().head(-36))"
   ]
  },
  {
   "cell_type": "markdown",
   "metadata": {},
   "source": [
    "In this project we want to find the burned areas by countries. Two other dataframes are also organized to have the burned area for specific regions like continants and for specific alliances or groups of countries, for exemple the OCDE."
   ]
  },
  {
   "cell_type": "code",
   "execution_count": 11,
   "metadata": {},
   "outputs": [
    {
     "data": {
      "text/html": [
       "<div>\n",
       "<style scoped>\n",
       "    .dataframe tbody tr th:only-of-type {\n",
       "        vertical-align: middle;\n",
       "    }\n",
       "\n",
       "    .dataframe tbody tr th {\n",
       "        vertical-align: top;\n",
       "    }\n",
       "\n",
       "    .dataframe thead th {\n",
       "        text-align: right;\n",
       "    }\n",
       "</style>\n",
       "<table border=\"1\" class=\"dataframe\">\n",
       "  <thead>\n",
       "    <tr style=\"text-align: right;\">\n",
       "      <th></th>\n",
       "      <th>Country Code</th>\n",
       "      <th>Country</th>\n",
       "      <th>Item Code</th>\n",
       "      <th>Item</th>\n",
       "      <th>Element Code</th>\n",
       "      <th>Element</th>\n",
       "      <th>Year Code</th>\n",
       "      <th>Year</th>\n",
       "      <th>Unit</th>\n",
       "      <th>Value</th>\n",
       "      <th>Flag</th>\n",
       "    </tr>\n",
       "  </thead>\n",
       "  <tbody>\n",
       "    <tr>\n",
       "      <td>933</td>\n",
       "      <td>2</td>\n",
       "      <td>Afghanistan</td>\n",
       "      <td>6794</td>\n",
       "      <td>Grassland</td>\n",
       "      <td>7246</td>\n",
       "      <td>Burned Area</td>\n",
       "      <td>1995</td>\n",
       "      <td>1995</td>\n",
       "      <td>Ha</td>\n",
       "      <td>2323.1605</td>\n",
       "      <td>Fc</td>\n",
       "    </tr>\n",
       "    <tr>\n",
       "      <td>934</td>\n",
       "      <td>2</td>\n",
       "      <td>Afghanistan</td>\n",
       "      <td>6794</td>\n",
       "      <td>Grassland</td>\n",
       "      <td>7246</td>\n",
       "      <td>Burned Area</td>\n",
       "      <td>1996</td>\n",
       "      <td>1996</td>\n",
       "      <td>Ha</td>\n",
       "      <td>5349.2426</td>\n",
       "      <td>NaN</td>\n",
       "    </tr>\n",
       "  </tbody>\n",
       "</table>\n",
       "</div>"
      ],
      "text/plain": [
       "     Country Code      Country  Item Code       Item  Element Code  \\\n",
       "933             2  Afghanistan       6794  Grassland          7246   \n",
       "934             2  Afghanistan       6794  Grassland          7246   \n",
       "\n",
       "         Element  Year Code  Year Unit      Value Flag  \n",
       "933  Burned Area       1995  1995   Ha  2323.1605   Fc  \n",
       "934  Burned Area       1996  1996   Ha  5349.2426  NaN  "
      ]
     },
     "execution_count": 11,
     "metadata": {},
     "output_type": "execute_result"
    }
   ],
   "source": [
    "savannaCountry = savannaSurface.truncate(after=377033)\n",
    "savannaCountry.head(2)"
   ]
  },
  {
   "cell_type": "code",
   "execution_count": 12,
   "metadata": {},
   "outputs": [
    {
     "data": {
      "text/html": [
       "<div>\n",
       "<style scoped>\n",
       "    .dataframe tbody tr th:only-of-type {\n",
       "        vertical-align: middle;\n",
       "    }\n",
       "\n",
       "    .dataframe tbody tr th {\n",
       "        vertical-align: top;\n",
       "    }\n",
       "\n",
       "    .dataframe thead th {\n",
       "        text-align: right;\n",
       "    }\n",
       "</style>\n",
       "<table border=\"1\" class=\"dataframe\">\n",
       "  <thead>\n",
       "    <tr style=\"text-align: right;\">\n",
       "      <th></th>\n",
       "      <th>Country Code</th>\n",
       "      <th>Country</th>\n",
       "      <th>Item Code</th>\n",
       "      <th>Item</th>\n",
       "      <th>Element Code</th>\n",
       "      <th>Element</th>\n",
       "      <th>Year Code</th>\n",
       "      <th>Year</th>\n",
       "      <th>Unit</th>\n",
       "      <th>Value</th>\n",
       "      <th>Flag</th>\n",
       "    </tr>\n",
       "  </thead>\n",
       "  <tbody>\n",
       "    <tr>\n",
       "      <td>377795</td>\n",
       "      <td>5000</td>\n",
       "      <td>World</td>\n",
       "      <td>6794</td>\n",
       "      <td>Grassland</td>\n",
       "      <td>7246</td>\n",
       "      <td>Burned Area</td>\n",
       "      <td>1995</td>\n",
       "      <td>1995</td>\n",
       "      <td>Ha</td>\n",
       "      <td>3.997362e+07</td>\n",
       "      <td>A</td>\n",
       "    </tr>\n",
       "    <tr>\n",
       "      <td>377796</td>\n",
       "      <td>5000</td>\n",
       "      <td>World</td>\n",
       "      <td>6794</td>\n",
       "      <td>Grassland</td>\n",
       "      <td>7246</td>\n",
       "      <td>Burned Area</td>\n",
       "      <td>1996</td>\n",
       "      <td>1996</td>\n",
       "      <td>Ha</td>\n",
       "      <td>3.501767e+07</td>\n",
       "      <td>A</td>\n",
       "    </tr>\n",
       "  </tbody>\n",
       "</table>\n",
       "</div>"
      ],
      "text/plain": [
       "        Country Code Country  Item Code       Item  Element Code      Element  \\\n",
       "377795          5000   World       6794  Grassland          7246  Burned Area   \n",
       "377796          5000   World       6794  Grassland          7246  Burned Area   \n",
       "\n",
       "        Year Code  Year Unit         Value Flag  \n",
       "377795       1995  1995   Ha  3.997362e+07    A  \n",
       "377796       1996  1996   Ha  3.501767e+07    A  "
      ]
     },
     "execution_count": 12,
     "metadata": {},
     "output_type": "execute_result"
    }
   ],
   "source": [
    "savannaRegion = savannaSurface.truncate(before=377033, after=420013)\n",
    "savannaRegion.head(2)"
   ]
  },
  {
   "cell_type": "code",
   "execution_count": 13,
   "metadata": {},
   "outputs": [
    {
     "data": {
      "text/html": [
       "<div>\n",
       "<style scoped>\n",
       "    .dataframe tbody tr th:only-of-type {\n",
       "        vertical-align: middle;\n",
       "    }\n",
       "\n",
       "    .dataframe tbody tr th {\n",
       "        vertical-align: top;\n",
       "    }\n",
       "\n",
       "    .dataframe thead th {\n",
       "        text-align: right;\n",
       "    }\n",
       "</style>\n",
       "<table border=\"1\" class=\"dataframe\">\n",
       "  <thead>\n",
       "    <tr style=\"text-align: right;\">\n",
       "      <th></th>\n",
       "      <th>Country Code</th>\n",
       "      <th>Country</th>\n",
       "      <th>Item Code</th>\n",
       "      <th>Item</th>\n",
       "      <th>Element Code</th>\n",
       "      <th>Element</th>\n",
       "      <th>Year Code</th>\n",
       "      <th>Year</th>\n",
       "      <th>Unit</th>\n",
       "      <th>Value</th>\n",
       "      <th>Flag</th>\n",
       "    </tr>\n",
       "  </thead>\n",
       "  <tbody>\n",
       "    <tr>\n",
       "      <td>420019</td>\n",
       "      <td>5706</td>\n",
       "      <td>European Union</td>\n",
       "      <td>6794</td>\n",
       "      <td>Grassland</td>\n",
       "      <td>7246</td>\n",
       "      <td>Burned Area</td>\n",
       "      <td>1995</td>\n",
       "      <td>1995</td>\n",
       "      <td>Ha</td>\n",
       "      <td>15107.9292</td>\n",
       "      <td>A</td>\n",
       "    </tr>\n",
       "    <tr>\n",
       "      <td>420020</td>\n",
       "      <td>5706</td>\n",
       "      <td>European Union</td>\n",
       "      <td>6794</td>\n",
       "      <td>Grassland</td>\n",
       "      <td>7246</td>\n",
       "      <td>Burned Area</td>\n",
       "      <td>1996</td>\n",
       "      <td>1996</td>\n",
       "      <td>Ha</td>\n",
       "      <td>17201.5004</td>\n",
       "      <td>A</td>\n",
       "    </tr>\n",
       "  </tbody>\n",
       "</table>\n",
       "</div>"
      ],
      "text/plain": [
       "        Country Code         Country  Item Code       Item  Element Code  \\\n",
       "420019          5706  European Union       6794  Grassland          7246   \n",
       "420020          5706  European Union       6794  Grassland          7246   \n",
       "\n",
       "            Element  Year Code  Year Unit       Value Flag  \n",
       "420019  Burned Area       1995  1995   Ha  15107.9292    A  \n",
       "420020  Burned Area       1996  1996   Ha  17201.5004    A  "
      ]
     },
     "execution_count": 13,
     "metadata": {},
     "output_type": "execute_result"
    }
   ],
   "source": [
    "savannaEconomical_segment = savannaSurface.truncate(before=420014)\n",
    "savannaEconomical_segment.head(2)"
   ]
  },
  {
   "cell_type": "markdown",
   "metadata": {},
   "source": [
    "Now we want to get rid of all the useless column:\n",
    "- Flag: It won't directly interest us. Just good to keep in mind that not all our data was collected in the same way\n",
    "- Unit: We are only dealing with [ha] now\n",
    "- Element: We only consider Burned Area, so no need to keep it in the dataframe\n",
    "- [...] Code: Do not really contain information"
   ]
  },
  {
   "cell_type": "code",
   "execution_count": 14,
   "metadata": {},
   "outputs": [],
   "source": [
    "savannaCountry = savannaCountry.drop(['Flag', 'Unit','Year Code', 'Element', 'Element Code','Country Code', 'Item Code'], axis=1)\\\n",
    "                             .rename(columns={\"Value\": \"Area_loss\",\"Item\": \"Ecosystem\"})\n",
    "savannaRegion = savannaRegion.drop(['Flag', 'Unit','Year Code', 'Element', 'Element Code','Country Code', 'Item Code'], axis=1)\\\n",
    "                             .rename(columns={\"Value\": \"Area_loss\",\"Item\": \"Ecosystem\"})\n",
    "savannaEconomical_segment = savannaEconomical_segment.drop(['Flag', 'Unit','Year Code', 'Element', 'Element Code','Country Code', 'Item Code'], axis=1)\\\n",
    "                             .rename(columns={\"Value\": \"Area_loss\",\"Item\": \"Ecosystem\"})"
   ]
  },
  {
   "cell_type": "markdown",
   "metadata": {},
   "source": [
    "Here is a summary of our three dataframes:"
   ]
  },
  {
   "cell_type": "code",
   "execution_count": 15,
   "metadata": {},
   "outputs": [
    {
     "data": {
      "text/html": [
       "<div>\n",
       "<style scoped>\n",
       "    .dataframe tbody tr th:only-of-type {\n",
       "        vertical-align: middle;\n",
       "    }\n",
       "\n",
       "    .dataframe tbody tr th {\n",
       "        vertical-align: top;\n",
       "    }\n",
       "\n",
       "    .dataframe thead th {\n",
       "        text-align: right;\n",
       "    }\n",
       "</style>\n",
       "<table border=\"1\" class=\"dataframe\">\n",
       "  <thead>\n",
       "    <tr style=\"text-align: right;\">\n",
       "      <th></th>\n",
       "      <th>Country</th>\n",
       "      <th>Ecosystem</th>\n",
       "      <th>Year</th>\n",
       "      <th>Area_loss</th>\n",
       "    </tr>\n",
       "  </thead>\n",
       "  <tbody>\n",
       "    <tr>\n",
       "      <td>933</td>\n",
       "      <td>Afghanistan</td>\n",
       "      <td>Grassland</td>\n",
       "      <td>1995</td>\n",
       "      <td>2323.1605</td>\n",
       "    </tr>\n",
       "    <tr>\n",
       "      <td>934</td>\n",
       "      <td>Afghanistan</td>\n",
       "      <td>Grassland</td>\n",
       "      <td>1996</td>\n",
       "      <td>5349.2426</td>\n",
       "    </tr>\n",
       "    <tr>\n",
       "      <td>935</td>\n",
       "      <td>Afghanistan</td>\n",
       "      <td>Grassland</td>\n",
       "      <td>1997</td>\n",
       "      <td>1191.8687</td>\n",
       "    </tr>\n",
       "    <tr>\n",
       "      <td>936</td>\n",
       "      <td>Afghanistan</td>\n",
       "      <td>Grassland</td>\n",
       "      <td>1998</td>\n",
       "      <td>19674.0298</td>\n",
       "    </tr>\n",
       "    <tr>\n",
       "      <td>937</td>\n",
       "      <td>Afghanistan</td>\n",
       "      <td>Grassland</td>\n",
       "      <td>1999</td>\n",
       "      <td>6007.4143</td>\n",
       "    </tr>\n",
       "  </tbody>\n",
       "</table>\n",
       "</div>"
      ],
      "text/plain": [
       "         Country  Ecosystem  Year   Area_loss\n",
       "933  Afghanistan  Grassland  1995   2323.1605\n",
       "934  Afghanistan  Grassland  1996   5349.2426\n",
       "935  Afghanistan  Grassland  1997   1191.8687\n",
       "936  Afghanistan  Grassland  1998  19674.0298\n",
       "937  Afghanistan  Grassland  1999   6007.4143"
      ]
     },
     "execution_count": 15,
     "metadata": {},
     "output_type": "execute_result"
    }
   ],
   "source": [
    "savannaCountry.head()"
   ]
  },
  {
   "cell_type": "code",
   "execution_count": 16,
   "metadata": {},
   "outputs": [
    {
     "data": {
      "text/html": [
       "<div>\n",
       "<style scoped>\n",
       "    .dataframe tbody tr th:only-of-type {\n",
       "        vertical-align: middle;\n",
       "    }\n",
       "\n",
       "    .dataframe tbody tr th {\n",
       "        vertical-align: top;\n",
       "    }\n",
       "\n",
       "    .dataframe thead th {\n",
       "        text-align: right;\n",
       "    }\n",
       "</style>\n",
       "<table border=\"1\" class=\"dataframe\">\n",
       "  <thead>\n",
       "    <tr style=\"text-align: right;\">\n",
       "      <th></th>\n",
       "      <th>Country</th>\n",
       "      <th>Ecosystem</th>\n",
       "      <th>Year</th>\n",
       "      <th>Area_loss</th>\n",
       "    </tr>\n",
       "  </thead>\n",
       "  <tbody>\n",
       "    <tr>\n",
       "      <td>420019</td>\n",
       "      <td>European Union</td>\n",
       "      <td>Grassland</td>\n",
       "      <td>1995</td>\n",
       "      <td>15107.9292</td>\n",
       "    </tr>\n",
       "    <tr>\n",
       "      <td>420020</td>\n",
       "      <td>European Union</td>\n",
       "      <td>Grassland</td>\n",
       "      <td>1996</td>\n",
       "      <td>17201.5004</td>\n",
       "    </tr>\n",
       "    <tr>\n",
       "      <td>420021</td>\n",
       "      <td>European Union</td>\n",
       "      <td>Grassland</td>\n",
       "      <td>1997</td>\n",
       "      <td>12652.5053</td>\n",
       "    </tr>\n",
       "    <tr>\n",
       "      <td>420022</td>\n",
       "      <td>European Union</td>\n",
       "      <td>Grassland</td>\n",
       "      <td>1998</td>\n",
       "      <td>26379.4422</td>\n",
       "    </tr>\n",
       "    <tr>\n",
       "      <td>420023</td>\n",
       "      <td>European Union</td>\n",
       "      <td>Grassland</td>\n",
       "      <td>1999</td>\n",
       "      <td>17202.5408</td>\n",
       "    </tr>\n",
       "  </tbody>\n",
       "</table>\n",
       "</div>"
      ],
      "text/plain": [
       "               Country  Ecosystem  Year   Area_loss\n",
       "420019  European Union  Grassland  1995  15107.9292\n",
       "420020  European Union  Grassland  1996  17201.5004\n",
       "420021  European Union  Grassland  1997  12652.5053\n",
       "420022  European Union  Grassland  1998  26379.4422\n",
       "420023  European Union  Grassland  1999  17202.5408"
      ]
     },
     "execution_count": 16,
     "metadata": {},
     "output_type": "execute_result"
    }
   ],
   "source": [
    "savannaEconomical_segment.head()"
   ]
  },
  {
   "cell_type": "code",
   "execution_count": 17,
   "metadata": {},
   "outputs": [
    {
     "data": {
      "text/html": [
       "<div>\n",
       "<style scoped>\n",
       "    .dataframe tbody tr th:only-of-type {\n",
       "        vertical-align: middle;\n",
       "    }\n",
       "\n",
       "    .dataframe tbody tr th {\n",
       "        vertical-align: top;\n",
       "    }\n",
       "\n",
       "    .dataframe thead th {\n",
       "        text-align: right;\n",
       "    }\n",
       "</style>\n",
       "<table border=\"1\" class=\"dataframe\">\n",
       "  <thead>\n",
       "    <tr style=\"text-align: right;\">\n",
       "      <th></th>\n",
       "      <th>Country</th>\n",
       "      <th>Ecosystem</th>\n",
       "      <th>Year</th>\n",
       "      <th>Area_loss</th>\n",
       "    </tr>\n",
       "  </thead>\n",
       "  <tbody>\n",
       "    <tr>\n",
       "      <td>377795</td>\n",
       "      <td>World</td>\n",
       "      <td>Grassland</td>\n",
       "      <td>1995</td>\n",
       "      <td>3.997362e+07</td>\n",
       "    </tr>\n",
       "    <tr>\n",
       "      <td>377796</td>\n",
       "      <td>World</td>\n",
       "      <td>Grassland</td>\n",
       "      <td>1996</td>\n",
       "      <td>3.501767e+07</td>\n",
       "    </tr>\n",
       "    <tr>\n",
       "      <td>377797</td>\n",
       "      <td>World</td>\n",
       "      <td>Grassland</td>\n",
       "      <td>1997</td>\n",
       "      <td>3.447965e+07</td>\n",
       "    </tr>\n",
       "    <tr>\n",
       "      <td>377798</td>\n",
       "      <td>World</td>\n",
       "      <td>Grassland</td>\n",
       "      <td>1998</td>\n",
       "      <td>4.058443e+07</td>\n",
       "    </tr>\n",
       "    <tr>\n",
       "      <td>377799</td>\n",
       "      <td>World</td>\n",
       "      <td>Grassland</td>\n",
       "      <td>1999</td>\n",
       "      <td>3.825170e+07</td>\n",
       "    </tr>\n",
       "  </tbody>\n",
       "</table>\n",
       "</div>"
      ],
      "text/plain": [
       "       Country  Ecosystem  Year     Area_loss\n",
       "377795   World  Grassland  1995  3.997362e+07\n",
       "377796   World  Grassland  1996  3.501767e+07\n",
       "377797   World  Grassland  1997  3.447965e+07\n",
       "377798   World  Grassland  1998  4.058443e+07\n",
       "377799   World  Grassland  1999  3.825170e+07"
      ]
     },
     "execution_count": 17,
     "metadata": {},
     "output_type": "execute_result"
    }
   ],
   "source": [
    "savannaRegion.head()"
   ]
  },
  {
   "cell_type": "markdown",
   "metadata": {},
   "source": [
    "#### Analysis of the desired value:\n",
    "In this dataset, only the total burned area interests us. Here is the description of the values:"
   ]
  },
  {
   "cell_type": "code",
   "execution_count": 18,
   "metadata": {},
   "outputs": [
    {
     "data": {
      "text/plain": [
       "count    8.883000e+03\n",
       "mean     4.689319e+05\n",
       "std      2.622205e+06\n",
       "min      0.000000e+00\n",
       "25%      0.000000e+00\n",
       "50%      9.508650e+01\n",
       "75%      1.058393e+04\n",
       "max      3.932319e+07\n",
       "Name: Area_loss, dtype: float64"
      ]
     },
     "execution_count": 18,
     "metadata": {},
     "output_type": "execute_result"
    }
   ],
   "source": [
    "savannaCountry['Area_loss'].describe()"
   ]
  },
  {
   "cell_type": "markdown",
   "metadata": {},
   "source": [
    "Let's plot the data to see how it looks like: \n",
    "- The plot is done for the 8 more conserned countries\n",
    "- The plot is done for savanna, another ecosystem will change the top 8 countries and obviously the area lost"
   ]
  },
  {
   "cell_type": "code",
   "execution_count": 19,
   "metadata": {},
   "outputs": [
    {
     "data": {
      "image/png": "[encoded data removed]",
      "text/plain": [
       "<Figure size 1080x432 with 1 Axes>"
      ]
     },
     "metadata": {
      "needs_background": "light"
     },
     "output_type": "display_data"
    }
   ],
   "source": [
    "z= savannaCountry[savannaCountry['Ecosystem'] == 'Savanna']\\\n",
    "                        .groupby(['Year','Country'])['Area_loss']\\\n",
    "                        .sum()\\\n",
    "                        .sort_values(ascending = False)\\\n",
    "                        .to_frame()[:85]\\\n",
    "                        .reset_index()\n",
    "plt.figure(figsize=(15,6))\n",
    "\n",
    "\n",
    "ax = sns.lineplot(x=\"Year\", y=\"Area_loss\", hue=\"Country\", data=z)\n",
    "\n",
    "ax.set_title('Area burned per year for 8 country for the ecosystem Savana')\n",
    "ax.set_xlim([1995,2007]);\n",
    "plt.xlabel('Year');\n",
    "plt.ylabel('Area lost');"
   ]
  },
  {
   "cell_type": "markdown",
   "metadata": {},
   "source": [
    "We see on the plot that our values are widely distributed. Indeed here we plot the countries with the biggest loses but a lot of other countries have 0 loses or near 0 values. If needed, a log scale can be used to see them clearly."
   ]
  },
  {
   "cell_type": "markdown",
   "metadata": {},
   "source": [
    "#### Use of Savanna\n",
    "\n",
    "The final dataframe: \"savannaFinal\" will be joined to the forest one to answer to the following question:\n",
    "- What is the global evolution of the cultivated surface on a world scale from 1995 to 2007?\n",
    "- What is the area lost of savanna, shrubland, grassland and forest per country?\n",
    "- Do we see a correlation between the area lost by ecosystems and the area gain by agriculture?\n",
    "- If there is a correlation between an increase in area cultivated and area lost from all the ecosystems, what would be approximatively the area lost because of these crops in particular?"
   ]
  },
  {
   "cell_type": "markdown",
   "metadata": {},
   "source": [
    "<a id=\"forests\"></a>\n",
    "### Forests"
   ]
  },
  {
   "cell_type": "code",
   "execution_count": 7,
   "metadata": {},
   "outputs": [
    {
     "data": {
      "text/plain": [
       "Country Code      int64\n",
       "Country          object\n",
       "Item Code         int64\n",
       "Item             object\n",
       "Element Code      int64\n",
       "Element          object\n",
       "Year Code         int64\n",
       "Year              int64\n",
       "Unit             object\n",
       "Value           float64\n",
       "Flag             object\n",
       "dtype: object"
      ]
     },
     "execution_count": 7,
     "metadata": {},
     "output_type": "execute_result"
    }
   ],
   "source": [
    "forests.dtypes"
   ]
  },
  {
   "cell_type": "code",
   "execution_count": 8,
   "metadata": {},
   "outputs": [
    {
     "data": {
      "text/html": [
       "<div>\n",
       "<style scoped>\n",
       "    .dataframe tbody tr th:only-of-type {\n",
       "        vertical-align: middle;\n",
       "    }\n",
       "\n",
       "    .dataframe tbody tr th {\n",
       "        vertical-align: top;\n",
       "    }\n",
       "\n",
       "    .dataframe thead th {\n",
       "        text-align: right;\n",
       "    }\n",
       "</style>\n",
       "<table border=\"1\" class=\"dataframe\">\n",
       "  <thead>\n",
       "    <tr style=\"text-align: right;\">\n",
       "      <th></th>\n",
       "      <th>Country Code</th>\n",
       "      <th>Country</th>\n",
       "      <th>Item Code</th>\n",
       "      <th>Item</th>\n",
       "      <th>Element Code</th>\n",
       "      <th>Element</th>\n",
       "      <th>Year Code</th>\n",
       "      <th>Year</th>\n",
       "      <th>Unit</th>\n",
       "      <th>Value</th>\n",
       "      <th>Flag</th>\n",
       "    </tr>\n",
       "  </thead>\n",
       "  <tbody>\n",
       "    <tr>\n",
       "      <th>0</th>\n",
       "      <td>2</td>\n",
       "      <td>Afghanistan</td>\n",
       "      <td>6661</td>\n",
       "      <td>Forest</td>\n",
       "      <td>5110</td>\n",
       "      <td>Area</td>\n",
       "      <td>1990</td>\n",
       "      <td>1990</td>\n",
       "      <td>1000 Ha</td>\n",
       "      <td>1350.0</td>\n",
       "      <td>F</td>\n",
       "    </tr>\n",
       "    <tr>\n",
       "      <th>1</th>\n",
       "      <td>2</td>\n",
       "      <td>Afghanistan</td>\n",
       "      <td>6661</td>\n",
       "      <td>Forest</td>\n",
       "      <td>5110</td>\n",
       "      <td>Area</td>\n",
       "      <td>1991</td>\n",
       "      <td>1991</td>\n",
       "      <td>1000 Ha</td>\n",
       "      <td>1350.0</td>\n",
       "      <td>F</td>\n",
       "    </tr>\n",
       "    <tr>\n",
       "      <th>2</th>\n",
       "      <td>2</td>\n",
       "      <td>Afghanistan</td>\n",
       "      <td>6661</td>\n",
       "      <td>Forest</td>\n",
       "      <td>5110</td>\n",
       "      <td>Area</td>\n",
       "      <td>1992</td>\n",
       "      <td>1992</td>\n",
       "      <td>1000 Ha</td>\n",
       "      <td>1350.0</td>\n",
       "      <td>F</td>\n",
       "    </tr>\n",
       "    <tr>\n",
       "      <th>3</th>\n",
       "      <td>2</td>\n",
       "      <td>Afghanistan</td>\n",
       "      <td>6661</td>\n",
       "      <td>Forest</td>\n",
       "      <td>5110</td>\n",
       "      <td>Area</td>\n",
       "      <td>1993</td>\n",
       "      <td>1993</td>\n",
       "      <td>1000 Ha</td>\n",
       "      <td>1350.0</td>\n",
       "      <td>F</td>\n",
       "    </tr>\n",
       "    <tr>\n",
       "      <th>4</th>\n",
       "      <td>2</td>\n",
       "      <td>Afghanistan</td>\n",
       "      <td>6661</td>\n",
       "      <td>Forest</td>\n",
       "      <td>5110</td>\n",
       "      <td>Area</td>\n",
       "      <td>1994</td>\n",
       "      <td>1994</td>\n",
       "      <td>1000 Ha</td>\n",
       "      <td>1350.0</td>\n",
       "      <td>F</td>\n",
       "    </tr>\n",
       "  </tbody>\n",
       "</table>\n",
       "</div>"
      ],
      "text/plain": [
       "   Country Code      Country  Item Code    Item  Element Code Element  \\\n",
       "0             2  Afghanistan       6661  Forest          5110    Area   \n",
       "1             2  Afghanistan       6661  Forest          5110    Area   \n",
       "2             2  Afghanistan       6661  Forest          5110    Area   \n",
       "3             2  Afghanistan       6661  Forest          5110    Area   \n",
       "4             2  Afghanistan       6661  Forest          5110    Area   \n",
       "\n",
       "   Year Code  Year     Unit   Value Flag  \n",
       "0       1990  1990  1000 Ha  1350.0    F  \n",
       "1       1991  1991  1000 Ha  1350.0    F  \n",
       "2       1992  1992  1000 Ha  1350.0    F  \n",
       "3       1993  1993  1000 Ha  1350.0    F  \n",
       "4       1994  1994  1000 Ha  1350.0    F  "
      ]
     },
     "execution_count": 8,
     "metadata": {},
     "output_type": "execute_result"
    }
   ],
   "source": [
    "forests.head(5)"
   ]
  },
  {
   "cell_type": "markdown",
   "metadata": {},
   "source": [
    "<a id=\"merge\"></a>\n",
    "### Merge of the Biomes Data Set"
   ]
  },
  {
   "cell_type": "code",
   "execution_count": 20,
   "metadata": {},
   "outputs": [],
   "source": [
    "#savannaRegion.head()\n",
    "#savannaCountry.head()\n",
    "#savannaEconomical_segment.head()\n",
    "#perform the merge with forest"
   ]
  },
  {
   "cell_type": "markdown",
   "metadata": {},
   "source": [
    "<a id=\"crops\"></a>\n",
    "### Crops"
   ]
  },
  {
   "cell_type": "markdown",
   "metadata": {},
   "source": [
    "The dataset `Crops` give us informations about distribution of crops in different areas over the years. We investigate this data set more in details in the file `Crops.ipynb` and will only present here the conclusive data sets and analysis. "
   ]
  },
  {
   "cell_type": "code",
   "execution_count": 12,
   "metadata": {},
   "outputs": [
    {
     "data": {
      "text/plain": [
       "country_or_area     object\n",
       "element_code        object\n",
       "element             object\n",
       "year               float64\n",
       "unit                object\n",
       "value              float64\n",
       "value_footnotes     object\n",
       "category            object\n",
       "dtype: object"
      ]
     },
     "execution_count": 12,
     "metadata": {},
     "output_type": "execute_result"
    }
   ],
   "source": [
    "crops.dtypes"
   ]
  },
  {
   "cell_type": "code",
   "execution_count": 13,
   "metadata": {},
   "outputs": [
    {
     "data": {
      "text/html": [
       "<div>\n",
       "<style scoped>\n",
       "    .dataframe tbody tr th:only-of-type {\n",
       "        vertical-align: middle;\n",
       "    }\n",
       "\n",
       "    .dataframe tbody tr th {\n",
       "        vertical-align: top;\n",
       "    }\n",
       "\n",
       "    .dataframe thead th {\n",
       "        text-align: right;\n",
       "    }\n",
       "</style>\n",
       "<table border=\"1\" class=\"dataframe\">\n",
       "  <thead>\n",
       "    <tr style=\"text-align: right;\">\n",
       "      <th></th>\n",
       "      <th>country_or_area</th>\n",
       "      <th>element_code</th>\n",
       "      <th>element</th>\n",
       "      <th>year</th>\n",
       "      <th>unit</th>\n",
       "      <th>value</th>\n",
       "      <th>value_footnotes</th>\n",
       "      <th>category</th>\n",
       "    </tr>\n",
       "  </thead>\n",
       "  <tbody>\n",
       "    <tr>\n",
       "      <th>0</th>\n",
       "      <td>Americas +</td>\n",
       "      <td>31</td>\n",
       "      <td>Area Harvested</td>\n",
       "      <td>2007.0</td>\n",
       "      <td>Ha</td>\n",
       "      <td>49404.0</td>\n",
       "      <td>A</td>\n",
       "      <td>agave_fibres_nes</td>\n",
       "    </tr>\n",
       "    <tr>\n",
       "      <th>1</th>\n",
       "      <td>Americas +</td>\n",
       "      <td>31</td>\n",
       "      <td>Area Harvested</td>\n",
       "      <td>2006.0</td>\n",
       "      <td>Ha</td>\n",
       "      <td>49404.0</td>\n",
       "      <td>A</td>\n",
       "      <td>agave_fibres_nes</td>\n",
       "    </tr>\n",
       "    <tr>\n",
       "      <th>2</th>\n",
       "      <td>Americas +</td>\n",
       "      <td>31</td>\n",
       "      <td>Area Harvested</td>\n",
       "      <td>2005.0</td>\n",
       "      <td>Ha</td>\n",
       "      <td>49404.0</td>\n",
       "      <td>A</td>\n",
       "      <td>agave_fibres_nes</td>\n",
       "    </tr>\n",
       "    <tr>\n",
       "      <th>3</th>\n",
       "      <td>Americas +</td>\n",
       "      <td>31</td>\n",
       "      <td>Area Harvested</td>\n",
       "      <td>2004.0</td>\n",
       "      <td>Ha</td>\n",
       "      <td>49113.0</td>\n",
       "      <td>A</td>\n",
       "      <td>agave_fibres_nes</td>\n",
       "    </tr>\n",
       "    <tr>\n",
       "      <th>4</th>\n",
       "      <td>Americas +</td>\n",
       "      <td>31</td>\n",
       "      <td>Area Harvested</td>\n",
       "      <td>2003.0</td>\n",
       "      <td>Ha</td>\n",
       "      <td>48559.0</td>\n",
       "      <td>A</td>\n",
       "      <td>agave_fibres_nes</td>\n",
       "    </tr>\n",
       "  </tbody>\n",
       "</table>\n",
       "</div>"
      ],
      "text/plain": [
       "  country_or_area element_code         element    year unit    value  \\\n",
       "0      Americas +           31  Area Harvested  2007.0   Ha  49404.0   \n",
       "1      Americas +           31  Area Harvested  2006.0   Ha  49404.0   \n",
       "2      Americas +           31  Area Harvested  2005.0   Ha  49404.0   \n",
       "3      Americas +           31  Area Harvested  2004.0   Ha  49113.0   \n",
       "4      Americas +           31  Area Harvested  2003.0   Ha  48559.0   \n",
       "\n",
       "  value_footnotes          category  \n",
       "0              A   agave_fibres_nes  \n",
       "1              A   agave_fibres_nes  \n",
       "2              A   agave_fibres_nes  \n",
       "3              A   agave_fibres_nes  \n",
       "4              A   agave_fibres_nes  "
      ]
     },
     "execution_count": 13,
     "metadata": {},
     "output_type": "execute_result"
    }
   ],
   "source": [
    "crops.head(5)"
   ]
  },
  {
   "cell_type": "markdown",
   "metadata": {},
   "source": [
    "From investigation in `Crops.ipynb`, we describe each features of the dataFrame: \\\n",
    "   * `country_or_area`: area where the product is cultivated. From the investigation, we observe different regroupments for those areas. They can correspond to countries, regions such as continents or even the world or economical regroupments such as `Low Income Food Deficit Countries`. \n",
    "   * `element`: gives us a number of different informations about the adding of the crops. We have lot of information on PIN, which is a production index qualifying the land needed per unit of crop production in 1961.We also have informations on  Seeds and Yields. IN order to answer our specific question, we will only keep `Area Harvested` and `ProductionQuantity`, respectively in Hectars and Tonnes as it can be seen in the feature `unit`. From now on, the data frames will be generated for both elements. \n",
    "   * `year`: the years are from 1961 to 2007. As the datasets `Savanna` and `Forests` are restricted to 1990, we choose to start at 1990 too in order to be able to conduct correlations. From the investigation, we can see that th enumber of data is uneven through time with a lot less data in the older years. \n",
    "   * `value`: feature of biggest interest as it will give us the corresponding value. Units are given in the `unit` feature and correspond to the information said in `element`.\n",
    "   * `category`: the sort of product that is concerned by the informations. FRom the investigation, we see that there are also regroupments. Hence, we can find products by themselves such as `Bananas` or groups of products such as `cereals_total`. When we regroup the data sets, we will have a first part using all the food products as one and in a second part to work on only 5 specific food products in order to have a specific idea of the phenomena. We chose `Bananas`, `palm_oil`, `sojabean`, `banana`, `wheat`, `rice`. "
   ]
  },
  {
   "cell_type": "code",
   "execution_count": null,
   "metadata": {},
   "outputs": [],
   "source": []
  },
  {
   "cell_type": "markdown",
   "metadata": {},
   "source": [
    "<a id=\"livestock\"></a>\n",
    "### Livestock"
   ]
  },
  {
   "cell_type": "code",
   "execution_count": 14,
   "metadata": {},
   "outputs": [
    {
     "data": {
      "text/plain": [
       "Area Code         int64\n",
       "Area             object\n",
       "Item Code         int64\n",
       "Item             object\n",
       "Element Code      int64\n",
       "Element          object\n",
       "Year Code         int64\n",
       "Year              int64\n",
       "Unit             object\n",
       "Value           float64\n",
       "Flag             object\n",
       "dtype: object"
      ]
     },
     "execution_count": 14,
     "metadata": {},
     "output_type": "execute_result"
    }
   ],
   "source": [
    "livestock.dtypes"
   ]
  },
  {
   "cell_type": "code",
   "execution_count": 15,
   "metadata": {},
   "outputs": [
    {
     "data": {
      "text/html": [
       "<div>\n",
       "<style scoped>\n",
       "    .dataframe tbody tr th:only-of-type {\n",
       "        vertical-align: middle;\n",
       "    }\n",
       "\n",
       "    .dataframe tbody tr th {\n",
       "        vertical-align: top;\n",
       "    }\n",
       "\n",
       "    .dataframe thead th {\n",
       "        text-align: right;\n",
       "    }\n",
       "</style>\n",
       "<table border=\"1\" class=\"dataframe\">\n",
       "  <thead>\n",
       "    <tr style=\"text-align: right;\">\n",
       "      <th></th>\n",
       "      <th>Area Code</th>\n",
       "      <th>Area</th>\n",
       "      <th>Item Code</th>\n",
       "      <th>Item</th>\n",
       "      <th>Element Code</th>\n",
       "      <th>Element</th>\n",
       "      <th>Year Code</th>\n",
       "      <th>Year</th>\n",
       "      <th>Unit</th>\n",
       "      <th>Value</th>\n",
       "      <th>Flag</th>\n",
       "    </tr>\n",
       "  </thead>\n",
       "  <tbody>\n",
       "    <tr>\n",
       "      <th>0</th>\n",
       "      <td>2</td>\n",
       "      <td>Afghanistan</td>\n",
       "      <td>231</td>\n",
       "      <td>Almonds shelled</td>\n",
       "      <td>5910</td>\n",
       "      <td>Export Quantity</td>\n",
       "      <td>1961</td>\n",
       "      <td>1961</td>\n",
       "      <td>tonnes</td>\n",
       "      <td>0.0</td>\n",
       "      <td>NaN</td>\n",
       "    </tr>\n",
       "    <tr>\n",
       "      <th>1</th>\n",
       "      <td>2</td>\n",
       "      <td>Afghanistan</td>\n",
       "      <td>231</td>\n",
       "      <td>Almonds shelled</td>\n",
       "      <td>5910</td>\n",
       "      <td>Export Quantity</td>\n",
       "      <td>1962</td>\n",
       "      <td>1962</td>\n",
       "      <td>tonnes</td>\n",
       "      <td>0.0</td>\n",
       "      <td>NaN</td>\n",
       "    </tr>\n",
       "    <tr>\n",
       "      <th>2</th>\n",
       "      <td>2</td>\n",
       "      <td>Afghanistan</td>\n",
       "      <td>231</td>\n",
       "      <td>Almonds shelled</td>\n",
       "      <td>5910</td>\n",
       "      <td>Export Quantity</td>\n",
       "      <td>1963</td>\n",
       "      <td>1963</td>\n",
       "      <td>tonnes</td>\n",
       "      <td>0.0</td>\n",
       "      <td>NaN</td>\n",
       "    </tr>\n",
       "    <tr>\n",
       "      <th>3</th>\n",
       "      <td>2</td>\n",
       "      <td>Afghanistan</td>\n",
       "      <td>231</td>\n",
       "      <td>Almonds shelled</td>\n",
       "      <td>5910</td>\n",
       "      <td>Export Quantity</td>\n",
       "      <td>1964</td>\n",
       "      <td>1964</td>\n",
       "      <td>tonnes</td>\n",
       "      <td>0.0</td>\n",
       "      <td>NaN</td>\n",
       "    </tr>\n",
       "    <tr>\n",
       "      <th>4</th>\n",
       "      <td>2</td>\n",
       "      <td>Afghanistan</td>\n",
       "      <td>231</td>\n",
       "      <td>Almonds shelled</td>\n",
       "      <td>5910</td>\n",
       "      <td>Export Quantity</td>\n",
       "      <td>1965</td>\n",
       "      <td>1965</td>\n",
       "      <td>tonnes</td>\n",
       "      <td>0.0</td>\n",
       "      <td>NaN</td>\n",
       "    </tr>\n",
       "  </tbody>\n",
       "</table>\n",
       "</div>"
      ],
      "text/plain": [
       "   Area Code         Area  Item Code             Item  Element Code  \\\n",
       "0          2  Afghanistan        231  Almonds shelled          5910   \n",
       "1          2  Afghanistan        231  Almonds shelled          5910   \n",
       "2          2  Afghanistan        231  Almonds shelled          5910   \n",
       "3          2  Afghanistan        231  Almonds shelled          5910   \n",
       "4          2  Afghanistan        231  Almonds shelled          5910   \n",
       "\n",
       "           Element  Year Code  Year    Unit  Value Flag  \n",
       "0  Export Quantity       1961  1961  tonnes    0.0  NaN  \n",
       "1  Export Quantity       1962  1962  tonnes    0.0  NaN  \n",
       "2  Export Quantity       1963  1963  tonnes    0.0  NaN  \n",
       "3  Export Quantity       1964  1964  tonnes    0.0  NaN  \n",
       "4  Export Quantity       1965  1965  tonnes    0.0  NaN  "
      ]
     },
     "execution_count": 15,
     "metadata": {},
     "output_type": "execute_result"
    }
   ],
   "source": [
    "livestock.head(5)"
   ]
  },
  {
   "cell_type": "markdown",
   "metadata": {},
   "source": [
    "<a id=\"questions\"></a>\n",
    "## Data to Answer the Questions \n"
   ]
  },
  {
   "cell_type": "markdown",
   "metadata": {},
   "source": [
    "##### Question 1. \n",
    "What is the global evolution of the cultivated surface on a world scale from 1990 to 2014?"
   ]
  },
  {
   "cell_type": "code",
   "execution_count": null,
   "metadata": {},
   "outputs": [],
   "source": []
  },
  {
   "cell_type": "markdown",
   "metadata": {},
   "source": [
    "##### Question 2. \n",
    "What is the area lost of savanna, shrubland, grassland and forest per country?"
   ]
  },
  {
   "cell_type": "code",
   "execution_count": null,
   "metadata": {},
   "outputs": [],
   "source": []
  },
  {
   "cell_type": "markdown",
   "metadata": {},
   "source": [
    "##### Question 3. \n",
    "Do we see a correlation between the area lost by ecosystems and the area gain by agriculture?"
   ]
  },
  {
   "cell_type": "code",
   "execution_count": null,
   "metadata": {},
   "outputs": [],
   "source": []
  },
  {
   "cell_type": "markdown",
   "metadata": {},
   "source": [
    "##### Question 4. \n",
    "For each selected crop, Sojabean, banana, wheat, rice, palm oil, what pourcentage of the total cultivated area do they represent? "
   ]
  },
  {
   "cell_type": "code",
   "execution_count": null,
   "metadata": {},
   "outputs": [],
   "source": []
  },
  {
   "cell_type": "markdown",
   "metadata": {},
   "source": [
    "##### Question 5. \n",
    "If there is a correlation between an increase in area cultivated and area lost from all the ecosystems, what would be approximatively the area lost because of these crops in particular?"
   ]
  },
  {
   "cell_type": "code",
   "execution_count": null,
   "metadata": {},
   "outputs": [],
   "source": []
  },
  {
   "cell_type": "markdown",
   "metadata": {},
   "source": [
    "##### Question 6. \n",
    "Is sojabean, banana, wheat, rice, palm oil is meant for exportation and/or importation for each country over the years? Check more precisely for different economical segments and regions."
   ]
  },
  {
   "cell_type": "code",
   "execution_count": null,
   "metadata": {},
   "outputs": [],
   "source": []
  }
 ],
 "metadata": {
  "kernelspec": {
   "display_name": "Python 3",
   "language": "python",
   "name": "python3"
  },
  "language_info": {
   "codemirror_mode": {
    "name": "ipython",
    "version": 3
   },
   "file_extension": ".py",
   "mimetype": "text/x-python",
   "name": "python",
   "nbconvert_exporter": "python",
   "pygments_lexer": "ipython3",
   "version": "3.7.4"
  }
 },
 "nbformat": 4,
 "nbformat_minor": 4
}
