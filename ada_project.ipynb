{
 "cells": [
  {
   "cell_type": "markdown",
   "metadata": {},
   "source": [
    "# How food shapes the World - Ada project"
   ]
  },
  {
   "cell_type": "markdown",
   "metadata": {},
   "source": [
    "With 7.7 billion people around the world in 2019, food demand outbreak has raised serious concerns regarding productive agricultural land availability. As for now cultivable surface expansion has been the only real solution, this project aims at providing insights on how this problematic is currently shaping the world’s surface as we know it. Investigation will first focus on the kind of environment that are being impinged on. Moving on to the “destructive” impact of certain foodstuffs and diet trends, correlating with international trade flows. This study relies on FAOSTAT data set from the United Nation, helping us in the process.\n",
    "We endeavor at providing an exhaustive visualization of the world under growing food reshaping pressure. Key features will be surface evolution across time and space, selected crops impact as well as involved parties and areas. Tackling all of the above with both social awareness and self consciousness concerns."
   ]
  },
  {
   "cell_type": "markdown",
   "metadata": {},
   "source": [
    "## Libraries"
   ]
  },
  {
   "cell_type": "code",
   "execution_count": 1,
   "metadata": {},
   "outputs": [],
   "source": [
    "import pandas as pd\n",
    "import numpy as np\n",
    "import matplotlib.pyplot as plt\n",
    "import seaborn as sns"
   ]
  },
  {
   "cell_type": "markdown",
   "metadata": {},
   "source": [
    "## Opening the dataset"
   ]
  },
  {
   "cell_type": "markdown",
   "metadata": {},
   "source": [
    "First of all, we need to open the dataset on which we are working. That is, loading it and displayint as much of it as possible to get a better view from it."
   ]
  },
  {
   "cell_type": "code",
   "execution_count": 2,
   "metadata": {},
   "outputs": [],
   "source": [
    "datapath = \"Data/global-food-agriculture-statistics/\"\n",
    "current_fao = \"current_FAO/raw_files/\"\n",
    "\n",
    "savanna = pd.read_csv(datapath + current_fao + \"Emissions_Agriculture_Burning_Savanna_E_All_data_(Norm).csv\", sep=\",\", encoding=\"ANSI\")  # Less savanna\n",
    "crops = pd.read_csv(datapath + \"fao_data_crops_data.csv\", sep=\",\", encoding=\"UTF-8\")                                                     # Where every products are planted\n",
    "forests = pd.read_csv(datapath + current_fao + \"Emissions_Land_Use_Forest_Land_E_All_Data_(Norm).csv\", sep=\",\", encoding=\"ANSI\")         # Less forests\n",
    "livestock = pd.read_csv(datapath + current_fao + \"Trade_Crops_Livestock_E_All_Data_(Normalized).csv\", sep=\",\", encoding=\"ANSI\")          # Imports and exports "
   ]
  },
  {
   "cell_type": "markdown",
   "metadata": {},
   "source": [
    "Now let's display these dataset and their types quickly : "
   ]
  },
  {
   "cell_type": "markdown",
   "metadata": {},
   "source": [
    "### Savanna :"
   ]
  },
  {
   "cell_type": "code",
   "execution_count": 3,
   "metadata": {},
   "outputs": [
    {
     "data": {
      "text/plain": [
       "Country Code      int64\n",
       "Country          object\n",
       "Item Code         int64\n",
       "Item             object\n",
       "Element Code      int64\n",
       "Element          object\n",
       "Year Code         int64\n",
       "Year              int64\n",
       "Unit             object\n",
       "Value           float64\n",
       "Flag             object\n",
       "dtype: object"
      ]
     },
     "execution_count": 3,
     "metadata": {},
     "output_type": "execute_result"
    }
   ],
   "source": [
    "savanna.dtypes"
   ]
  },
  {
   "cell_type": "code",
   "execution_count": 184,
   "metadata": {},
   "outputs": [
    {
     "data": {
      "text/html": [
       "<div>\n",
       "<style scoped>\n",
       "    .dataframe tbody tr th:only-of-type {\n",
       "        vertical-align: middle;\n",
       "    }\n",
       "\n",
       "    .dataframe tbody tr th {\n",
       "        vertical-align: top;\n",
       "    }\n",
       "\n",
       "    .dataframe thead th {\n",
       "        text-align: right;\n",
       "    }\n",
       "</style>\n",
       "<table border=\"1\" class=\"dataframe\">\n",
       "  <thead>\n",
       "    <tr style=\"text-align: right;\">\n",
       "      <th></th>\n",
       "      <th>Country Code</th>\n",
       "      <th>Country</th>\n",
       "      <th>Item Code</th>\n",
       "      <th>Item</th>\n",
       "      <th>Element Code</th>\n",
       "      <th>Element</th>\n",
       "      <th>Year Code</th>\n",
       "      <th>Year</th>\n",
       "      <th>Unit</th>\n",
       "      <th>Value</th>\n",
       "      <th>Flag</th>\n",
       "    </tr>\n",
       "  </thead>\n",
       "  <tbody>\n",
       "    <tr>\n",
       "      <td>0</td>\n",
       "      <td>2</td>\n",
       "      <td>Afghanistan</td>\n",
       "      <td>6760</td>\n",
       "      <td>Savanna</td>\n",
       "      <td>7246</td>\n",
       "      <td>Burned Area</td>\n",
       "      <td>1990</td>\n",
       "      <td>1990</td>\n",
       "      <td>Ha</td>\n",
       "      <td>0.9251</td>\n",
       "      <td>Fc</td>\n",
       "    </tr>\n",
       "    <tr>\n",
       "      <td>1</td>\n",
       "      <td>2</td>\n",
       "      <td>Afghanistan</td>\n",
       "      <td>6760</td>\n",
       "      <td>Savanna</td>\n",
       "      <td>7246</td>\n",
       "      <td>Burned Area</td>\n",
       "      <td>1991</td>\n",
       "      <td>1991</td>\n",
       "      <td>Ha</td>\n",
       "      <td>0.9251</td>\n",
       "      <td>Fc</td>\n",
       "    </tr>\n",
       "    <tr>\n",
       "      <td>2</td>\n",
       "      <td>2</td>\n",
       "      <td>Afghanistan</td>\n",
       "      <td>6760</td>\n",
       "      <td>Savanna</td>\n",
       "      <td>7246</td>\n",
       "      <td>Burned Area</td>\n",
       "      <td>1992</td>\n",
       "      <td>1992</td>\n",
       "      <td>Ha</td>\n",
       "      <td>0.9251</td>\n",
       "      <td>Fc</td>\n",
       "    </tr>\n",
       "    <tr>\n",
       "      <td>3</td>\n",
       "      <td>2</td>\n",
       "      <td>Afghanistan</td>\n",
       "      <td>6760</td>\n",
       "      <td>Savanna</td>\n",
       "      <td>7246</td>\n",
       "      <td>Burned Area</td>\n",
       "      <td>1993</td>\n",
       "      <td>1993</td>\n",
       "      <td>Ha</td>\n",
       "      <td>0.9251</td>\n",
       "      <td>Fc</td>\n",
       "    </tr>\n",
       "    <tr>\n",
       "      <td>4</td>\n",
       "      <td>2</td>\n",
       "      <td>Afghanistan</td>\n",
       "      <td>6760</td>\n",
       "      <td>Savanna</td>\n",
       "      <td>7246</td>\n",
       "      <td>Burned Area</td>\n",
       "      <td>1994</td>\n",
       "      <td>1994</td>\n",
       "      <td>Ha</td>\n",
       "      <td>0.9251</td>\n",
       "      <td>Fc</td>\n",
       "    </tr>\n",
       "  </tbody>\n",
       "</table>\n",
       "</div>"
      ],
      "text/plain": [
       "   Country Code      Country  Item Code     Item  Element Code      Element  \\\n",
       "0             2  Afghanistan       6760  Savanna          7246  Burned Area   \n",
       "1             2  Afghanistan       6760  Savanna          7246  Burned Area   \n",
       "2             2  Afghanistan       6760  Savanna          7246  Burned Area   \n",
       "3             2  Afghanistan       6760  Savanna          7246  Burned Area   \n",
       "4             2  Afghanistan       6760  Savanna          7246  Burned Area   \n",
       "\n",
       "   Year Code  Year Unit   Value Flag  \n",
       "0       1990  1990   Ha  0.9251   Fc  \n",
       "1       1991  1991   Ha  0.9251   Fc  \n",
       "2       1992  1992   Ha  0.9251   Fc  \n",
       "3       1993  1993   Ha  0.9251   Fc  \n",
       "4       1994  1994   Ha  0.9251   Fc  "
      ]
     },
     "execution_count": 184,
     "metadata": {},
     "output_type": "execute_result"
    }
   ],
   "source": [
    "savannaSurface.head()"
   ]
  },
  {
   "cell_type": "markdown",
   "metadata": {},
   "source": [
    "#### Description:\n",
    "In this dataframe we have the following columns:\n",
    "- Country Code: One specific number per country\n",
    "- Country: list of country\n",
    "- Item Code: One specific number per Item\n",
    "- Item: A list of different ecosystems\n",
    "- Element Code: One specific munber per element\n",
    "- Element: What was actually calculated, measured or estimated\n",
    "- Year Code: One specific number per year (same as the year)\n",
    "- Year: The actual year\n",
    "- Unit: What is the unit of the value of \"Value\"\n",
    "- Value: The value found for the element\n",
    "- Flag: Info on where the data comes from (Fc, A, NaN, F)\n",
    "\n",
    "There is a total of 50'000 rows.\n",
    "\n",
    "All the years are registred since 1990 until 2014. There is then prediction for year 2030 and 2050.\n",
    "\n",
    "There is a total of 275 countries"
   ]
  },
  {
   "cell_type": "markdown",
   "metadata": {},
   "source": [
    "#### Selection of useful data\n",
    "As we are only interested in the area lost to burnings. We can do a first selection:"
   ]
  },
  {
   "cell_type": "code",
   "execution_count": 241,
   "metadata": {},
   "outputs": [
    {
     "data": {
      "text/html": [
       "<div>\n",
       "<style scoped>\n",
       "    .dataframe tbody tr th:only-of-type {\n",
       "        vertical-align: middle;\n",
       "    }\n",
       "\n",
       "    .dataframe tbody tr th {\n",
       "        vertical-align: top;\n",
       "    }\n",
       "\n",
       "    .dataframe thead th {\n",
       "        text-align: right;\n",
       "    }\n",
       "</style>\n",
       "<table border=\"1\" class=\"dataframe\">\n",
       "  <thead>\n",
       "    <tr style=\"text-align: right;\">\n",
       "      <th></th>\n",
       "      <th>Country Code</th>\n",
       "      <th>Country</th>\n",
       "      <th>Item Code</th>\n",
       "      <th>Item</th>\n",
       "      <th>Element Code</th>\n",
       "      <th>Element</th>\n",
       "      <th>Year Code</th>\n",
       "      <th>Year</th>\n",
       "      <th>Unit</th>\n",
       "      <th>Value</th>\n",
       "      <th>Flag</th>\n",
       "    </tr>\n",
       "  </thead>\n",
       "  <tbody>\n",
       "    <tr>\n",
       "      <td>0</td>\n",
       "      <td>2</td>\n",
       "      <td>Afghanistan</td>\n",
       "      <td>6760</td>\n",
       "      <td>Savanna</td>\n",
       "      <td>7246</td>\n",
       "      <td>Burned Area</td>\n",
       "      <td>1990</td>\n",
       "      <td>1990</td>\n",
       "      <td>Ha</td>\n",
       "      <td>0.9251</td>\n",
       "      <td>Fc</td>\n",
       "    </tr>\n",
       "    <tr>\n",
       "      <td>1</td>\n",
       "      <td>2</td>\n",
       "      <td>Afghanistan</td>\n",
       "      <td>6760</td>\n",
       "      <td>Savanna</td>\n",
       "      <td>7246</td>\n",
       "      <td>Burned Area</td>\n",
       "      <td>1991</td>\n",
       "      <td>1991</td>\n",
       "      <td>Ha</td>\n",
       "      <td>0.9251</td>\n",
       "      <td>Fc</td>\n",
       "    </tr>\n",
       "    <tr>\n",
       "      <td>2</td>\n",
       "      <td>2</td>\n",
       "      <td>Afghanistan</td>\n",
       "      <td>6760</td>\n",
       "      <td>Savanna</td>\n",
       "      <td>7246</td>\n",
       "      <td>Burned Area</td>\n",
       "      <td>1992</td>\n",
       "      <td>1992</td>\n",
       "      <td>Ha</td>\n",
       "      <td>0.9251</td>\n",
       "      <td>Fc</td>\n",
       "    </tr>\n",
       "    <tr>\n",
       "      <td>3</td>\n",
       "      <td>2</td>\n",
       "      <td>Afghanistan</td>\n",
       "      <td>6760</td>\n",
       "      <td>Savanna</td>\n",
       "      <td>7246</td>\n",
       "      <td>Burned Area</td>\n",
       "      <td>1993</td>\n",
       "      <td>1993</td>\n",
       "      <td>Ha</td>\n",
       "      <td>0.9251</td>\n",
       "      <td>Fc</td>\n",
       "    </tr>\n",
       "    <tr>\n",
       "      <td>4</td>\n",
       "      <td>2</td>\n",
       "      <td>Afghanistan</td>\n",
       "      <td>6760</td>\n",
       "      <td>Savanna</td>\n",
       "      <td>7246</td>\n",
       "      <td>Burned Area</td>\n",
       "      <td>1994</td>\n",
       "      <td>1994</td>\n",
       "      <td>Ha</td>\n",
       "      <td>0.9251</td>\n",
       "      <td>Fc</td>\n",
       "    </tr>\n",
       "  </tbody>\n",
       "</table>\n",
       "</div>"
      ],
      "text/plain": [
       "   Country Code      Country  Item Code     Item  Element Code      Element  \\\n",
       "0             2  Afghanistan       6760  Savanna          7246  Burned Area   \n",
       "1             2  Afghanistan       6760  Savanna          7246  Burned Area   \n",
       "2             2  Afghanistan       6760  Savanna          7246  Burned Area   \n",
       "3             2  Afghanistan       6760  Savanna          7246  Burned Area   \n",
       "4             2  Afghanistan       6760  Savanna          7246  Burned Area   \n",
       "\n",
       "   Year Code  Year Unit   Value Flag  \n",
       "0       1990  1990   Ha  0.9251   Fc  \n",
       "1       1991  1991   Ha  0.9251   Fc  \n",
       "2       1992  1992   Ha  0.9251   Fc  \n",
       "3       1993  1993   Ha  0.9251   Fc  \n",
       "4       1994  1994   Ha  0.9251   Fc  "
      ]
     },
     "execution_count": 241,
     "metadata": {},
     "output_type": "execute_result"
    }
   ],
   "source": [
    "savanna.head(50)\n",
    "savannaSurface = savanna[savanna['Element'].str.match('Burned Area')].head(50000)\n",
    "savannaSurface.head()"
   ]
  },
  {
   "cell_type": "code",
   "execution_count": 242,
   "metadata": {},
   "outputs": [
    {
     "data": {
      "text/plain": [
       "0                         Savanna\n",
       "207                 Woody savanna\n",
       "444              Closed shrubland\n",
       "685                Open shrubland\n",
       "928                     Grassland\n",
       "1169     Burning - all categories\n",
       "1358    Savanna and woody savanna\n",
       "1547    Closed and open shrubland\n",
       "Name: Item, dtype: object"
      ]
     },
     "execution_count": 242,
     "metadata": {},
     "output_type": "execute_result"
    }
   ],
   "source": [
    "savanna.Item.drop_duplicates()\n"
   ]
  },
  {
   "cell_type": "markdown",
   "metadata": {},
   "source": [
    "Here is a list of all the different type of ecosystem on which we have data. It seems to contain 2 types of savana, two type of shrubland and grassland. In addition, the tree last categories are aparently agglomeration of the other items.\n",
    "Lets verify that:\n",
    "- The Savanna and woody savanna contains the values under the item Savanna and woody savanna.\n",
    "- Closed and open shrubland contains the values under the item closed shrubland and open shrubland.\n",
    "- Burning - all categories is a sum of all the types of ecosystem.\n",
    "\n",
    "To do that:"
   ]
  },
  {
   "cell_type": "code",
   "execution_count": 249,
   "metadata": {},
   "outputs": [
    {
     "name": "stdout",
     "output_type": "stream",
     "text": [
      "Total Savana :  28808703.812 28808703.812\n",
      "Total shrubland :  1138970.0815 1138970.0815\n",
      "Total Surfaces :  34143614.0124 34143614.0124\n"
     ]
    }
   ],
   "source": [
    "NA_90 = savannaSurface.Value[(savannaSurface['Year']==1990)  & (savannaSurface['Country']=='Northern Africa')].tolist()\n",
    "print('Total Savana : ', S_NA_90[0]+S_NA_90[1], S_NA_90[6])\n",
    "print('Total shrubland : ', S_NA_90[2]+S_NA_90[3],S_NA_90[7])\n",
    "print('Total Surfaces : ', sum(S_NA_90[:5]),S_NA_90[5])"
   ]
  },
  {
   "cell_type": "markdown",
   "metadata": {},
   "source": [
    "Our hypothesis were indeed correct. There are three main categories: Savana, Shrubland and grassland with subcategories. We also have the total surfaces burned in \"Burning - all categories\"."
   ]
  },
  {
   "cell_type": "markdown",
   "metadata": {},
   "source": [
    "Now we want to get rid of all the useless column:\n",
    "- Flag: It won't directly interest us. Just good to keep in mind that not all our data was collected in the same way\n",
    "- Unit: We are only dealing with [ha] now\n",
    "- Year Code: do not give more information than the column \"Year\"\n",
    "- Element: We only consider Burned Area, so no need to keep it in the dataframe\n",
    "- Element Code: Same reason as for Element"
   ]
  },
  {
   "cell_type": "code",
   "execution_count": 250,
   "metadata": {},
   "outputs": [],
   "source": [
    "savanna = savannaSurface.drop(['Flag', 'Unit','Year Code', 'Element', 'Element Code'], axis=1).rename(columns={\"Value\": \"Burned Area\"})"
   ]
  },
  {
   "cell_type": "code",
   "execution_count": 251,
   "metadata": {},
   "outputs": [
    {
     "data": {
      "text/html": [
       "<div>\n",
       "<style scoped>\n",
       "    .dataframe tbody tr th:only-of-type {\n",
       "        vertical-align: middle;\n",
       "    }\n",
       "\n",
       "    .dataframe tbody tr th {\n",
       "        vertical-align: top;\n",
       "    }\n",
       "\n",
       "    .dataframe thead th {\n",
       "        text-align: right;\n",
       "    }\n",
       "</style>\n",
       "<table border=\"1\" class=\"dataframe\">\n",
       "  <thead>\n",
       "    <tr style=\"text-align: right;\">\n",
       "      <th></th>\n",
       "      <th>Country Code</th>\n",
       "      <th>Country</th>\n",
       "      <th>Item Code</th>\n",
       "      <th>Item</th>\n",
       "      <th>Year</th>\n",
       "      <th>Burned Area</th>\n",
       "    </tr>\n",
       "  </thead>\n",
       "  <tbody>\n",
       "    <tr>\n",
       "      <td>0</td>\n",
       "      <td>2</td>\n",
       "      <td>Afghanistan</td>\n",
       "      <td>6760</td>\n",
       "      <td>Savanna</td>\n",
       "      <td>1990</td>\n",
       "      <td>0.9251</td>\n",
       "    </tr>\n",
       "    <tr>\n",
       "      <td>1</td>\n",
       "      <td>2</td>\n",
       "      <td>Afghanistan</td>\n",
       "      <td>6760</td>\n",
       "      <td>Savanna</td>\n",
       "      <td>1991</td>\n",
       "      <td>0.9251</td>\n",
       "    </tr>\n",
       "    <tr>\n",
       "      <td>2</td>\n",
       "      <td>2</td>\n",
       "      <td>Afghanistan</td>\n",
       "      <td>6760</td>\n",
       "      <td>Savanna</td>\n",
       "      <td>1992</td>\n",
       "      <td>0.9251</td>\n",
       "    </tr>\n",
       "    <tr>\n",
       "      <td>3</td>\n",
       "      <td>2</td>\n",
       "      <td>Afghanistan</td>\n",
       "      <td>6760</td>\n",
       "      <td>Savanna</td>\n",
       "      <td>1993</td>\n",
       "      <td>0.9251</td>\n",
       "    </tr>\n",
       "    <tr>\n",
       "      <td>4</td>\n",
       "      <td>2</td>\n",
       "      <td>Afghanistan</td>\n",
       "      <td>6760</td>\n",
       "      <td>Savanna</td>\n",
       "      <td>1994</td>\n",
       "      <td>0.9251</td>\n",
       "    </tr>\n",
       "  </tbody>\n",
       "</table>\n",
       "</div>"
      ],
      "text/plain": [
       "   Country Code      Country  Item Code     Item  Year  Burned Area\n",
       "0             2  Afghanistan       6760  Savanna  1990       0.9251\n",
       "1             2  Afghanistan       6760  Savanna  1991       0.9251\n",
       "2             2  Afghanistan       6760  Savanna  1992       0.9251\n",
       "3             2  Afghanistan       6760  Savanna  1993       0.9251\n",
       "4             2  Afghanistan       6760  Savanna  1994       0.9251"
      ]
     },
     "execution_count": 251,
     "metadata": {},
     "output_type": "execute_result"
    }
   ],
   "source": [
    "savanna.head()"
   ]
  },
  {
   "cell_type": "markdown",
   "metadata": {},
   "source": [
    "#### Analysis of the desired value:\n",
    "In this dataset, only the total burned area interests us. Here is the description of the values:"
   ]
  },
  {
   "cell_type": "code",
   "execution_count": 252,
   "metadata": {},
   "outputs": [
    {
     "data": {
      "text/plain": [
       "count    5.000000e+04\n",
       "mean     1.612733e+06\n",
       "std      1.367873e+07\n",
       "min      0.000000e+00\n",
       "25%      0.000000e+00\n",
       "50%      7.599320e+01\n",
       "75%      1.165686e+04\n",
       "max      3.472483e+08\n",
       "Name: Burned Area, dtype: float64"
      ]
     },
     "execution_count": 252,
     "metadata": {},
     "output_type": "execute_result"
    }
   ],
   "source": [
    "savanna['Burned Area'].describe()"
   ]
  },
  {
   "cell_type": "markdown",
   "metadata": {},
   "source": [
    "We realize that we have a lot of value with 0 ha of area burned."
   ]
  },
  {
   "cell_type": "markdown",
   "metadata": {},
   "source": [
    "### Crops"
   ]
  },
  {
   "cell_type": "code",
   "execution_count": 5,
   "metadata": {},
   "outputs": [
    {
     "data": {
      "text/plain": [
       "country_or_area     object\n",
       "element_code        object\n",
       "element             object\n",
       "year               float64\n",
       "unit                object\n",
       "value              float64\n",
       "value_footnotes     object\n",
       "category            object\n",
       "dtype: object"
      ]
     },
     "execution_count": 5,
     "metadata": {},
     "output_type": "execute_result"
    }
   ],
   "source": [
    "crops.dtypes"
   ]
  },
  {
   "cell_type": "code",
   "execution_count": 6,
   "metadata": {},
   "outputs": [
    {
     "data": {
      "text/html": [
       "<div>\n",
       "<style scoped>\n",
       "    .dataframe tbody tr th:only-of-type {\n",
       "        vertical-align: middle;\n",
       "    }\n",
       "\n",
       "    .dataframe tbody tr th {\n",
       "        vertical-align: top;\n",
       "    }\n",
       "\n",
       "    .dataframe thead th {\n",
       "        text-align: right;\n",
       "    }\n",
       "</style>\n",
       "<table border=\"1\" class=\"dataframe\">\n",
       "  <thead>\n",
       "    <tr style=\"text-align: right;\">\n",
       "      <th></th>\n",
       "      <th>country_or_area</th>\n",
       "      <th>element_code</th>\n",
       "      <th>element</th>\n",
       "      <th>year</th>\n",
       "      <th>unit</th>\n",
       "      <th>value</th>\n",
       "      <th>value_footnotes</th>\n",
       "      <th>category</th>\n",
       "    </tr>\n",
       "  </thead>\n",
       "  <tbody>\n",
       "    <tr>\n",
       "      <td>0</td>\n",
       "      <td>Americas +</td>\n",
       "      <td>31</td>\n",
       "      <td>Area Harvested</td>\n",
       "      <td>2007.0</td>\n",
       "      <td>Ha</td>\n",
       "      <td>49404.0</td>\n",
       "      <td>A</td>\n",
       "      <td>agave_fibres_nes</td>\n",
       "    </tr>\n",
       "    <tr>\n",
       "      <td>1</td>\n",
       "      <td>Americas +</td>\n",
       "      <td>31</td>\n",
       "      <td>Area Harvested</td>\n",
       "      <td>2006.0</td>\n",
       "      <td>Ha</td>\n",
       "      <td>49404.0</td>\n",
       "      <td>A</td>\n",
       "      <td>agave_fibres_nes</td>\n",
       "    </tr>\n",
       "    <tr>\n",
       "      <td>2</td>\n",
       "      <td>Americas +</td>\n",
       "      <td>31</td>\n",
       "      <td>Area Harvested</td>\n",
       "      <td>2005.0</td>\n",
       "      <td>Ha</td>\n",
       "      <td>49404.0</td>\n",
       "      <td>A</td>\n",
       "      <td>agave_fibres_nes</td>\n",
       "    </tr>\n",
       "    <tr>\n",
       "      <td>3</td>\n",
       "      <td>Americas +</td>\n",
       "      <td>31</td>\n",
       "      <td>Area Harvested</td>\n",
       "      <td>2004.0</td>\n",
       "      <td>Ha</td>\n",
       "      <td>49113.0</td>\n",
       "      <td>A</td>\n",
       "      <td>agave_fibres_nes</td>\n",
       "    </tr>\n",
       "    <tr>\n",
       "      <td>4</td>\n",
       "      <td>Americas +</td>\n",
       "      <td>31</td>\n",
       "      <td>Area Harvested</td>\n",
       "      <td>2003.0</td>\n",
       "      <td>Ha</td>\n",
       "      <td>48559.0</td>\n",
       "      <td>A</td>\n",
       "      <td>agave_fibres_nes</td>\n",
       "    </tr>\n",
       "  </tbody>\n",
       "</table>\n",
       "</div>"
      ],
      "text/plain": [
       "  country_or_area element_code         element    year unit    value  \\\n",
       "0      Americas +           31  Area Harvested  2007.0   Ha  49404.0   \n",
       "1      Americas +           31  Area Harvested  2006.0   Ha  49404.0   \n",
       "2      Americas +           31  Area Harvested  2005.0   Ha  49404.0   \n",
       "3      Americas +           31  Area Harvested  2004.0   Ha  49113.0   \n",
       "4      Americas +           31  Area Harvested  2003.0   Ha  48559.0   \n",
       "\n",
       "  value_footnotes          category  \n",
       "0              A   agave_fibres_nes  \n",
       "1              A   agave_fibres_nes  \n",
       "2              A   agave_fibres_nes  \n",
       "3              A   agave_fibres_nes  \n",
       "4              A   agave_fibres_nes  "
      ]
     },
     "execution_count": 6,
     "metadata": {},
     "output_type": "execute_result"
    }
   ],
   "source": [
    "crops.head(5)"
   ]
  },
  {
   "cell_type": "markdown",
   "metadata": {},
   "source": [
    "### Forests"
   ]
  },
  {
   "cell_type": "code",
   "execution_count": 7,
   "metadata": {},
   "outputs": [
    {
     "data": {
      "text/plain": [
       "Country Code      int64\n",
       "Country          object\n",
       "Item Code         int64\n",
       "Item             object\n",
       "Element Code      int64\n",
       "Element          object\n",
       "Year Code         int64\n",
       "Year              int64\n",
       "Unit             object\n",
       "Value           float64\n",
       "Flag             object\n",
       "dtype: object"
      ]
     },
     "execution_count": 7,
     "metadata": {},
     "output_type": "execute_result"
    }
   ],
   "source": [
    "forests.dtypes"
   ]
  },
  {
   "cell_type": "code",
   "execution_count": 8,
   "metadata": {},
   "outputs": [
    {
     "data": {
      "text/html": [
       "<div>\n",
       "<style scoped>\n",
       "    .dataframe tbody tr th:only-of-type {\n",
       "        vertical-align: middle;\n",
       "    }\n",
       "\n",
       "    .dataframe tbody tr th {\n",
       "        vertical-align: top;\n",
       "    }\n",
       "\n",
       "    .dataframe thead th {\n",
       "        text-align: right;\n",
       "    }\n",
       "</style>\n",
       "<table border=\"1\" class=\"dataframe\">\n",
       "  <thead>\n",
       "    <tr style=\"text-align: right;\">\n",
       "      <th></th>\n",
       "      <th>Country Code</th>\n",
       "      <th>Country</th>\n",
       "      <th>Item Code</th>\n",
       "      <th>Item</th>\n",
       "      <th>Element Code</th>\n",
       "      <th>Element</th>\n",
       "      <th>Year Code</th>\n",
       "      <th>Year</th>\n",
       "      <th>Unit</th>\n",
       "      <th>Value</th>\n",
       "      <th>Flag</th>\n",
       "    </tr>\n",
       "  </thead>\n",
       "  <tbody>\n",
       "    <tr>\n",
       "      <td>0</td>\n",
       "      <td>2</td>\n",
       "      <td>Afghanistan</td>\n",
       "      <td>6661</td>\n",
       "      <td>Forest</td>\n",
       "      <td>5110</td>\n",
       "      <td>Area</td>\n",
       "      <td>1990</td>\n",
       "      <td>1990</td>\n",
       "      <td>1000 Ha</td>\n",
       "      <td>1350.0</td>\n",
       "      <td>F</td>\n",
       "    </tr>\n",
       "    <tr>\n",
       "      <td>1</td>\n",
       "      <td>2</td>\n",
       "      <td>Afghanistan</td>\n",
       "      <td>6661</td>\n",
       "      <td>Forest</td>\n",
       "      <td>5110</td>\n",
       "      <td>Area</td>\n",
       "      <td>1991</td>\n",
       "      <td>1991</td>\n",
       "      <td>1000 Ha</td>\n",
       "      <td>1350.0</td>\n",
       "      <td>F</td>\n",
       "    </tr>\n",
       "    <tr>\n",
       "      <td>2</td>\n",
       "      <td>2</td>\n",
       "      <td>Afghanistan</td>\n",
       "      <td>6661</td>\n",
       "      <td>Forest</td>\n",
       "      <td>5110</td>\n",
       "      <td>Area</td>\n",
       "      <td>1992</td>\n",
       "      <td>1992</td>\n",
       "      <td>1000 Ha</td>\n",
       "      <td>1350.0</td>\n",
       "      <td>F</td>\n",
       "    </tr>\n",
       "    <tr>\n",
       "      <td>3</td>\n",
       "      <td>2</td>\n",
       "      <td>Afghanistan</td>\n",
       "      <td>6661</td>\n",
       "      <td>Forest</td>\n",
       "      <td>5110</td>\n",
       "      <td>Area</td>\n",
       "      <td>1993</td>\n",
       "      <td>1993</td>\n",
       "      <td>1000 Ha</td>\n",
       "      <td>1350.0</td>\n",
       "      <td>F</td>\n",
       "    </tr>\n",
       "    <tr>\n",
       "      <td>4</td>\n",
       "      <td>2</td>\n",
       "      <td>Afghanistan</td>\n",
       "      <td>6661</td>\n",
       "      <td>Forest</td>\n",
       "      <td>5110</td>\n",
       "      <td>Area</td>\n",
       "      <td>1994</td>\n",
       "      <td>1994</td>\n",
       "      <td>1000 Ha</td>\n",
       "      <td>1350.0</td>\n",
       "      <td>F</td>\n",
       "    </tr>\n",
       "  </tbody>\n",
       "</table>\n",
       "</div>"
      ],
      "text/plain": [
       "   Country Code      Country  Item Code    Item  Element Code Element  \\\n",
       "0             2  Afghanistan       6661  Forest          5110    Area   \n",
       "1             2  Afghanistan       6661  Forest          5110    Area   \n",
       "2             2  Afghanistan       6661  Forest          5110    Area   \n",
       "3             2  Afghanistan       6661  Forest          5110    Area   \n",
       "4             2  Afghanistan       6661  Forest          5110    Area   \n",
       "\n",
       "   Year Code  Year     Unit   Value Flag  \n",
       "0       1990  1990  1000 Ha  1350.0    F  \n",
       "1       1991  1991  1000 Ha  1350.0    F  \n",
       "2       1992  1992  1000 Ha  1350.0    F  \n",
       "3       1993  1993  1000 Ha  1350.0    F  \n",
       "4       1994  1994  1000 Ha  1350.0    F  "
      ]
     },
     "execution_count": 8,
     "metadata": {},
     "output_type": "execute_result"
    }
   ],
   "source": [
    "forests.head(5)"
   ]
  },
  {
   "cell_type": "markdown",
   "metadata": {},
   "source": [
    "### Livestock"
   ]
  },
  {
   "cell_type": "code",
   "execution_count": 9,
   "metadata": {},
   "outputs": [
    {
     "data": {
      "text/plain": [
       "Area Code         int64\n",
       "Area             object\n",
       "Item Code         int64\n",
       "Item             object\n",
       "Element Code      int64\n",
       "Element          object\n",
       "Year Code         int64\n",
       "Year              int64\n",
       "Unit             object\n",
       "Value           float64\n",
       "Flag             object\n",
       "dtype: object"
      ]
     },
     "execution_count": 9,
     "metadata": {},
     "output_type": "execute_result"
    }
   ],
   "source": [
    "livestock.dtypes"
   ]
  },
  {
   "cell_type": "code",
   "execution_count": 10,
   "metadata": {},
   "outputs": [
    {
     "data": {
      "text/html": [
       "<div>\n",
       "<style scoped>\n",
       "    .dataframe tbody tr th:only-of-type {\n",
       "        vertical-align: middle;\n",
       "    }\n",
       "\n",
       "    .dataframe tbody tr th {\n",
       "        vertical-align: top;\n",
       "    }\n",
       "\n",
       "    .dataframe thead th {\n",
       "        text-align: right;\n",
       "    }\n",
       "</style>\n",
       "<table border=\"1\" class=\"dataframe\">\n",
       "  <thead>\n",
       "    <tr style=\"text-align: right;\">\n",
       "      <th></th>\n",
       "      <th>Area Code</th>\n",
       "      <th>Area</th>\n",
       "      <th>Item Code</th>\n",
       "      <th>Item</th>\n",
       "      <th>Element Code</th>\n",
       "      <th>Element</th>\n",
       "      <th>Year Code</th>\n",
       "      <th>Year</th>\n",
       "      <th>Unit</th>\n",
       "      <th>Value</th>\n",
       "      <th>Flag</th>\n",
       "    </tr>\n",
       "  </thead>\n",
       "  <tbody>\n",
       "    <tr>\n",
       "      <td>0</td>\n",
       "      <td>2</td>\n",
       "      <td>Afghanistan</td>\n",
       "      <td>231</td>\n",
       "      <td>Almonds shelled</td>\n",
       "      <td>5910</td>\n",
       "      <td>Export Quantity</td>\n",
       "      <td>1961</td>\n",
       "      <td>1961</td>\n",
       "      <td>tonnes</td>\n",
       "      <td>0.0</td>\n",
       "      <td>NaN</td>\n",
       "    </tr>\n",
       "    <tr>\n",
       "      <td>1</td>\n",
       "      <td>2</td>\n",
       "      <td>Afghanistan</td>\n",
       "      <td>231</td>\n",
       "      <td>Almonds shelled</td>\n",
       "      <td>5910</td>\n",
       "      <td>Export Quantity</td>\n",
       "      <td>1962</td>\n",
       "      <td>1962</td>\n",
       "      <td>tonnes</td>\n",
       "      <td>0.0</td>\n",
       "      <td>NaN</td>\n",
       "    </tr>\n",
       "    <tr>\n",
       "      <td>2</td>\n",
       "      <td>2</td>\n",
       "      <td>Afghanistan</td>\n",
       "      <td>231</td>\n",
       "      <td>Almonds shelled</td>\n",
       "      <td>5910</td>\n",
       "      <td>Export Quantity</td>\n",
       "      <td>1963</td>\n",
       "      <td>1963</td>\n",
       "      <td>tonnes</td>\n",
       "      <td>0.0</td>\n",
       "      <td>NaN</td>\n",
       "    </tr>\n",
       "    <tr>\n",
       "      <td>3</td>\n",
       "      <td>2</td>\n",
       "      <td>Afghanistan</td>\n",
       "      <td>231</td>\n",
       "      <td>Almonds shelled</td>\n",
       "      <td>5910</td>\n",
       "      <td>Export Quantity</td>\n",
       "      <td>1964</td>\n",
       "      <td>1964</td>\n",
       "      <td>tonnes</td>\n",
       "      <td>0.0</td>\n",
       "      <td>NaN</td>\n",
       "    </tr>\n",
       "    <tr>\n",
       "      <td>4</td>\n",
       "      <td>2</td>\n",
       "      <td>Afghanistan</td>\n",
       "      <td>231</td>\n",
       "      <td>Almonds shelled</td>\n",
       "      <td>5910</td>\n",
       "      <td>Export Quantity</td>\n",
       "      <td>1965</td>\n",
       "      <td>1965</td>\n",
       "      <td>tonnes</td>\n",
       "      <td>0.0</td>\n",
       "      <td>NaN</td>\n",
       "    </tr>\n",
       "  </tbody>\n",
       "</table>\n",
       "</div>"
      ],
      "text/plain": [
       "   Area Code         Area  Item Code             Item  Element Code  \\\n",
       "0          2  Afghanistan        231  Almonds shelled          5910   \n",
       "1          2  Afghanistan        231  Almonds shelled          5910   \n",
       "2          2  Afghanistan        231  Almonds shelled          5910   \n",
       "3          2  Afghanistan        231  Almonds shelled          5910   \n",
       "4          2  Afghanistan        231  Almonds shelled          5910   \n",
       "\n",
       "           Element  Year Code  Year    Unit  Value Flag  \n",
       "0  Export Quantity       1961  1961  tonnes    0.0  NaN  \n",
       "1  Export Quantity       1962  1962  tonnes    0.0  NaN  \n",
       "2  Export Quantity       1963  1963  tonnes    0.0  NaN  \n",
       "3  Export Quantity       1964  1964  tonnes    0.0  NaN  \n",
       "4  Export Quantity       1965  1965  tonnes    0.0  NaN  "
      ]
     },
     "execution_count": 10,
     "metadata": {},
     "output_type": "execute_result"
    }
   ],
   "source": [
    "livestock.head(5)"
   ]
  },
  {
   "cell_type": "code",
   "execution_count": null,
   "metadata": {},
   "outputs": [],
   "source": []
  },
  {
   "cell_type": "code",
   "execution_count": null,
   "metadata": {},
   "outputs": [],
   "source": []
  }
 ],
 "metadata": {
  "kernelspec": {
   "display_name": "Python 3",
   "language": "python",
   "name": "python3"
  },
  "language_info": {
   "codemirror_mode": {
    "name": "ipython",
    "version": 3
   },
   "file_extension": ".py",
   "mimetype": "text/x-python",
   "name": "python",
   "nbconvert_exporter": "python",
   "pygments_lexer": "ipython3",
   "version": "3.7.4"
  }
 },
 "nbformat": 4,
 "nbformat_minor": 4
}
